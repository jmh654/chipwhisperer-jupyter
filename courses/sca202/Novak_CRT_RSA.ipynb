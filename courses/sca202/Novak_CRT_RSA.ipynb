{
 "cells": [
  {
   "cell_type": "markdown",
   "id": "368cd1b8-83cd-46dd-b127-b3df4dda78c3",
   "metadata": {},
   "source": [
    "### Setup"
   ]
  },
  {
   "cell_type": "code",
   "execution_count": 3,
   "id": "137e4397-2d83-45de-ab1e-0feeb23ccd58",
   "metadata": {},
   "outputs": [],
   "source": [
    "SCOPETYPE = 'OPENADC'\n",
    "PLATFORM = 'CWLITEXMEGA'\n",
    "CRYPTO_TARGET = 'AVRCRYPTOLIB'"
   ]
  },
  {
   "cell_type": "code",
   "execution_count": 30,
   "id": "d52c0ff1-9bf9-4cb1-8ec8-fc87d9b9f65d",
   "metadata": {
    "scrolled": true
   },
   "outputs": [
    {
     "name": "stdout",
     "output_type": "stream",
     "text": [
      "SS_VER set to SS_VER_1_1\n",
      "SS_VER set to SS_VER_1_1\n",
      "SS_VER set to SS_VER_1_1\n",
      "SS_VER set to SS_VER_1_1\n",
      "make[1]: „.dep“ ist bereits aktuell.\n",
      "SS_VER set to SS_VER_1_1\n",
      "SS_VER set to SS_VER_1_1\n",
      ".\n",
      "Welcome to another exciting ChipWhisperer target build!!\n",
      "avr-gcc (GCC) 5.4.0\n",
      "Copyright (C) 2015 Free Software Foundation, Inc.\n",
      "Dies ist freie Software; die Kopierbedingungen stehen in den Quellen. Es\n",
      "gibt KEINE Garantie; auch nicht für MARKTGÄNGIGKEIT oder FÜR SPEZIELLE ZWECKE.\n",
      "\n",
      ".\n",
      "Compiling:\n",
      "-en     simpleserial-rsa.c ...\n",
      "-e Done!\n",
      ".\n",
      "Compiling:\n",
      "-en     simpleserial-rsa-xmega.c ...\n",
      "-e Done!\n",
      ".\n",
      "Compiling:\n",
      "-en     simpleserial-rsa-arm.c ...\n",
      "-e Done!\n",
      ".\n",
      "Compiling:\n",
      "-en     .././simpleserial/simpleserial.c ...\n",
      "-e Done!\n",
      ".\n",
      "Compiling:\n",
      "-en     .././hal/xmega/XMEGA_AES_driver.c ...\n",
      "-e Done!\n",
      ".\n",
      "Compiling:\n",
      "-en     .././hal/xmega/uart.c ...\n",
      "-e Done!\n",
      ".\n",
      "Compiling:\n",
      "-en     .././hal/xmega/usart_driver.c ...\n",
      "-e Done!\n",
      ".\n",
      "Compiling:\n",
      "-en     .././hal/xmega/xmega_hal.c ...\n",
      "-e Done!\n",
      ".\n",
      "Compiling:\n",
      "-en     .././crypto/avrcryptolib//rsa/rsa_basic.c ...\n",
      "-e Done!\n",
      ".\n",
      "Compiling:\n",
      "-en     .././crypto/avrcryptolib//bigint/bigint.c ...\n",
      "-e Done!\n",
      ".\n",
      "Compiling:\n",
      "-en     .././crypto/avrcryptolib//bigint/bigint_io.c ...\n",
      "-e Done!\n",
      ".\n",
      "Compiling:\n",
      "-en     .././crypto/avrcryptolib//test_src/hexdigit_tab_c.c ...\n",
      "-e Done!\n",
      ".\n",
      "Assembling: .././crypto/avrcryptolib//test_src/cli-basics.S\n",
      "avr-gcc -c -mmcu=atxmega128d3 -I. -x assembler-with-cpp -DF_CPU=7372800 -Wa,-gstabs,-adhlns=objdir-CWLITEXMEGA/cli-basics.lst -I.././simpleserial/ -I.././hal -I.././hal/xmega -I.././simpleserial/ -I.././crypto/ -I.././crypto/avrcryptolib//rsa -I.././crypto/avrcryptolib//bigint -I.././crypto/avrcryptolib//test_src .././crypto/avrcryptolib//test_src/cli-basics.S -o objdir-CWLITEXMEGA/cli-basics.o\n",
      ".\n",
      "Assembling: .././crypto/avrcryptolib//test_src/cli-hexdump.S\n",
      "avr-gcc -c -mmcu=atxmega128d3 -I. -x assembler-with-cpp -DF_CPU=7372800 -Wa,-gstabs,-adhlns=objdir-CWLITEXMEGA/cli-hexdump.lst -I.././simpleserial/ -I.././hal -I.././hal/xmega -I.././simpleserial/ -I.././crypto/ -I.././crypto/avrcryptolib//rsa -I.././crypto/avrcryptolib//bigint -I.././crypto/avrcryptolib//test_src .././crypto/avrcryptolib//test_src/cli-hexdump.S -o objdir-CWLITEXMEGA/cli-hexdump.o\n",
      ".\n",
      "LINKING:\n",
      "-en     simpleserial-rsa-CWLITEXMEGA.elf ...\n",
      "-e Done!\n",
      ".\n",
      "Creating load file for Flash: simpleserial-rsa-CWLITEXMEGA.hex\n",
      "avr-objcopy -O ihex -R .eeprom -R .fuse -R .lock -R .signature simpleserial-rsa-CWLITEXMEGA.elf simpleserial-rsa-CWLITEXMEGA.hex\n",
      ".\n",
      "Creating load file for Flash: simpleserial-rsa-CWLITEXMEGA.bin\n",
      "avr-objcopy -O binary -R .eeprom -R .fuse -R .lock -R .signature simpleserial-rsa-CWLITEXMEGA.elf simpleserial-rsa-CWLITEXMEGA.bin\n",
      ".\n",
      "Creating load file for EEPROM: simpleserial-rsa-CWLITEXMEGA.eep\n",
      "avr-objcopy -j .eeprom --set-section-flags=.eeprom=\"alloc,load\" \\\n",
      "--change-section-lma .eeprom=0 --no-change-warnings -O ihex simpleserial-rsa-CWLITEXMEGA.elf simpleserial-rsa-CWLITEXMEGA.eep || exit 0\n",
      ".\n",
      "Creating Extended Listing: simpleserial-rsa-CWLITEXMEGA.lss\n",
      "avr-objdump -h -S -z simpleserial-rsa-CWLITEXMEGA.elf > simpleserial-rsa-CWLITEXMEGA.lss\n",
      ".\n",
      "Creating Symbol Table: simpleserial-rsa-CWLITEXMEGA.sym\n",
      "avr-nm -n simpleserial-rsa-CWLITEXMEGA.elf > simpleserial-rsa-CWLITEXMEGA.sym\n",
      "SS_VER set to SS_VER_1_1\n",
      "SS_VER set to SS_VER_1_1\n",
      "Size after:\n",
      "   text\t   data\t    bss\t    dec\t    hex\tfilename\n",
      "  15328\t     50\t    127\t  15505\t   3c91\tsimpleserial-rsa-CWLITEXMEGA.elf\n",
      "+--------------------------------------------------------\n",
      "+ Default target does full rebuild each time.\n",
      "+ Specify buildtarget == allquick == to avoid full rebuild\n",
      "+--------------------------------------------------------\n",
      "+--------------------------------------------------------\n",
      "+ Built for platform CW-Lite XMEGA with:\n",
      "+ CRYPTO_TARGET = AVRCRYPTOLIB\n",
      "+ CRYPTO_OPTIONS = RSA\n",
      "+--------------------------------------------------------\n"
     ]
    }
   ],
   "source": [
    "%%bash -s \"$PLATFORM\" \"$CRYPTO_TARGET\"\n",
    "cd ../../../hardware/victims/firmware/simpleserial-rsa\n",
    "#make clean PLATFORM=$1 CRYPTO_TARGET=$2\n",
    "make PLATFORM=$1 CRYPTO_TARGET=$2"
   ]
  },
  {
   "cell_type": "code",
   "execution_count": 31,
   "id": "5a2c2883-ca4a-4757-9f9d-f3061dc58c75",
   "metadata": {
    "scrolled": true
   },
   "outputs": [
    {
     "name": "stdout",
     "output_type": "stream",
     "text": [
      "INFO: Found ChipWhisperer😍\n",
      "scope.adc.samples                        changed from 1000                      to 5000                     \n",
      "scope.clock.adc_src                      changed from clkgen_x1                 to clkgen_x4                \n"
     ]
    }
   ],
   "source": [
    "%run \"../../Setup_Scripts/Setup_Generic.ipynb\""
   ]
  },
  {
   "cell_type": "code",
   "execution_count": 32,
   "id": "b8b46591-2cbb-4a0b-a8d5-0fd4ab8c60c3",
   "metadata": {},
   "outputs": [],
   "source": [
    "fw_path = '../../../hardware/victims/firmware/simpleserial-rsa/simpleserial-rsa-CWLITEXMEGA.hex'"
   ]
  },
  {
   "cell_type": "code",
   "execution_count": 33,
   "id": "9001dd62-7f33-46fa-8a01-558f49178aa7",
   "metadata": {},
   "outputs": [
    {
     "name": "stdout",
     "output_type": "stream",
     "text": [
      "XMEGA Programming flash...\n",
      "XMEGA Reading flash...\n",
      "Verified flash OK, 15377 bytes\n"
     ]
    }
   ],
   "source": [
    "cw.program_target(scope, prog, fw_path)"
   ]
  },
  {
   "cell_type": "code",
   "execution_count": 17,
   "id": "8887d174-0f19-4b83-82a6-8bc5448afc59",
   "metadata": {},
   "outputs": [],
   "source": [
    "import numpy as np\n",
    "import time \n",
    "import matplotlib.pylab as plt\n",
    "import matplotlib"
   ]
  },
  {
   "cell_type": "code",
   "execution_count": null,
   "id": "6d9f9d94-28b8-42f3-856f-7dd75fd0453f",
   "metadata": {},
   "outputs": [],
   "source": [
    "e = 65537\n",
    "n = 3849453107"
   ]
  },
  {
   "cell_type": "code",
   "execution_count": 26,
   "id": "766a43a2-562e-4c84-a526-c27d24554626",
   "metadata": {},
   "outputs": [],
   "source": [
    "n = 3231080904348211197507744225057151739674198701955287013863366120571536075433289354791858611634080222605797512592173476389538288555005341834233505795734023\n",
    "e = 65537"
   ]
  },
  {
   "cell_type": "markdown",
   "id": "8f5a3317-9910-4192-beda-993eced04750",
   "metadata": {},
   "source": [
    "### find numbers"
   ]
  },
  {
   "cell_type": "code",
   "execution_count": null,
   "id": "91f9eb16-93bf-4d88-a574-1b120ffa1d3f",
   "metadata": {},
   "outputs": [],
   "source": [
    "threshold = 65535\n",
    "p = 62549\n",
    "q = 61543\n",
    "\n",
    "\n",
    "i = 0\n",
    "while True:\n",
    "    result = pow(i, e, n)\n",
    "    if result < threshold:\n",
    "        if (i % p) - (i % q) < 0:\n",
    "            break\n",
    "    i += 1\n",
    "\n",
    "\n",
    "print(i)\n"
   ]
  },
  {
   "cell_type": "code",
   "execution_count": null,
   "id": "69c9abf6-c732-4d17-952a-c4dd2ebc51f4",
   "metadata": {},
   "outputs": [],
   "source": [
    "def find_i_values(p, q, count=10):\n",
    "    i = 0  # Startwert\n",
    "    results = []\n",
    "    \n",
    "    while len(results) < count:\n",
    "        if (i % p) - (i % q) < 0:\n",
    "            results.append(i)\n",
    "        i += 1\n",
    "    \n",
    "    return results\n",
    "\n",
    "# Parameter p und q\n",
    "p = 62549\n",
    "q = 61543\n",
    "\n",
    "# Finde die ersten 10 Werte für i\n",
    "i_values = find_i_values(p, q)\n",
    "print(i_values)"
   ]
  },
  {
   "cell_type": "code",
   "execution_count": null,
   "id": "02c8b1b5-9b73-4667-bb2e-550885d32369",
   "metadata": {},
   "outputs": [],
   "source": [
    "x = (12424 ** e ) % n\n",
    "print (x)"
   ]
  },
  {
   "cell_type": "code",
   "execution_count": 1,
   "id": "e660b925-a049-4716-abc8-29c67d2c2252",
   "metadata": {},
   "outputs": [
    {
     "ename": "ModuleNotFoundError",
     "evalue": "No module named 'sympy'",
     "output_type": "error",
     "traceback": [
      "\u001b[0;31m---------------------------------------------------------------------------\u001b[0m",
      "\u001b[0;31mModuleNotFoundError\u001b[0m                       Traceback (most recent call last)",
      "Cell \u001b[0;32mIn[1], line 1\u001b[0m\n\u001b[0;32m----> 1\u001b[0m \u001b[38;5;28;01mfrom\u001b[39;00m \u001b[38;5;21;01msympy\u001b[39;00m \u001b[38;5;28;01mimport\u001b[39;00m nextprime\n\u001b[1;32m      3\u001b[0m \u001b[38;5;66;03m# Start with a random 31-byte number and search for a 32-byte prime\u001b[39;00m\n\u001b[1;32m      4\u001b[0m start_number \u001b[38;5;241m=\u001b[39m \u001b[38;5;28mint\u001b[39m(\u001b[38;5;124m'\u001b[39m\u001b[38;5;124mF\u001b[39m\u001b[38;5;124m'\u001b[39m \u001b[38;5;241m*\u001b[39m \u001b[38;5;241m62\u001b[39m, \u001b[38;5;241m16\u001b[39m)  \u001b[38;5;66;03m# A large number close to the 32-byte maximum\u001b[39;00m\n",
      "\u001b[0;31mModuleNotFoundError\u001b[0m: No module named 'sympy'"
     ]
    }
   ],
   "source": [
    "from sympy import nextprime\n",
    "\n",
    "# Start with a random 31-byte number and search for a 32-byte prime\n",
    "start_number = int('F' * 62, 16)  # A large number close to the 32-byte maximum\n",
    "prime_32_byte = nextprime(start_number)\n",
    "\n",
    "print(prime_32_byte)"
   ]
  },
  {
   "cell_type": "code",
   "execution_count": null,
   "id": "c3b17075-c594-4e9a-bcd2-fa08c86577c0",
   "metadata": {},
   "outputs": [],
   "source": [
    "\n",
    "c = 5684259762139843655781356425852695126552655458951556452711545265845156545461\n",
    "d = 452312848583266388373324160190187140051835877600158453279131187530910662737 \n",
    "def is_prime(n):\n",
    "    if n < 2:\n",
    "        return False\n",
    "    i = 2\n",
    "    while i*i <= n:\n",
    "        if n % i == 0:\n",
    "            return False\n",
    "        i += 1\n",
    "    return True\n",
    "\n",
    "#print(is_prime(11))  # True\n",
    "#print(is_prime(1))   # False\n",
    "\n",
    "#print(c, ' ist primezahl', is_prime(c)) \n",
    "print(d, ' ist primezahl', is_prime(d)) "
   ]
  },
  {
   "cell_type": "code",
   "execution_count": 3,
   "id": "009c8903-4659-4c98-b949-f722625d9e06",
   "metadata": {},
   "outputs": [
    {
     "name": "stdout",
     "output_type": "stream",
     "text": [
      "b'}\\xab\\xc5\\'.\\xf4\"o\\x8c\\x8c\\x07q\\xdcxI,\\xa1[CLf\\x08\\xe0\\xef\\x9c\\xa6\\xee\\x86\\xcbo%\\x1d'\n"
     ]
    }
   ],
   "source": [
    "c = 56842597621398436557813564258526951265526554589515564527115452658451565454621\n",
    "\n",
    "z = c.to_bytes(32,'big')\n",
    "\n",
    "print(z)\n",
    "\n",
    "d = 56842597621398436557813564258526951265526554589515564527115452658451565454963\n",
    "\n"
   ]
  },
  {
   "cell_type": "code",
   "execution_count": 2,
   "id": "a2503b6b-9662-4b84-abb6-5d51045850ab",
   "metadata": {},
   "outputs": [
    {
     "name": "stdout",
     "output_type": "stream",
     "text": [
      "p 56842597621398436557813564258526951265526554589515564527115452658451565454963 b'}\\xab\\xc5\\'.\\xf4\"o\\x8c\\x8c\\x07q\\xdcxI,\\xa1[CLf\\x08\\xe0\\xef\\x9c\\xa6\\xee\\x86\\xcbo&s' 0x7dabc5272ef4226f8c8c0771dc78492ca15b434c6608e0ef9ca6ee86cb6f2673\n",
      "q 56842597621398436557813564258526951265526554589515564527115452658451565454621 b'}\\xab\\xc5\\'.\\xf4\"o\\x8c\\x8c\\x07q\\xdcxI,\\xa1[CLf\\x08\\xe0\\xef\\x9c\\xa6\\xee\\x86\\xcbo%\\x1d' 0x7dabc5272ef4226f8c8c0771dc78492ca15b434c6608e0ef9ca6ee86cb6f251d\n",
      "N 3231080904348211197507744225057151739674198701955287013863366120571536075433289354791858611634080222605797512592173476389538288555005341834233505795734023 b'=\\xb11\\xc9>\\x08x\\n\\x04ES\\xd59Q\\x91\\xb5!QS5{\\xca\\xe3\\xda\\xf6\\xaaC\\x1a\\xac\\xb7H\\xad!b\\xdbuo\\x96r\\x12\\xc9rN\\x93\\xc6b\\xac\\xbb\\xb7w\\x8b\\x0e\\x95$\\xbe\\xdd\\x03\\xa4\\xe3\\x8c\\xf9\\x02\\xfa\\x07' 0x3db131c93e08780a044553d5395191b5215153357bcae3daf6aa431aacb748ad2162db756f967212c9724e93c662acbbb7778b0e9524bedd03a4e38cf902fa07\n",
      "e 65537 b'\\x00\\x00\\x00\\x00\\x00\\x00\\x00\\x00\\x00\\x00\\x00\\x00\\x00\\x00\\x00\\x00\\x00\\x00\\x00\\x00\\x00\\x00\\x00\\x00\\x00\\x00\\x00\\x00\\x00\\x01\\x00\\x01' 0x10001\n",
      "d 1852656640120803216197659528040612906808017437814910285898920794037523576645679163100258313427339175867757832623394158750466761913917189472921068937222833 b'#_\\x98\\xd6uUQ\\xcf\\x1c\\x87\\xcb\\xfb\\xf4\\xf3\\xca\\x82{j05\\xf8\\x97ks@\\x00|\\x9d\\xac\\xef#\"bf\\x16\\xd0:\\x19\\x0f\\x1e\\x16>\\x89J\\x1fK\\x8f\\xc9h|\\xcc[\\xe5A\\x98\\x02\\xc5\\xa4\\x84\\xbbA\\xc1\\x1a\\xb1' 0x235f98d6755551cf1c87cbfbf4f3ca827b6a3035f8976b7340007c9dacef2322626616d03a190f1e163e894a1f4b8fc9687ccc5be5419802c5a484bb41c11ab1\n",
      "dp 42226251814971434209944815538190405761053455455552821444414846768645413494283 b'][6)\\x86\\x92\\xeb\\xe5\\xec\\x05\\xb6\\x1e\\x1a\\x86\\xec\\xed\\x0f\\xad\\tP~\\xd8\\x07\\xa9X\\xb9\\x15\\xa6\\xe3\\x07^\\x0b' 0x5d5b36298692ebe5ec05b61e1a86eced0fad09507ed807a958b915a6e3075e0b\n",
      "dq 47798018101494521266834730193984493603489676013146974160013511154837836956813 b'i\\xac\\xb83S\\xcb\\\\\\xed\\x9a,\\xe1\\xd1\\xc0\\x07\\xb1\\xd8\\x82\\xb2\\xa0k\\xac\\xddHp\\x94\\xb4\\xd6\\x9c\\xa8\\x92\\x84\\x8d' 0x69acb83353cb5ced9a2ce1d1c007b1d882b2a06bacdd487094b4d69ca892848d\n",
      "qinv 21773041778956711079162505607798335133871282605925552494304457012447821855556 b'0#\\x1a\\xdc\\xdbW\\x86t\\x15\\xa5\\xea\\xe5\\xff\\xdd;w\\xa5\\x1a\\xb97vm\\xb1{8B\\xef\\x93q\\xda{D' 0x30231adcdb57867415a5eae5ffdd3b77a51ab937766db17b3842ef9371da7b44\n"
     ]
    }
   ],
   "source": [
    "# prime numbers with 32 bytes \n",
    "\n",
    "p = 56842597621398436557813564258526951265526554589515564527115452658451565454963\n",
    "pb = p.to_bytes(32,'big')\n",
    "print('p', p, pb, hex(p))\n",
    "q = 56842597621398436557813564258526951265526554589515564527115452658451565454621\n",
    "qb = q.to_bytes(32,'big')\n",
    "print('q', q, qb, hex(q))\n",
    "\n",
    "N = p*q\n",
    "#print(N) # 3231080904348211197507744225057151739674198701955287013863366120571536075433289354791858611634080222605797512592173476389538288555005341834233505795734023\n",
    "Nb = N.to_bytes(64,'big')\n",
    "print('N', N, Nb, hex(N))\n",
    "\n",
    "e = 65537\n",
    "eb = e.to_bytes(32,'big')\n",
    "print('e', e, eb, hex(e))\n",
    "\n",
    "euler = (p-1)*(q-1)\n",
    "#print(euler)\n",
    "# 3231080904348211197507744225057151739674198701955287013863366120571536075433175669596615814760964595477280458689642423280359257425951110928916602664824440\n",
    "\n",
    "#imversis zu e mod euler: e*d + k * euler = 1 = ggT(e, euler)\n",
    "# www.ardt-brunner.de : \n",
    "# -1378424264227407981310084697016538832866181264140376727964445326534012498787496506496357501333625419609522626066248264529892495512033921455995533727601607\n",
    "# * e +\n",
    "# 27959\n",
    "# * euler = 1 \n",
    "\n",
    "d_ = -1378424264227407981310084697016538832866181264140376727964445326534012498787496506496357501333625419609522626066248264529892495512033921455995533727601607\n",
    "\n",
    "d = d_ + euler\n",
    "# print(d)\n",
    "# 1852656640120803216197659528040612906808017437814910285898920794037523576645679163100258313427339175867757832623394158750466761913917189472921068937222833\n",
    "db = d.to_bytes(64,'big')\n",
    "print('d', d, db, hex(d))\n",
    "\n",
    "#test\n",
    "#t = (d * e ) % euler\n",
    "# print(t)\n",
    "\n",
    "dp = d % (p-1)\n",
    "#print(dp)\n",
    "#42226251814971434209944815538190405761053455455552821444414846768645413494283\n",
    "dpb = dp.to_bytes(32,'big')\n",
    "print('dp', dp, dpb, hex(dp))\n",
    "\n",
    "dq = d % (q-1)\n",
    "#print(dq)\n",
    "#47798018101494521266834730193984493603489676013146974160013511154837836956813\n",
    "dqb = dq.to_bytes(32,'big')\n",
    "print('dq', dq, dqb, hex(dq))\n",
    "\n",
    "\n",
    "qinv = pow(q, -1, p)\n",
    "#print(qinv)\n",
    "#21773041778956711079162505607798335133871282605925552494304457012447821855556\n",
    "qinvb = qinv.to_bytes(32,'big')\n",
    "print('qinv', qinv, qinvb, hex(qinv))\n",
    "\n",
    "#test\n",
    "#t2 =(qinv * q) % p\n",
    "#print(t2)"
   ]
  },
  {
   "cell_type": "code",
   "execution_count": null,
   "id": "eae03d05-bb63-4d8c-af21-b22c236cacbe",
   "metadata": {},
   "outputs": [],
   "source": [
    "# generate 8 byte numbers and get next prime number\n",
    "import random\n",
    "from sympy import nextprime\n",
    "\n",
    "#unsigned_8_byte = random.randint(0, 2**64 - 1)\n",
    "unsigned_8_byte = 6353019252147394183;\n",
    "print(unsigned_8_byte)\n",
    "\n",
    "\n",
    "\n",
    "#print(rand)\n",
    "prime1 = nextprime(unsigned_8_byte)\n",
    "print(\"p1:\", prime1)\n",
    "print(prime1.to_bytes(8,'big'))\n",
    "\n",
    "r = 14091828191315287468\n",
    "\n",
    "prime2 = nextprime(r)\n",
    "print('p2:', prime2)\n",
    "print(prime2.to_bytes(8,'big'))\n",
    "\n",
    "# p2 = 14091828191315287577\n"
   ]
  },
  {
   "cell_type": "code",
   "execution_count": 4,
   "id": "4e9df7b2-2bf2-43b9-96ce-07d3919817fc",
   "metadata": {},
   "outputs": [
    {
     "name": "stdout",
     "output_type": "stream",
     "text": [
      "p 14091828191315287507 b'\\xc3\\x90;\\x14\\x0b.\\xdd\\xd3' 0xc3903b140b2eddd3\n",
      "q 6353019252147394247 b'X*uY\\x9fv\\x96\\xc7' 0x582a75599f7696c7\n",
      "N 89525655797379415138998373505682772229 0x435a039df717d16071357bdd73aa1105\n",
      "e 65537 b'\\x00\\x00\\x00\\x00\\x00\\x00\\x00\\x00\\x00\\x00\\x00\\x00\\x00\\x00\\x00\\x00\\x00\\x00\\x00\\x00\\x00\\x00\\x00\\x00\\x00\\x00\\x00\\x00\\x00\\x01\\x00\\x01' 0x10001\n",
      "euler 89525655797379415118553526062220090476\n"
     ]
    }
   ],
   "source": [
    "# prime numbers with 8 bytes\n",
    "#p1: 6353019252147394247\n",
    "#p2: 14091828191315287507\n",
    "\n",
    "#p>q\n",
    "\n",
    "\n",
    "p = 14091828191315287507\n",
    "pb = p.to_bytes(8,'big')\n",
    "print('p', p, pb, hex(p))\n",
    "q =6353019252147394247\n",
    "qb = q.to_bytes(8,'big')\n",
    "print('q', q, qb, hex(q))\n",
    "\n",
    "N = p*q\n",
    "#print(N) # 89525655797379415138998373505682772229\n",
    "Nb = N.to_bytes(16,'big')\n",
    "print('N', N, Nb, hex(N))\n",
    "\n",
    "e = 65537\n",
    "eb = e.to_bytes(32,'big')\n",
    "print('e', e, eb, hex(e))\n",
    "\n",
    "euler = (p-1)*(q-1)\n",
    "print('euler', euler)\n",
    "# 89525655797379415118553526062220090476\n"
   ]
  },
  {
   "cell_type": "code",
   "execution_count": 6,
   "id": "9dd357e2-fe43-4995-8b2f-46e127502d2d",
   "metadata": {},
   "outputs": [
    {
     "name": "stdout",
     "output_type": "stream",
     "text": [
      "78459428511806828001727883835233122001\n",
      "d 78459428511806828001727883835233122001 b';\\x06\\xbc|\\xc8|\\xdbE\\xcd\\xc8\\\\Z\\x8f\\xb5\\xb6\\xd1' 0x3b06bc7cc87cdb45cdc85c5a8fb5b6d1\n",
      "1\n",
      "dp 5927267588107438781 b'RA\\xe2w\\xa5\\xd4\\x8a\\xbd' 0x5241e277a5d48abd\n",
      "dq 2516023234043145363 b'\"\\xea\\xb5\\xcd\\x07\\xc5l\\x93' 0x22eab5cd07c56c93\n",
      "qinv 907488296688955759 b'\\x0c\\x98\\x0b\\xcc9\\xf81o' 0xc980bcc39f8316f\n",
      "1\n"
     ]
    }
   ],
   "source": [
    "\n",
    "#imversis zu e mod euler: e*d + k * euler = 1 = ggT(e, euler)\n",
    "# www.ardt-brunner.de : \n",
    "# -11066227285572587116825642226986968475·65537 + 8101·89525655797379415118553526062220090476 = 1\n",
    "d_ = -11066227285572587116825642226986968475\n",
    "\n",
    "d = d_ + euler\n",
    "print(d)\n",
    "# \n",
    "db = d.to_bytes(16,'big')\n",
    "print('d', d, db, hex(d))\n",
    "\n",
    "#test\n",
    "t = (d * e ) % euler\n",
    "print(t)\n",
    "\n",
    "dp = d % (p-1)\n",
    "#print(dp)\n",
    "#\n",
    "dpb = dp.to_bytes(8,'big')\n",
    "print('dp', dp, dpb, hex(dp))\n",
    "\n",
    "dq = d % (q-1)\n",
    "#print(dq)\n",
    "#\n",
    "dqb = dq.to_bytes(8,'big')\n",
    "print('dq', dq, dqb, hex(dq))\n",
    "\n",
    "\n",
    "qinv = pow(q, -1, p)\n",
    "#print(qinv)\n",
    "#\n",
    "qinvb = qinv.to_bytes(8,'big')\n",
    "print('qinv', qinv, qinvb, hex(qinv))\n",
    "\n",
    "#test\n",
    "t2 =(qinv * q) % p\n",
    "print(t2)"
   ]
  },
  {
   "cell_type": "markdown",
   "id": "9ecc0c60-63d2-49c6-bdda-ff33a25b4908",
   "metadata": {},
   "source": [
    "### capture trace setup"
   ]
  },
  {
   "cell_type": "code",
   "execution_count": 22,
   "id": "52ca2002-146e-43f2-b699-d90e618e2b5e",
   "metadata": {},
   "outputs": [],
   "source": [
    "scope.clock.adc_src = \"clkgen_x1\"\n",
    "scope.adc.samples = 1000\n",
    "\n",
    "scope.adc.timeout = 100"
   ]
  },
  {
   "cell_type": "code",
   "execution_count": 23,
   "id": "4a98dcb7-3205-4a4a-8f69-396cf6885811",
   "metadata": {},
   "outputs": [],
   "source": [
    "import time\n",
    "\n",
    "def capture_RSA_trace(scope, target, text):\n",
    "    scope.arm()\n",
    "    target.simpleserial_write('h', text)\n",
    "\n",
    "    # get debug output\n",
    "    rec_str = target.read(1000, timeout=2000)\n",
    "    received_str = rec_str.replace(\"\\\\r\\\\n\", \"\\n\")\n",
    "    print(received_str)\n",
    "    \n",
    "    #while(1) targete.read(), print //für x sekunden\n",
    "    #t_end = time.time() + 3\n",
    "    #while time.time() < t_end:\n",
    "    #    print(target.read())\n",
    "    \n",
    "    ret = scope.capture()\n",
    "    if ret:\n",
    "        return None\n",
    "    target.simpleserial_wait_ack()\n",
    "    return scope.get_last_trace()"
   ]
  },
  {
   "cell_type": "markdown",
   "id": "cf418519-2488-4dd5-9e82-8d986d6e9c7b",
   "metadata": {},
   "source": [
    "### test numbers"
   ]
  },
  {
   "cell_type": "code",
   "execution_count": 24,
   "id": "d586dc8a-17c0-4906-99c2-5bfb43e66668",
   "metadata": {},
   "outputs": [
    {
     "name": "stderr",
     "output_type": "stream",
     "text": [
      "WARNING:root:SAM3U Serial buffers OVERRUN - data loss has occurred.\n"
     ]
    },
    {
     "name": "stdout",
     "output_type": "stream",
     "text": [
      "\n",
      "data:726c6421\n",
      "DBG: expmod m1 ...\n",
      "expmod(726c6421,5d5b36298692ebe5ec05b61e1a86eced0fad09507ed807a958b915a6e3075e0b,7dabc5272ef4226f8c8c0771dc78492ca15b434c6608e0ef9ca6ee86cb6f2673) = \n"
     ]
    },
    {
     "name": "stderr",
     "output_type": "stream",
     "text": [
      "(ChipWhisperer Target ERROR|File SimpleSerial.py:354) Ack error: 5464\n"
     ]
    },
    {
     "data": {
      "text/plain": [
       "[<matplotlib.lines.Line2D at 0x775176c52c50>]"
      ]
     },
     "execution_count": 24,
     "metadata": {},
     "output_type": "execute_result"
    },
    {
     "data": {
      "application/vnd.jupyter.widget-view+json": {
       "model_id": "4a47b76779844153b9142d6cc6b05712",
       "version_major": 2,
       "version_minor": 0
      },
      "image/png": "[encoded data removed]",
      "text/html": [
       "\n",
       "            <div style=\"display: inline-block;\">\n",
       "                <div class=\"jupyter-widgets widget-label\" style=\"text-align: center;\">\n",
       "                    Figure\n",
       "                </div>\n",
       "                <img src='data:image/png;base64,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' width=640.0/>\n",
       "            </div>\n",
       "        "
      ],
      "text/plain": [
       "Canvas(toolbar=Toolbar(toolitems=[('Home', 'Reset original view', 'home', 'home'), ('Back', 'Back to previous …"
      ]
     },
     "metadata": {},
     "output_type": "display_data"
    }
   ],
   "source": [
    "%matplotlib ipympl\n",
    "import matplotlib.pylab as plt\n",
    "    \n",
    "msg = bytearray([0x72, 0x6c, 0x64, 0x21])\n",
    "\n",
    "#msg = bytearray([0, 0x6c, 0x66, 0x7b])\n",
    "\n",
    "trace1_d0 = capture_RSA_trace(scope, target, msg)\n",
    "plt.figure()\n",
    "plt.plot(trace1_d0, 'r')"
   ]
  },
  {
   "cell_type": "code",
   "execution_count": 34,
   "id": "ab219223-5427-44a6-9c9c-26ed36f5d4b8",
   "metadata": {},
   "outputs": [
    {
     "name": "stdout",
     "output_type": "stream",
     "text": [
      "2620026021614164640209147084413832394114990716131493608046687556175006331427418653749553174979466062301616129751662518979446912011472593631641073260722334 b'2\\x06k\\xa1\\x17\\x15G\\x98\\xac\\xbe%\\xbe01U\\xdc\\x19W\\xc1\\xdbk\\xf6e\\xf8\\x9aB\\x82V\\xc4\\x95+z\\xd7\\x82\\xed\\xd8\\xdfq\\x15\\x87F\\xefG\\x05\\xa3H\\xf8\\x1e\\xe57q\\xbc&\"\\xb70\\xb7\\\\\\xf7\\x18\\xc5\\xe4x\\x9e' <class 'bytes'>\n",
      "\n",
      "data:32066ba117154798acbe25be303155dc1957c1db6bf665f89a428256c4952b7ad782edd8df71158746ef4705a348f81ee53771bc2622b730b75cf718c5e4789e\n",
      "DBG: expmod m1 ...\n",
      "expmod(32066ba117154798acbe25be303155dc1957c1db6bf665f89a428256c4952b7ad782edd8df71158746ef4705a348f81ee53771bc2622b730b75cf718c5e4789e,5d5b36298692ebe5ec05b61e1a86eced0fad09507ed807a958b915a6e3075e0b,7dabc5272ef4226f8c8c0771dc78492ca15b434c6608e0ef9ca6ee86cb6f2673) = \n"
     ]
    },
    {
     "name": "stderr",
     "output_type": "stream",
     "text": [
      "(ChipWhisperer Target ERROR|File SimpleSerial.py:354) Ack error: f45a\n"
     ]
    },
    {
     "data": {
      "text/plain": [
       "[<matplotlib.lines.Line2D at 0x775174bdac50>]"
      ]
     },
     "execution_count": 34,
     "metadata": {},
     "output_type": "execute_result"
    },
    {
     "data": {
      "application/vnd.jupyter.widget-view+json": {
       "model_id": "f94c5d736b684eacab84dbf4edd668c8",
       "version_major": 2,
       "version_minor": 0
      },
      "image/png": "[encoded data removed]",
      "text/html": [
       "\n",
       "            <div style=\"display: inline-block;\">\n",
       "                <div class=\"jupyter-widgets widget-label\" style=\"text-align: center;\">\n",
       "                    Figure\n",
       "                </div>\n",
       "                <img src='data:image/png;base64,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' width=640.0/>\n",
       "            </div>\n",
       "        "
      ],
      "text/plain": [
       "Canvas(toolbar=Toolbar(toolitems=[('Home', 'Reset original view', 'home', 'home'), ('Back', 'Back to previous …"
      ]
     },
     "metadata": {},
     "output_type": "display_data"
    }
   ],
   "source": [
    "%matplotlib ipympl\n",
    "import matplotlib.pylab as plt\n",
    "\n",
    "msg = 62554\n",
    "c = (msg ** e) % n\n",
    "\n",
    "msg1_d1 = c.to_bytes(64,'big')\n",
    "\n",
    "print(c, msg1_d1, type(msg1_d1))\n",
    "\n",
    "trace1_d1 = capture_RSA_trace(scope, target, msg1_d1)\n",
    "plt.figure()\n",
    "plt.plot(trace1_d1, 'r')"
   ]
  },
  {
   "cell_type": "code",
   "execution_count": null,
   "id": "5f0b4414-196d-40c4-9cef-7761d0a80fdc",
   "metadata": {},
   "outputs": [],
   "source": [
    "%matplotlib ipympl\n",
    "import matplotlib.pylab as plt\n",
    "\n",
    "msg = 62558\n",
    "c = (msg ** e) % n\n",
    "\n",
    "msg2_d1 = c.to_bytes(64,'big')\n",
    "\n",
    "print(c, msg2_d1, type(msg2_d1))\n",
    "\n",
    "trace2_d1 = capture_RSA_trace(scope, target, msg2_d1)\n",
    "plt.figure()\n",
    "plt.plot(trace2_d1, 'r')"
   ]
  },
  {
   "cell_type": "raw",
   "id": "9db06181-6ac4-46b4-b8a7-2e93f3e77afe",
   "metadata": {},
   "source": [
    "#finde trace bei der If t < 0 then t = t + p. sicher 0/1\n",
    "#suche trace mit diff(x) = 1 -> x mod q > x mod p\n",
    "#erfüllt für x = 62549 \n",
    "\n",
    "\n",
    "# 4 bytes output\n",
    "#ref_trace_msg = 62549\n",
    "\n",
    "#2 bytes output\n",
    "ref_trace_msg = 124224\n",
    "\n",
    "\n",
    "#ref_trace_msg = 1\n",
    "#ref_trace_msg = 0\n",
    "\n",
    "c = (ref_trace_msg ** e) % n \n",
    "\n",
    "#msg = c & 0xFF\n",
    "#msg = (c >> (8*1)) & 0xff\n",
    "#b1 = (c >> (8*0)) & 0xff\n",
    "#b2 = (c >> (8*1)) & 0xff\n",
    "\n",
    "#msg1 = b1.to_bytes(1, 'big')\n",
    "#msg2 = b2.to_bytes(1, 'big') # wandelt in char nicht hex um\n",
    "\n",
    "\n",
    "#msg_ = hex(c)\n",
    "\n",
    "print(c)\n",
    "msg = c.to_bytes(4,'big')\n",
    "print(msg, type(msg))\n",
    "\n",
    "\n",
    "#print(msg, type(msg))\n",
    "#print(b1, type(b1))\n",
    "#print(b2, type(b2))\n",
    "\n",
    "#msg = bytearray([b2, b1])\n",
    "\n",
    "\n",
    "#msg = bytearray([0x97, 0xC7, 0x8F, 0x98])\n",
    "\n"
   ]
  },
  {
   "cell_type": "code",
   "execution_count": null,
   "id": "51954e63-63bb-4e66-8a99-03fec49364c4",
   "metadata": {},
   "outputs": [],
   "source": [
    "%matplotlib ipympl\n",
    "import matplotlib.pylab as plt\n",
    "\n",
    "\n",
    "trace = capture_RSA_trace(scope, target, msg)\n",
    "\n",
    "plt.figure()\n",
    "plt.plot(trace, 'b')"
   ]
  },
  {
   "cell_type": "code",
   "execution_count": null,
   "id": "4a28b370-a645-4c7e-a6eb-4caf734af0f0",
   "metadata": {},
   "outputs": [],
   "source": [
    "\n",
    "\n",
    "ref_trace_msg = 683081 #diff(m) = 0\n",
    "ref_trace_msg_ = 131449 #diff(m) = 1\n",
    "\n",
    "c = (ref_trace_msg ** e) % n #2546438040\n",
    "c_ = (ref_trace_msg_ ** e) % n \n",
    "\n",
    "\n",
    "\n",
    "\n",
    "msg_d0 = c.to_bytes(4,'big')\n",
    "msg_d1 = c_.to_bytes(4,'big')\n",
    "\n",
    "\n",
    "print(c, msg_d0, type(msg_d0))\n",
    "\n",
    "print(c_, msg_d1, type(msg_d1))\n",
    "\n",
    "\n"
   ]
  },
  {
   "cell_type": "code",
   "execution_count": null,
   "id": "2fc78232-98d1-435f-9138-95d11942fed6",
   "metadata": {
    "scrolled": true
   },
   "outputs": [],
   "source": [
    "%matplotlib ipympl\n",
    "import matplotlib.pylab as plt\n",
    "\n",
    "\n",
    "trace_d0 = capture_RSA_trace(scope, target, msg_d0)\n",
    "\n",
    "plt.figure()\n",
    "plt.plot(trace_d0, 'b')\n",
    "\n",
    "trace_d1 = capture_RSA_trace(scope, target, msg_d1)\n",
    "plt.plot(trace_d1, 'r')\n",
    "\n",
    "\n",
    "diff = np.sum(np.abs(trace_d0 - trace_d1))\n",
    "print(diff)"
   ]
  },
  {
   "cell_type": "code",
   "execution_count": null,
   "id": "7e383439-ff84-4ef8-80d5-5b069c73c167",
   "metadata": {},
   "outputs": [],
   "source": [
    "print('similar d0')\n",
    "\n",
    "diff = np.sum(np.abs(trace_d0 - trace1_d0))\n",
    "print(diff)\n",
    "\n",
    "print('diff: d0 vs d1')\n",
    "\n",
    "diff = np.sum(np.abs(trace_d0 - trace_d1))\n",
    "print(diff)\n",
    "\n",
    "diff = np.sum(np.abs(trace1_d0 - trace_d1))\n",
    "print(diff)\n",
    "\n",
    "diff = np.sum(np.abs(trace_d0 - trace1_d1))\n",
    "print(diff)\n",
    "\n",
    "diff = np.sum(np.abs(trace1_d0 - trace1_d1))\n",
    "print(diff)\n",
    "\n",
    "print(\"d1\")\n",
    "diff = np.sum(np.abs(trace1_d1 - trace_d1))\n",
    "print(diff)\n",
    "\n",
    "diff = np.sum(np.abs(trace1_d1 - trace_d1))\n",
    "print(diff)\n",
    "\n",
    "diff = np.sum(np.abs(trace1_d1 - trace2_d1))\n",
    "print(diff)\n",
    "\n",
    "diff = np.sum(np.abs(trace2_d1 - trace_d1))\n",
    "print(diff)\n"
   ]
  },
  {
   "cell_type": "code",
   "execution_count": null,
   "id": "ffe4e8b0-133a-48e7-9272-eec2c9d6c646",
   "metadata": {},
   "outputs": [],
   "source": [
    "plt.close('all')"
   ]
  },
  {
   "cell_type": "code",
   "execution_count": null,
   "id": "04fcb619-c9a4-4769-8261-a5f1a14c33d7",
   "metadata": {},
   "outputs": [],
   "source": [
    "matplotlib.pyplot.close()"
   ]
  },
  {
   "cell_type": "markdown",
   "id": "c185e31e-51db-402b-9d9b-ede5b2485418",
   "metadata": {},
   "source": [
    "%matplotlib ipympl\n",
    "plt.figure()\n",
    "plt.plot(trace_d1, 'r')\n",
    "plt.plot(trace1_d1, 'o')\n",
    "plt.plot(trace_d0, 'g')\n",
    "plt.plot(trace1_d0, 'b')\n"
   ]
  },
  {
   "cell_type": "markdown",
   "id": "8a6b0652-2401-416b-8022-33f2d94c5768",
   "metadata": {},
   "source": [
    "### Key Reconstuction\n",
    "\n",
    "* find plaintexts x_1 and x_2 mit diff(x_1) = 0 und diff(x_2) = 1.\n",
    "* mittels binäre suche: finde x mit diff(x-1) = 0 und diff(x) = 1 -> x ist Vielfaches von p \n",
    "* ggt(x, n) = p\n",
    "* x^e mod n"
   ]
  },
  {
   "cell_type": "markdown",
   "id": "c7159bb4-58b0-4a47-bf41-7f67928af23c",
   "metadata": {},
   "source": [
    "### Algorithmus: \n",
    "Reconstruct p\n",
    "input: modulus n, public exponent e\n",
    "output: prime p mit p teilt n \n",
    "\n",
    "1) wiederhole bis diff(x) = 1\n",
    "    a) währel random Zahl x, mit 0 <= x < n\n",
    "    b) c = x^e mod n\n",
    "    c) Berechne diff(x) durch analyse der Plwer trace während c berechtnet\n",
    "2) m= x/2, l=0\n",
    "3) while m != l\n",
    "    a) c = m^e mod n\n",
    "    b) berechne diff(m) während c entschlüsselt wird\n",
    "    c) wenn diff(m) =1: x=0, sonst l=0\n",
    "    d) m = (l+x)/2\n",
    "4) cerechne p = gcd(n,x)\n",
    "5) return p\n",
    "\n",
    "\n",
    "diff(x) = 1        x mod p - x mod q < 0\n",
    "          0        sonst, p>q \n",
    "\n",
    "-> nur relevant, ob t = t+p performed wird \n",
    "\n",
    "nur wenn plaintext wählbar ist "
   ]
  },
  {
   "cell_type": "markdown",
   "id": "20acda10-5423-46a9-a172-1b6d9b372437",
   "metadata": {},
   "source": [
    "ref_trace_msg = 131449\n",
    "enc = (ref_trace_msg ** e) % n\n",
    "msg = enc.to_bytes(4,'big')\n",
    "ref_trace = capture_RSA_trace(scope, target, msg)\n",
    "#print(ref_trace, type(ref_trace))\n",
    "\n",
    "plot = cw.plot({})\n",
    "\n",
    "for c in range(62500,62600):\n",
    "    enc = (c ** e) % n\n",
    "    msg = enc.to_bytes(4,'big')\n",
    "    trace = capture_RSA_trace(scope, target, msg)\n",
    "    #print(ref_trace, type(ref_trace))\n",
    "    plot *= cw.plot(trace - ref_trace)\n",
    "plot "
   ]
  },
  {
   "cell_type": "markdown",
   "id": "d19e098e-bc1a-4baf-90c0-9494c08be162",
   "metadata": {},
   "source": [
    "import numpy as np\n",
    "\n",
    "\n",
    "ref_trace_msg = 131449\n",
    "enc = (ref_trace_msg ** e) % n\n",
    "msg = enc.to_bytes(4,'big')\n",
    "ref_trace = capture_RSA_trace(scope, target, msg)\n",
    "\n",
    "for c in range(62500,62600):\n",
    "    enc = (c ** e) % n\n",
    "    msg = enc.to_bytes(4,'big')\n",
    "    trace = capture_RSA_trace(scope, target, msg)\n",
    "\n",
    "    diff = np.sum(np.abs(trace - ref_trace))\n",
    "    print(\"{:1} diff = {:2}\".format(c, diff))"
   ]
  },
  {
   "cell_type": "markdown",
   "id": "60a9ce22-7fdc-43ca-b58b-471b72f05685",
   "metadata": {},
   "source": [
    "ref_trace_msg = 2\n",
    "enc = (ref_trace_msg ** e) % n\n",
    "msg = enc.to_bytes(4,'big')\n",
    "ref_trace = capture_RSA_trace(scope, target, msg)\n",
    "\n",
    "threshold = 25\n",
    "\n",
    "for c in range(62500,62600):\n",
    "    enc = (c ** e) % n\n",
    "    msg = enc.to_bytes(4,'big')\n",
    "    trace = capture_RSA_trace(scope, target, msg)\n",
    "\n",
    "    diff = np.sum(no.abs(trace - ref_trace))\n",
    "    if diff > threshold:\n",
    "        print c\n",
    "        break"
   ]
  },
  {
   "cell_type": "markdown",
   "id": "6d91029f-595f-474e-a7fc-1805974e3666",
   "metadata": {},
   "source": [
    "zu 2\n",
    "\n",
    "geg:plaintexts x1 and x2, such that diff (x1) = 0 and diff (x2) = 1.\n",
    "\n",
    "\n",
    "geg: diff(x) = 1\n",
    "binäre suche: diff(x-1) = 0 und diff(x) = 1\n",
    "\n",
    "m =x/2\n",
    "l =0"
   ]
  },
  {
   "cell_type": "code",
   "execution_count": null,
   "id": "93a091c6-8b64-4681-b734-7357081aadf2",
   "metadata": {},
   "outputs": [],
   "source": [
    "import math\n",
    "\n",
    "print(math.gcd(3,6))"
   ]
  },
  {
   "cell_type": "markdown",
   "id": "42e08721-b494-47c0-9c21-4eb71d2a8bdb",
   "metadata": {},
   "source": [
    "### Alternative \n",
    "\n",
    "Reconstruction of p when its bitlength is half bitlength of n\n",
    "INPUT: modulus n with the bitlength t, public exponent e.\n",
    "OUTPUT: prime p such that p divides n.\n",
    "\n",
    "t = bitlenght von n\n",
    "p,q haben bitlänge t/2"
   ]
  },
  {
   "cell_type": "code",
   "execution_count": null,
   "id": "4ba0d3ad-253e-4159-a338-ba394a7537a7",
   "metadata": {},
   "outputs": [],
   "source": [
    "t = 32\n",
    "\n",
    "\n",
    "x = 2**16\n",
    "m = 16\n",
    "l = 0\n",
    "\n",
    "plt.figure()\n",
    "\n",
    "ref_trace_msg_ = 131449 # loop wird ausgeführt, diff(m) = 1\n",
    "c_ = (ref_trace_msg_ ** e) % n \n",
    "msg_ = c_.to_bytes(4,'big')\n",
    "trace_ = capture_RSA_trace(scope, target, msg_)\n",
    "\n",
    "\n",
    "while m != l:\n",
    "    #enc = (m ** e) % n\n",
    "    \n",
    "    print(m, type(m), '\\n', e , type(e), '\\n', n, type(n))\n",
    "    enc = pow(m, e, n)\n",
    "    msg = enc.to_bytes(4,'big')\n",
    "    \n",
    "    trace = capture_RSA_trace(scope, target, msg)\n",
    "    plt.plot(trace)\n",
    "\n",
    "    diff = np.sum(np.abs(trace - trace_))\n",
    "    print(\"{:1} diff = {:2}\".format(m, diff))\n",
    "    \n",
    "    #check if diff(m) = 1\n",
    "    #if (m % 62549) - (m % 61543) < 0:\n",
    "    #sad = 5 for diff(x) = 1 und diff(y) = 0 für debug 1 -> diff < 3\n",
    "    # no debug: diff < 10\n",
    "    if diff < 10: \n",
    "        x = m\n",
    "    else: \n",
    "        l = m\n",
    "        \n",
    "    m = (l + x)//2\n",
    "    \n",
    "    \n",
    "\n",
    "print (x)\n",
    "    "
   ]
  },
  {
   "cell_type": "markdown",
   "id": "7029a9f3-7b49-4401-92e5-e4b330fcec22",
   "metadata": {},
   "source": []
  }
 ],
 "metadata": {
  "kernelspec": {
   "display_name": "Python 3 (ipykernel)",
   "language": "python",
   "name": "python3"
  },
  "language_info": {
   "codemirror_mode": {
    "name": "ipython",
    "version": 3
   },
   "file_extension": ".py",
   "mimetype": "text/x-python",
   "name": "python",
   "nbconvert_exporter": "python",
   "pygments_lexer": "ipython3",
   "version": "3.11.9"
  }
 },
 "nbformat": 4,
 "nbformat_minor": 5
}
