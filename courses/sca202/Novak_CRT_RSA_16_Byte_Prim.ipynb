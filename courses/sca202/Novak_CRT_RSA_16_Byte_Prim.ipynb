{
 "cells": [
  {
   "cell_type": "markdown",
   "id": "0",
   "metadata": {},
   "source": [
    "### Setup"
   ]
  },
  {
   "cell_type": "code",
   "execution_count": null,
   "id": "1",
   "metadata": {},
   "outputs": [],
   "source": [
    "SCOPETYPE = 'OPENADC'\n",
    "PLATFORM = 'CWLITEXMEGA'\n",
    "CRYPTO_TARGET = 'AVRCRYPTOLIB'"
   ]
  },
  {
   "cell_type": "code",
   "execution_count": null,
   "id": "2",
   "metadata": {},
   "outputs": [],
   "source": [
    "%%bash -s \"$PLATFORM\" \"$CRYPTO_TARGET\"\n",
    "cd ../../../hardware/victims/firmware/simpleserial-rsa\n",
    "#make clean PLATFORM=$1 CRYPTO_TARGET=$2\n",
    "make PLATFORM=$1 CRYPTO_TARGET=$2"
   ]
  },
  {
   "cell_type": "code",
   "execution_count": null,
   "id": "3",
   "metadata": {},
   "outputs": [],
   "source": [
    "%run \"../../Setup_Scripts/Setup_Generic.ipynb\""
   ]
  },
  {
   "cell_type": "code",
   "execution_count": null,
   "id": "4",
   "metadata": {},
   "outputs": [],
   "source": [
    "fw_path = '../../../hardware/victims/firmware/simpleserial-rsa/simpleserial-rsa-CWLITEXMEGA.hex'"
   ]
  },
  {
   "cell_type": "code",
   "execution_count": null,
   "id": "5",
   "metadata": {},
   "outputs": [],
   "source": [
    "cw.program_target(scope, prog, fw_path)"
   ]
  },
  {
   "cell_type": "code",
   "execution_count": null,
   "id": "6",
   "metadata": {},
   "outputs": [],
   "source": [
    "import numpy as np\n",
    "import time \n",
    "import matplotlib.pylab as plt\n",
    "import matplotlib"
   ]
  },
  {
   "cell_type": "code",
   "execution_count": null,
   "id": "7",
   "metadata": {},
   "outputs": [],
   "source": [
    "e = 65537\n",
    "n = 52270967183635299110959169812507925945033892524340745668343932985606720718177"
   ]
  },
  {
   "cell_type": "markdown",
   "id": "8",
   "metadata": {
    "jp-MarkdownHeadingCollapsed": true
   },
   "source": [
    "### find numbers"
   ]
  },
  {
   "cell_type": "code",
   "execution_count": null,
   "id": "9",
   "metadata": {},
   "outputs": [],
   "source": [
    "import random\n",
    "from sympy import nextprime\n",
    "\n",
    "#generate 16 byte number \n",
    "unsigned_16_byte = random.randint(0, 2**128 - 1)\n",
    "print(unsigned_16_byte)\n",
    "\n",
    "\n",
    "\n",
    "prime1 = nextprime(unsigned_16_byte)\n",
    "print(\"p1:\", prime1)\n",
    "print(prime1.to_bytes(16,'big'))\n",
    "\n",
    "#p1: 195126513202591094461357355156264195281\n",
    "\n",
    "#p2: 267882443680857975761967467408531606417\n"
   ]
  },
  {
   "cell_type": "code",
   "execution_count": null,
   "id": "10",
   "metadata": {},
   "outputs": [],
   "source": [
    "# prime numbers with 32 bytes \n",
    "#p1: 195126513202591094461357355156264195281\n",
    "\n",
    "#p2: 267882443680857975761967467408531606417\n",
    "\n",
    "\n",
    "p = 267882443680857975761967467408531606417\n",
    "pb = p.to_bytes(16,'big')\n",
    "print('p', p, pb, hex(p))\n",
    "q = 195126513202591094461357355156264195281\n",
    "qb = q.to_bytes(16,'big')\n",
    "print('q', q, qb, hex(q))\n",
    "\n",
    "N = p*q\n",
    "#print(N) # 52270967183635299110959169812507925945033892524340745668343932985606720718177\n",
    "Nb = N.to_bytes(32,'big')\n",
    "print('N', N, Nb, hex(N))\n",
    "\n",
    "e = 65537\n",
    "eb = e.to_bytes(16,'big')\n",
    "print('e', e, eb, hex(e))\n",
    "\n",
    "euler = (p-1)*(q-1)\n",
    "print(euler)\n",
    "# 52270967183635299110959169812507925944570883567457296598120608163041924916480\n",
    "\n",
    "#imversis zu e mod euler: e*d + k * euler = 1 = ggT(e, euler)\n",
    "# www.ardt-brunner.de : \n",
    "# -23185635839728369396761875985315247985240026020507249524808369002237343139327\n",
    "#·65537 \n",
    "#+ 29070\n",
    "#·52270967183635299110959169812507925944570883567457296598120608163041924916480 = 1\n"
   ]
  },
  {
   "cell_type": "code",
   "execution_count": null,
   "id": "11",
   "metadata": {},
   "outputs": [],
   "source": [
    "d_ = -23185635839728369396761875985315247985240026020507249524808369002237343139327\n",
    "\n",
    "\n",
    "d = d_ + euler\n",
    "# 29085331343906929714197293827192677959330857546950047073312239160804581777153\n",
    "db = d.to_bytes(32,'big')\n",
    "print('d', d, db, hex(d))\n",
    "\n",
    "#test\n",
    "#t = (d * e ) % euler\n",
    "# print(t)\n",
    "\n",
    "dp = d % (p-1)\n",
    "#print(dp)\n",
    "#256641820519554293363545041368684467889\n",
    "dpb = dp.to_bytes(16,'big')\n",
    "print('dp', dp, dpb, hex(dp))\n",
    "\n",
    "dq = d % (q-1)\n",
    "#185161326518899860606250116989915167073\n",
    "dqb = dq.to_bytes(16,'big')\n",
    "print('dq', dq, dqb, hex(dq))\n",
    "\n",
    "\n",
    "qinv = pow(q, -1, p)\n",
    "#152353370281789692140390938043637092096\n",
    "qinvb = qinv.to_bytes(16,'big')\n",
    "print('qinv', qinv, qinvb, hex(qinv))\n",
    "\n",
    "#test\n",
    "#t2 =(qinv * q) % p\n",
    "#print(t2)"
   ]
  },
  {
   "cell_type": "markdown",
   "id": "12",
   "metadata": {},
   "source": [
    "### capture trace setup"
   ]
  },
  {
   "cell_type": "code",
   "execution_count": null,
   "id": "13",
   "metadata": {},
   "outputs": [],
   "source": [
    "scope.clock.adc_src = \"clkgen_x1\"\n",
    "#scope.adc.samples = 1000\n",
    "scope.adc.samples = 100\n",
    "\n",
    "#scope.adc.timeout = "
   ]
  },
  {
   "cell_type": "code",
   "execution_count": null,
   "id": "14",
   "metadata": {},
   "outputs": [],
   "source": [
    "import time\n",
    "\n",
    "def capture_RSA_trace(scope, target, text):\n",
    "    scope.arm()\n",
    "    target.simpleserial_write('h', text)\n",
    "\n",
    "    # get debug output\n",
    "    rec_str = target.read(1000, timeout=5000) #ohne debug\n",
    "    #rec_str = target.read(2000, timeout=15000) #mit debug\n",
    "    received_str = rec_str.replace(\"\\\\r\\\\n\", \"\\n\")\n",
    "    print(received_str)\n",
    "    \n",
    "    ret = scope.capture()\n",
    "    if ret:\n",
    "        return None\n",
    "    target.simpleserial_wait_ack()\n",
    "    return scope.get_last_trace()"
   ]
  },
  {
   "cell_type": "markdown",
   "id": "15",
   "metadata": {},
   "source": [
    "### test numbers for 16 Byte prim numbers"
   ]
  },
  {
   "cell_type": "code",
   "execution_count": null,
   "id": "16",
   "metadata": {},
   "outputs": [],
   "source": [
    "%matplotlib ipympl\n",
    "import matplotlib.pylab as plt\n",
    "\n",
    "msg = 0\n",
    "c = (msg ** e) % n\n",
    "\n",
    "msg2_d1 = c.to_bytes(32,'big')\n",
    "\n",
    "print(c, msg2_d1, type(msg2_d1))\n",
    "\n",
    "trace0 = capture_RSA_trace(scope, target, msg2_d1)\n",
    "plt.figure()\n",
    "plt.plot(trace0, 'r')"
   ]
  },
  {
   "cell_type": "code",
   "execution_count": null,
   "id": "17",
   "metadata": {},
   "outputs": [],
   "source": [
    "%matplotlib ipympl\n",
    "import matplotlib.pylab as plt\n",
    "\n",
    "msg = 1\n",
    "c = (msg ** e) % n\n",
    "\n",
    "msg1 = c.to_bytes(32,'big')\n",
    "\n",
    "print(c, msg1, type(msg1))\n",
    "\n",
    "trace1 = capture_RSA_trace(scope, target, msg1)\n",
    "plt.figure()\n",
    "plt.plot(trace1, 'r')"
   ]
  },
  {
   "cell_type": "code",
   "execution_count": null,
   "id": "18",
   "metadata": {},
   "outputs": [],
   "source": [
    "msg = bytearray([0x00, 0x00, 0x00, 0x00, 0x00, 0x00, 0x00, 0x00, 0x00, 0x00, 0x00, 0x00, 0x00, 0x00, 0x00, 0x00, 0x00, 0x00, 0x00, 0x00, 0x00, 0x00, 0x00, 0x00, 0x00, 0x00, 0x00, 0x00, 0x00, 0x00, 0x67, 0x0c])\n",
    "trace_d1 = capture_RSA_trace(scope, target, msg)\n",
    "plt.figure()\n",
    "plt.plot(trace_d1, 'r')\n",
    "#diff(x) = 1\n",
    "\n",
    "#35 sek"
   ]
  },
  {
   "cell_type": "code",
   "execution_count": null,
   "id": "19",
   "metadata": {},
   "outputs": [],
   "source": [
    "\n",
    "\n",
    "msg = bytearray([0x34, 0xd1, 0x5f, 0x38, 0x73, 0xc4, 0xf7, 0x1d, 0x4e, 0x92, 0x00, 0x32, 0x5e, 0xdc, 0x81, 0xe8, 0x40, 0xd2, 0x32, 0x67, 0x99, 0x85, 0x83, 0x0d, 0x21, 0x00, 0xf8, 0xfd, 0x90, 0xe5, 0x25, 0x95])\n",
    "trace_d1 = capture_RSA_trace(scope, target, msg)\n",
    "plt.figure()\n",
    "plt.plot(trace_d1, 'r')\n",
    "#diff(x) = 0\n",
    "\n",
    "#expected output:\n",
    "#DBG: expmod m1 ...\n",
    "#expmod(34d15f3873c4f71d4e9200325edc81e840d232679985830d2100f8fd90e52595,c1136aada4591b8d8890e08a9a4096b1,c98848303d0609bd390bfeebe5ef4b91) = \n",
    "#+e000000000000000expmod m2 ...\n",
    "#expmod(34d15f3873c4f71d4e9200325edc81e840d232679985830d2100f8fd90e52595,8b4cc63a64dac10f923127f33366f961,92cbffdd66dfbe4fc1b267f7389c14d1) = \n",
    "#+e000000000000000\n",
    "#DBG: sub ...\n",
    "#sub(e000000000000000,e000000000000000) = 0\n",
    "#DBG: reduce-mul ...\n",
    "#reduce(0,c98848303d0609bd390bfeebe5ef4b91) = 0\n",
    "#mul(0,729e311980e10a45ae39bb48045ccf00) = 0\n",
    "#reduce(0,c98848303d0609bd390bfeebe5ef4b91) = 0\n",
    "#mul(0,92cbffdd66dfbe4fc1b267f7389c14d1) = 0\n",
    "#add(0,e000000000000000) = e000000000000000z00"
   ]
  },
  {
   "cell_type": "code",
   "execution_count": null,
   "id": "20",
   "metadata": {},
   "outputs": [],
   "source": [
    "%matplotlib ipympl\n",
    "\n",
    "\n",
    "msg = 62558\n",
    "c = (msg ** e) % n\n",
    "\n",
    "msg2_d1 = c.to_bytes(32,'big')\n",
    "\n",
    "print(c, msg2_d1, type(msg2_d1))\n",
    "\n",
    "trace2_d1 = capture_RSA_trace(scope, target, msg2_d1)\n",
    "plt.figure()\n",
    "plt.plot(trace2_d1, 'r')"
   ]
  },
  {
   "cell_type": "code",
   "execution_count": null,
   "id": "21",
   "metadata": {},
   "outputs": [],
   "source": []
  },
  {
   "cell_type": "code",
   "execution_count": null,
   "id": "22",
   "metadata": {},
   "outputs": [],
   "source": [
    "print(np.sum(np.abs(trace_d1 - trace1)))\n",
    "print(np.sum(np.abs(trace2_d1 - trace1)))\n",
    "print(np.sum(np.abs(trace_d1 - trace2_d1)))"
   ]
  },
  {
   "cell_type": "code",
   "execution_count": null,
   "id": "23",
   "metadata": {},
   "outputs": [],
   "source": [
    "plt.close('all')"
   ]
  },
  {
   "cell_type": "code",
   "execution_count": null,
   "id": "24",
   "metadata": {},
   "outputs": [],
   "source": [
    "matplotlib.pyplot.close()"
   ]
  },
  {
   "cell_type": "markdown",
   "id": "25",
   "metadata": {},
   "source": [
    "### Key Reconstuction\n",
    "\n",
    "* find plaintexts x_1 and x_2 mit diff(x_1) = 0 und diff(x_2) = 1.\n",
    "* mittels binäre suche: finde x mit diff(x-1) = 0 und diff(x) = 1 -> x ist Vielfaches von p \n",
    "* ggt(x, n) = p\n",
    "* x^e mod n"
   ]
  },
  {
   "cell_type": "markdown",
   "id": "26",
   "metadata": {},
   "source": [
    "### Algorithmus\n",
    "\n",
    "Reconstruction of p when its bitlength is half bitlength of n\n",
    "INPUT: modulus n with the bitlength t, public exponent e.\n",
    "OUTPUT: prime p such that p divides n.\n",
    "\n",
    "t = bitlenght von n \n",
    "p,q haben bitlänge t/2\n",
    "\n",
    "x = 2 ** (t/2)\n",
    "m = x/2 "
   ]
  },
  {
   "cell_type": "markdown",
   "id": "27",
   "metadata": {},
   "source": [
    "werte liegen bei 2 und bei 12 -> mitte  wählen bei mit debug \n",
    "werte liegen bei 2 und bei 11 -> mitte ist 7/6"
   ]
  },
  {
   "cell_type": "code",
   "execution_count": null,
   "id": "28",
   "metadata": {},
   "outputs": [],
   "source": [
    "# 16 Byte Primzahlen \n",
    "#16*8=128\n",
    "# 32 * 8 = 256\n",
    "\n",
    "t = 256\n",
    "\n",
    "# x= 2 ** (t/2) \n",
    "# m = x/2 \n",
    "# l = 0 \n",
    "\n",
    "x = 2**128\n",
    "m = x//2\n",
    "l = 0\n",
    "\n",
    "print(x, m, l)"
   ]
  },
  {
   "cell_type": "code",
   "execution_count": null,
   "id": "29",
   "metadata": {},
   "outputs": [],
   "source": [
    "\n",
    " \n",
    "plt.figure()\n",
    "\n",
    "ref_trace_msg_ = 1 # loop wird nicht ausgeführt, diff(m) = 0\n",
    "c_ = (ref_trace_msg_ ** e) % n \n",
    "msg_ = c_.to_bytes(32,'big')\n",
    "trace_ = capture_RSA_trace(scope, target, msg_)\n",
    "\n",
    "\n",
    "while m != l:\n",
    "    #enc = (m ** e) % n\n",
    "    \n",
    "    print(m, type(m), '\\n')\n",
    "    enc = pow(m, e, n)\n",
    "    msg = enc.to_bytes(32,'big')\n",
    "    \n",
    "    trace = capture_RSA_trace(scope, target, msg)\n",
    "    plt.plot(trace)\n",
    "\n",
    "    diff = np.sum(np.abs(trace - trace_))\n",
    "    print(\"{:1} diff = {:2}\".format(m, diff))\n",
    "    \n",
    "    #check if diff(m) = 1\n",
    "    # debug: sad von d1 und d0 = 6  und sad von d0 und d0 = 2-> wähle diff 4\n",
    "    # no debug sad von d1 und d0 = 7 und sad von d0 und d0 = 3,5 -> wähle diff 5/6\n",
    "    if diff < 4: # ähnliche -> diff(m) = 0\n",
    "        l = m\n",
    "    else: #unterscheidet sich von ref_trace -> diff(m) = 1\n",
    "        x = m\n",
    "        \n",
    "    m = (l + x)//2\n",
    "    \n",
    "    \n",
    "\n",
    "print (x)\n",
    "    "
   ]
  },
  {
   "cell_type": "code",
   "execution_count": null,
   "id": "30",
   "metadata": {},
   "outputs": [],
   "source": [
    "#output: 18446744073709551616-> x \n",
    "     \n",
    "#q: 195126513202591094461357355156264195281\n",
    "\n",
    "#p: 267882443680857975761967467408531606417"
   ]
  },
  {
   "cell_type": "code",
   "execution_count": null,
   "id": "31",
   "metadata": {},
   "outputs": [],
   "source": [
    "scope.dis()\n",
    "target.dis()"
   ]
  },
  {
   "cell_type": "markdown",
   "id": "32",
   "metadata": {},
   "source": [
    "laufzeit mit debug: 1h\n",
    "lauzeit ohne debug: 40 min"
   ]
  }
 ],
 "metadata": {
  "kernelspec": {
   "display_name": "Python 3 (ipykernel)",
   "language": "python",
   "name": "python3"
  },
  "language_info": {
   "codemirror_mode": {
    "name": "ipython",
    "version": 3
   },
   "file_extension": ".py",
   "mimetype": "text/x-python",
   "name": "python",
   "nbconvert_exporter": "python",
   "pygments_lexer": "ipython3",
   "version": "3.11.9"
  }
 },
 "nbformat": 4,
 "nbformat_minor": 5
}
