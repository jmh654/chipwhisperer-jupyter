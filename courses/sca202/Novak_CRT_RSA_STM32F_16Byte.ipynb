{
 "cells": [
  {
   "cell_type": "markdown",
   "id": "0",
   "metadata": {},
   "source": [
    "### Setup"
   ]
  },
  {
   "cell_type": "code",
   "execution_count": null,
   "id": "1",
   "metadata": {},
   "outputs": [],
   "source": [
    "SCOPETYPE = 'OPENADC'\n",
    "PLATFORM = 'CW308_STM32F3'\n",
    "CRYPTO_TARGET = 'MBEDTLS'"
   ]
  },
  {
   "cell_type": "code",
   "execution_count": null,
   "id": "2",
   "metadata": {},
   "outputs": [],
   "source": [
    "%%bash -s \"$PLATFORM\" \"$CRYPTO_TARGET\"\n",
    "cd ../../../hardware/victims/firmware/simpleserial-rsa\n",
    "#make clean PLATFORM=$1 CRYPTO_TARGET=$2\n",
    "make PLATFORM=$1 CRYPTO_TARGET=$2 "
   ]
  },
  {
   "cell_type": "code",
   "execution_count": null,
   "id": "3",
   "metadata": {},
   "outputs": [],
   "source": [
    "%run \"../../Setup_Scripts/Setup_Generic.ipynb\""
   ]
  },
  {
   "cell_type": "code",
   "execution_count": null,
   "id": "4",
   "metadata": {},
   "outputs": [],
   "source": [
    "fw_path = '../../../hardware/victims/firmware/simpleserial-rsa/simpleserial-rsa-CW308_STM32F3.hex'"
   ]
  },
  {
   "cell_type": "code",
   "execution_count": null,
   "id": "5",
   "metadata": {},
   "outputs": [],
   "source": [
    "cw.program_target(scope, prog, fw_path)"
   ]
  },
  {
   "cell_type": "code",
   "execution_count": null,
   "id": "6",
   "metadata": {},
   "outputs": [],
   "source": [
    "import numpy as np\n",
    "import time \n",
    "import matplotlib.pylab as plt\n",
    "import matplotlib"
   ]
  },
  {
   "cell_type": "code",
   "execution_count": null,
   "id": "7",
   "metadata": {},
   "outputs": [],
   "source": [
    "e = 65537"
   ]
  },
  {
   "cell_type": "code",
   "execution_count": null,
   "id": "8",
   "metadata": {},
   "outputs": [],
   "source": [
    "#16Bytes -> key_len = 32\n",
    "n = 52270967183635299110959169812507925945033892524340745668343932985606720718177"
   ]
  },
  {
   "cell_type": "code",
   "execution_count": null,
   "id": "9",
   "metadata": {},
   "outputs": [],
   "source": [
    "#key lenght of n; p, q have lenght key_len//2\n",
    "key_len = 32"
   ]
  },
  {
   "cell_type": "markdown",
   "id": "10",
   "metadata": {},
   "source": [
    "### find numbers"
   ]
  },
  {
   "cell_type": "code",
   "execution_count": null,
   "id": "11",
   "metadata": {},
   "outputs": [],
   "source": [
    "# Parameters\n",
    "p = 267882443680857975761967467408531606417 \n",
    "q = 195126513202591094461357355156264195281\n",
    "e = 65537\n",
    "n = 52270967183635299110959169812507925945033892524340745668343932985606720718177\n",
    "dp = 256641820519554293363545041368684467889\n",
    "dq = 185161326518899860606250116989915167073\n",
    "max_msg = 10000  # Set a range for msg (you can adjust this range)"
   ]
  },
  {
   "cell_type": "code",
   "execution_count": null,
   "id": "12",
   "metadata": {},
   "outputs": [],
   "source": [
    "def find_valid_msg_d1(p, q, e, n, max_msg):\n",
    "    valid_msgs = []\n",
    "    for msg in range(1, max_msg + 1):  # Iterate through possible msg values\n",
    "        x = pow(msg, e, n)  # Compute (msg^e) % n efficiently using modular exponentiation\n",
    "        if (x % p) - (x % q) < 0:  # Check the condition\n",
    "            valid_msgs.append(msg)\n",
    "    return valid_msgs\n",
    "\n",
    "\n",
    "\n",
    "# Find and display valid messages\n",
    "valid_msgs = find_valid_msgs(p, q, e, n, max_msg)\n",
    "print(f\"Valid messages: {valid_msgs}\")"
   ]
  },
  {
   "cell_type": "code",
   "execution_count": null,
   "id": "13",
   "metadata": {},
   "outputs": [],
   "source": [
    "def find_valid_msgs_d0(p, q, e, n, max_msg):\n",
    "    valid_msgs = []\n",
    "    for msg in range(1, max_msg + 1):  # Iterate through possible msg values\n",
    "        x = pow(msg, e, n)  # Compute (msg^e) % n efficiently using modular exponentiation\n",
    "        if (x % p) - (x % q) > 0:  # Check the condition\n",
    "            valid_msgs.append(msg)\n",
    "    return valid_msgs\n",
    "\n",
    "# Find and display valid messages\n",
    "valid_msgs = find_valid_msgs(p, q, e, n, max_msg)\n",
    "print(f\"Valid messages: {valid_msgs}\")"
   ]
  },
  {
   "cell_type": "code",
   "execution_count": null,
   "id": "14",
   "metadata": {},
   "outputs": [],
   "source": [
    "m = 170141183460469231731687303715884105728\n",
    "\n",
    "t1 = pow(m, dp, p)\n",
    "t2 = pow(m, dq, q) \n",
    "print(t1)\n",
    "print(t2)\n",
    "print(t1 - t2)\n"
   ]
  },
  {
   "cell_type": "code",
   "execution_count": null,
   "id": "15",
   "metadata": {},
   "outputs": [],
   "source": [
    "m = 54\n",
    "\n",
    "t1 = pow(m, dp, p)\n",
    "t2 = pow(m, dq, q) \n",
    "print(t1)\n",
    "print(t2)\n",
    "print(t1 - t2)"
   ]
  },
  {
   "cell_type": "code",
   "execution_count": null,
   "id": "16",
   "metadata": {},
   "outputs": [],
   "source": [
    "m = 195126513202591094461357355156264195281\n",
    "\n",
    "t1 = pow(m, dp, p)\n",
    "t2 = pow(m, dq, q) \n",
    "print(t1)\n",
    "print(t2)\n",
    "print(t1 - t2)"
   ]
  },
  {
   "cell_type": "code",
   "execution_count": null,
   "id": "17",
   "metadata": {},
   "outputs": [],
   "source": [
    "m = 267882443680857975761967467408531606417\n",
    "\n",
    "t1 = pow(m, dp, p)\n",
    "t2 = pow(m, dq, q) \n",
    "print(t1)\n",
    "print(t2)\n",
    "print(t1 - t2)"
   ]
  },
  {
   "cell_type": "code",
   "execution_count": null,
   "id": "18",
   "metadata": {},
   "outputs": [],
   "source": [
    "m = 16\n",
    "\n",
    "t1 = pow(m, dp, p)\n",
    "t2 = pow(m, dq, q) \n",
    "print(t1)\n",
    "print(t2)\n",
    "print(t1 - t2)"
   ]
  },
  {
   "cell_type": "code",
   "execution_count": null,
   "id": "19",
   "metadata": {},
   "outputs": [],
   "source": [
    "m = 255211775190703847597530955573826158592\n",
    "\n",
    "t1 = pow(m, dp, p)\n",
    "t2 = pow(m, dq, q) \n",
    "print(t1)\n",
    "print(t2)\n",
    "print(t1 - t2)"
   ]
  },
  {
   "cell_type": "code",
   "execution_count": null,
   "id": "20",
   "metadata": {},
   "outputs": [],
   "source": [
    "#print(x mod p − x mod q < 0)\n",
    "\n",
    "x = 170141183460469231731687303715884105728\n",
    "print( (x%p) - (x%q))"
   ]
  },
  {
   "cell_type": "code",
   "execution_count": null,
   "id": "21",
   "metadata": {},
   "outputs": [],
   "source": [
    "#print(x mod p − x mod q < 0)\n",
    "\n",
    "x = 195126513202591094461357355156264195281\n",
    "print( (x%p) - (x%q))"
   ]
  },
  {
   "cell_type": "code",
   "execution_count": null,
   "id": "22",
   "metadata": {},
   "outputs": [],
   "source": [
    "#print(x mod p − x mod q < 0)\n",
    "\n",
    "x = 16\n",
    "print( (x%p) - (x%q))"
   ]
  },
  {
   "cell_type": "code",
   "execution_count": null,
   "id": "23",
   "metadata": {},
   "outputs": [],
   "source": [
    "#print(x mod p − x mod q < 0)\n",
    "\n",
    "x = 54\n",
    "print( (x%p) - (x%q))"
   ]
  },
  {
   "cell_type": "code",
   "execution_count": null,
   "id": "24",
   "metadata": {},
   "outputs": [],
   "source": [
    "#print(x mod p − x mod q < 0)\n",
    "\n",
    "x = 255211775190703847597530955573826158592\n",
    "print( (x%p) - (x%q))"
   ]
  },
  {
   "cell_type": "code",
   "execution_count": null,
   "id": "25",
   "metadata": {},
   "outputs": [],
   "source": [
    "x = 267882443680857975761967467408531606417\n",
    "print( (x%p) - (x%q))\n",
    "\n",
    "# diff(x) = 1"
   ]
  },
  {
   "cell_type": "code",
   "execution_count": null,
   "id": "26",
   "metadata": {},
   "outputs": [],
   "source": [
    "#neg\n",
    "255211775190703847597530955573826158592\n",
    "267882443680857975761967467408531606417\n",
    "54\n",
    "\n",
    "#pos \n",
    "16\n",
    "195126513202591094461357355156264195281\n",
    "170141183460469231731687303715884105728\n",
    "\n",
    "\n",
    "\n",
    "#pos\n",
    "255211775190703847597530955573826158592\n",
    "195126513202591094461357355156264195281\n",
    "\n",
    "#o\n",
    "170141183460469231731687303715884105728\n",
    "54\n",
    "16\n",
    "\n",
    "#neg\n",
    "267882443680857975761967467408531606417"
   ]
  },
  {
   "cell_type": "markdown",
   "id": "27",
   "metadata": {
    "jp-MarkdownHeadingCollapsed": true
   },
   "source": [
    "### mathing\n"
   ]
  },
  {
   "cell_type": "code",
   "execution_count": null,
   "id": "28",
   "metadata": {},
   "outputs": [],
   "source": [
    "p = 267882443680857975761967467408531606417 \n",
    "q = 195126513202591094461357355156264195281\n",
    "e = 65537\n",
    "n = 52270967183635299110959169812507925945033892524340745668343932985606720718177\n",
    "dp = 256641820519554293363545041368684467889\n",
    "dq = 185161326518899860606250116989915167073"
   ]
  },
  {
   "cell_type": "code",
   "execution_count": null,
   "id": "29",
   "metadata": {},
   "outputs": [],
   "source": [
    "#diff(kp) = 1\n",
    "\n",
    "#also \n",
    "#x mod p - x mod q < 0\n",
    "x = 5*p\n",
    "print( x % p - x % q)\n",
    "\n",
    "#ergebniss ist negative \n",
    "# -> x mod p - x mod q < 0 erfüllt "
   ]
  },
  {
   "cell_type": "code",
   "execution_count": null,
   "id": "30",
   "metadata": {},
   "outputs": [],
   "source": [
    "#diff(nq) = 0\n",
    "\n",
    "#also \n",
    "#x mod p - x mod q => 0\n",
    "x = 2*q\n",
    "print( x % p - x % q)\n",
    "\n",
    "#ergebniss ist pos\n",
    "# -> x mod p - x mod q < 0 nicht erfüllt"
   ]
  },
  {
   "cell_type": "code",
   "execution_count": null,
   "id": "31",
   "metadata": {},
   "outputs": [],
   "source": [
    "#diff(kq-1) = 0\n",
    "\n",
    "#also \n",
    "#x mod p - x mod q => 0\n",
    "x = 2*p-1\n",
    "print( x % p - x % q)\n",
    "\n",
    "#ergebniss ist pos\n",
    "# -> x mod p - x mod q < 0 nicht erfüllt"
   ]
  },
  {
   "cell_type": "code",
   "execution_count": null,
   "id": "32",
   "metadata": {},
   "outputs": [],
   "source": [
    "print (170141183460469231731687303715884105728 / (p))\n",
    "print (170141183460469231731687303715884105728 /q)"
   ]
  },
  {
   "cell_type": "code",
   "execution_count": null,
   "id": "33",
   "metadata": {},
   "outputs": [],
   "source": [
    "x = 170141183460469231731687303715884105728\n",
    "print( x % p - x % q)\n",
    "# ergebnis = 0\n",
    "# 0 ist nicht kleiner 0\n",
    "# -> diff muss 0"
   ]
  },
  {
   "cell_type": "markdown",
   "id": "34",
   "metadata": {},
   "source": [
    "### capture trace setup"
   ]
  },
  {
   "cell_type": "code",
   "execution_count": null,
   "id": "35",
   "metadata": {},
   "outputs": [],
   "source": [
    "scope.clock.adc_src = \"clkgen_x1\"\n",
    "scope.adc.samples = 800 #print('#samples: ', scope.adc.trig_count) gibt <800 samples aus \n",
    "\n",
    "#scope.adc.timeout = 50"
   ]
  },
  {
   "cell_type": "code",
   "execution_count": null,
   "id": "36",
   "metadata": {},
   "outputs": [],
   "source": [
    "import time\n",
    "\n",
    "def capture_RSA_trace(scope, target, text):\n",
    "    scope.arm()\n",
    "    target.simpleserial_write('t', text)\n",
    "\n",
    "    # get debug output, nötig?\n",
    "    #rec_str = target.read(1000, timeout=2000)\n",
    "    #received_str = rec_str.replace(\"\\\\r\\\\n\", \"\\n\")\n",
    "    #print(received_str)\n",
    "    \n",
    "    ret = scope.capture()\n",
    "    if ret:\n",
    "        print('Timeout happened during acquisition')\n",
    "\n",
    "    time.sleep(2)\n",
    "    output = target.read(timeout=20)\n",
    "    print('first: ', output.replace(\"\\\\r\\\\n\\\\z00\", \"\\n\"))\n",
    "    \n",
    "    target.write(\"1\\n\")\n",
    "    time.sleep(0.2)\n",
    "    #output += target.read(timeout=10)\n",
    "    output = target.read(timeout=10) \n",
    "    print('next 48 bytes: ', output.replace(\"r\", \"\").replace(\"\\nz00\",\"\").replace(\"\\n\",\"\"))\n",
    "\n",
    "    target.write(\"2\\n\")\n",
    "    time.sleep(0.2)\n",
    "    #output += target.read(timeout=10)\n",
    "    output = target.read(timeout=10) \n",
    "    print('last bytes: ', output.replace(\"r\", \"\").replace(\"\\nz00\",\"\").replace(\"\\n\",\"\"))\n",
    "\n",
    "\n",
    "    #newout = output.replace(\"r\", \"\").replace(\"\\nz00\",\"\").replace(\"\\n\",\"\")\n",
    "    #print('output: ', newout)\n",
    "\n",
    "    if SCOPETYPE == \"OPENADC\":\n",
    "        print('#samples: ', scope.adc.trig_count)\n",
    "    \n",
    "    target.simpleserial_wait_ack() #!!!!\n",
    "    return scope.get_last_trace()"
   ]
  },
  {
   "cell_type": "code",
   "execution_count": null,
   "id": "37",
   "metadata": {},
   "outputs": [],
   "source": [
    "import time\n",
    "\n",
    "def capture_RSA_trace(scope, target, text):\n",
    "    target.flush()\n",
    "    scope.arm()\n",
    "    target.simpleserial_write('t', text)\n",
    "\n",
    "    rec_str = target.read(1000, timeout=200)\n",
    "    received_str = rec_str.replace(\"\\\\r\\\\n\", \"\\n\")\n",
    "    print(received_str)\n",
    "    \n",
    "    ret = scope.capture()\n",
    "    if ret:\n",
    "        print('Timeout happened during acquisition')\n",
    "\n",
    "    #if SCOPETYPE == \"OPENADC\":\n",
    "        #print('#samples: ', scope.adc.trig_count)\n",
    "    \n",
    "    target.simpleserial_wait_ack() #!!!!\n",
    "    return scope.get_last_trace()"
   ]
  },
  {
   "cell_type": "markdown",
   "id": "38",
   "metadata": {
    "jp-MarkdownHeadingCollapsed": true
   },
   "source": [
    "### test numbers1"
   ]
  },
  {
   "cell_type": "code",
   "execution_count": null,
   "id": "39",
   "metadata": {},
   "outputs": [],
   "source": [
    "%matplotlib ipympl\n",
    "import matplotlib.pylab as plt\n",
    "\n",
    "msg = 54\n",
    "c = (msg ** e) % n\n",
    "\n",
    "cb = c.to_bytes(key_len,'big')\n",
    "\n",
    "print( 'encrypted: ', c, cb, type(cb), hex(c))\n",
    "\n",
    "trace1 = capture_RSA_trace(scope, target, cb)\n",
    "plt.figure()\n",
    "plt.plot(trace1, 'r')\n",
    "\n"
   ]
  },
  {
   "cell_type": "code",
   "execution_count": null,
   "id": "40",
   "metadata": {},
   "outputs": [],
   "source": [
    "%matplotlib ipympl\n",
    "import matplotlib.pylab as plt\n",
    "\n",
    "msg = 16\n",
    "c = (msg ** e) % n\n",
    "\n",
    "cb = c.to_bytes(key_len,'big')\n",
    "\n",
    "print( 'encrypted: ', c, cb, type(cb), hex(c))\n",
    "\n",
    "trace2 = capture_RSA_trace(scope, target, cb)\n",
    "plt.figure()\n",
    "plt.plot(trace2, 'r')"
   ]
  },
  {
   "cell_type": "code",
   "execution_count": null,
   "id": "41",
   "metadata": {},
   "outputs": [],
   "source": [
    "%matplotlib ipympl\n",
    "import matplotlib.pylab as plt\n",
    "\n",
    "msg = 195126513202591094461357355156264195281\n",
    "c = (msg ** e) % n\n",
    "\n",
    "cb = c.to_bytes(key_len,'big')\n",
    "\n",
    "print( 'encrypted: ', c, cb, type(cb), hex(c))\n",
    "\n",
    "trace3 = capture_RSA_trace(scope, target, cb)\n",
    "plt.figure()\n",
    "plt.plot(trace3, 'r')\n"
   ]
  },
  {
   "cell_type": "code",
   "execution_count": null,
   "id": "42",
   "metadata": {},
   "outputs": [],
   "source": [
    "%matplotlib ipympl\n",
    "import matplotlib.pylab as plt\n",
    "\n",
    "msg = 170141183460469231731687303715884105728 \n",
    "c = (msg ** e) % n\n",
    "\n",
    "cb = c.to_bytes(key_len,'big')\n",
    "\n",
    "print( 'encrypted: ', c, cb, type(cb), hex(c))\n",
    "\n",
    "trace4 = capture_RSA_trace(scope, target, cb)\n",
    "plt.figure()\n",
    "plt.plot(trace4, 'r')"
   ]
  },
  {
   "cell_type": "code",
   "execution_count": null,
   "id": "43",
   "metadata": {},
   "outputs": [],
   "source": [
    "print(np.sum(np.abs(trace1 - trace2))) #same\n",
    "print(np.sum(np.abs(trace1 - trace3))) #diff\n",
    "print(np.sum(np.abs(trace1 - trace4))) #diff\n",
    "print(np.sum(np.abs(trace2 - trace3))) #diff\n",
    "print(np.sum(np.abs(trace2 - trace4))) #diff\n",
    "print(np.sum(np.abs(trace3 - trace4))) #same "
   ]
  },
  {
   "cell_type": "code",
   "execution_count": null,
   "id": "44",
   "metadata": {},
   "outputs": [],
   "source": [
    "plt.figure()\n",
    "plt.plot(trace1, 'r')\n",
    "plt.plot(trace2, 'b')\n",
    "plt.plot(trace3, 'y')\n",
    "plt.plot(trace4, 'g')"
   ]
  },
  {
   "cell_type": "code",
   "execution_count": null,
   "id": "45",
   "metadata": {},
   "outputs": [],
   "source": [
    "# keylen = 32\n",
    "# #samples für MBEDTLS_MPI_CHK( mbedtls_mpi_sub_mpi( &T, &T1, &T2 ) ) = 600-700\n",
    "\n",
    "# samplesize 600\n",
    "# diff(same): 1\n",
    "# diff(diff): 30\n",
    "\n",
    "#samplesize 800\n",
    "# diff(same): 3\n",
    "# diff(diff): 45"
   ]
  },
  {
   "cell_type": "markdown",
   "id": "46",
   "metadata": {
    "jp-MarkdownHeadingCollapsed": true
   },
   "source": [
    "### test numbers2"
   ]
  },
  {
   "cell_type": "code",
   "execution_count": null,
   "id": "47",
   "metadata": {},
   "outputs": [],
   "source": [
    "print (195126513202591094461357355156264195281 *4)"
   ]
  },
  {
   "cell_type": "code",
   "execution_count": null,
   "id": "48",
   "metadata": {},
   "outputs": [],
   "source": [
    "%matplotlib ipympl\n",
    "import matplotlib.pylab as plt\n",
    "\n",
    "msg = 803647331042573927285902402225594819251  #267882443680857975761967467408531606417 * 3 = 3p\n",
    "c = (msg ** e) % n\n",
    "\n",
    "cb = c.to_bytes(key_len,'big')\n",
    "\n",
    "print( 'encrypted: ', c, hex(c))\n",
    "\n",
    "trace4 = capture_RSA_trace(scope, target, cb)\n",
    "plt.figure()\n",
    "plt.plot(trace4, 'r')\n",
    "\n",
    "#diff(x) = 1"
   ]
  },
  {
   "cell_type": "code",
   "execution_count": null,
   "id": "49",
   "metadata": {},
   "outputs": [],
   "source": [
    "%matplotlib ipympl\n",
    "import matplotlib.pylab as plt\n",
    "\n",
    "msg = 803647331042573927285902402225594819251-1  #267882443680857975761967467408531606417 * 3 = 3p -1\n",
    "c = (msg ** e) % n\n",
    "\n",
    "cb = c.to_bytes(key_len,'big')\n",
    "\n",
    "print( 'encrypted: ', c, cb, type(cb), hex(c))\n",
    "\n",
    "trace2 = capture_RSA_trace(scope, target, cb)\n",
    "plt.figure()\n",
    "plt.plot(trace2, 'r')\n",
    "\n",
    "#diff = 0"
   ]
  },
  {
   "cell_type": "code",
   "execution_count": null,
   "id": "50",
   "metadata": {},
   "outputs": [],
   "source": [
    "%matplotlib ipympl\n",
    "import matplotlib.pylab as plt\n",
    "\n",
    "msg = 803647331042573927285902402225594819251+1  #267882443680857975761967467408531606417 * 3 = 3p +1\n",
    "c = (msg ** e) % n\n",
    "\n",
    "cb = c.to_bytes(key_len,'big')\n",
    "\n",
    "print( 'encrypted: ', c, cb, type(cb), hex(c))\n",
    "\n",
    "trace3 = capture_RSA_trace(scope, target, cb)\n",
    "plt.figure()\n",
    "plt.plot(trace3, 'r')\n",
    "\n",
    "#diff = 1"
   ]
  },
  {
   "cell_type": "code",
   "execution_count": null,
   "id": "51",
   "metadata": {},
   "outputs": [],
   "source": [
    "%matplotlib ipympl\n",
    "import matplotlib.pylab as plt\n",
    "\n",
    "msg = 780506052810364377845429420625056781124  #195126513202591094461357355156264195281 * 3 = 4q\n",
    "c = (msg ** e) % n\n",
    "\n",
    "cb = c.to_bytes(key_len,'big')\n",
    "\n",
    "print( 'encrypted: ', c, cb, type(cb), hex(c))\n",
    "\n",
    "trace1 = capture_RSA_trace(scope, target, cb)\n",
    "plt.figure()\n",
    "plt.plot(trace1, 'r')\n",
    "\n",
    "#diff = 0"
   ]
  },
  {
   "cell_type": "code",
   "execution_count": null,
   "id": "52",
   "metadata": {},
   "outputs": [],
   "source": [
    "print(np.sum(np.abs(trace1 - trace2))) #same\n",
    "print(np.sum(np.abs(trace1 - trace3))) #diff\n",
    "print(np.sum(np.abs(trace1 - trace4))) #diff\n",
    "print(np.sum(np.abs(trace2 - trace3))) #diff\n",
    "print(np.sum(np.abs(trace2 - trace4))) #diff\n",
    "print(np.sum(np.abs(trace3 - trace4))) #same "
   ]
  },
  {
   "cell_type": "code",
   "execution_count": null,
   "id": "53",
   "metadata": {},
   "outputs": [],
   "source": [
    "plt.figure()\n",
    "plt.plot(trace1, 'r')\n",
    "plt.plot(trace2, 'b')\n",
    "plt.plot(trace3, 'y')\n",
    "plt.plot(trace4, 'g')"
   ]
  },
  {
   "cell_type": "code",
   "execution_count": null,
   "id": "54",
   "metadata": {},
   "outputs": [],
   "source": [
    "plt.figure()\n",
    "plt.plot(trace1, 'r')\n",
    "plt.plot(trace2, 'b')"
   ]
  },
  {
   "cell_type": "code",
   "execution_count": null,
   "id": "55",
   "metadata": {},
   "outputs": [],
   "source": [
    "trace = trace1[:-20]\n",
    "for offset in range(21):\n",
    "    diff = trace  - trace2[offset:offset + len(trace)]\n",
    "    print(np.sum(np.abs(diff)))\n",
    "    plt.figure()\n",
    "    plt.plot(trace, 'r')\n",
    "    plt.plot(trace2[offset:offset + len(trace)], 'b')"
   ]
  },
  {
   "cell_type": "code",
   "execution_count": null,
   "id": "56",
   "metadata": {},
   "outputs": [],
   "source": [
    "trace = trace2[:-20]\n",
    "for offset in range(21):\n",
    "    diff = trace  - trace1[offset:offset + len(trace)]\n",
    "    print(np.sum(np.abs(diff)))"
   ]
  },
  {
   "cell_type": "code",
   "execution_count": null,
   "id": "57",
   "metadata": {},
   "outputs": [],
   "source": [
    "plt.figure()\n",
    "plt.plot(trace3, 'y')\n",
    "plt.plot(trace4, 'g')"
   ]
  },
  {
   "cell_type": "code",
   "execution_count": null,
   "id": "58",
   "metadata": {},
   "outputs": [],
   "source": [
    "trace = trace3[:-20]\n",
    "for offset in range(21):\n",
    "    diff = trace  - trace4[offset:offset + len(trace)]\n",
    "    print(np.sum(np.abs(diff)))"
   ]
  },
  {
   "cell_type": "code",
   "execution_count": null,
   "id": "59",
   "metadata": {},
   "outputs": [],
   "source": [
    "trace = trace4[:-20]\n",
    "for offset in range(21):\n",
    "    diff = trace  - trace3[offset:offset + len(trace)]\n",
    "    print(np.sum(np.abs(diff)))"
   ]
  },
  {
   "cell_type": "code",
   "execution_count": null,
   "id": "60",
   "metadata": {},
   "outputs": [],
   "source": [
    "plt.figure()\n",
    "plt.plot(trace1, 'r')\n",
    "plt.plot(trace3, 'y')\n",
    "plt.plot(trace4, 'g')"
   ]
  },
  {
   "cell_type": "code",
   "execution_count": null,
   "id": "61",
   "metadata": {},
   "outputs": [],
   "source": [
    "trace = trace1[:-20]\n",
    "for offset in range(21):\n",
    "    diff = trace  - trace3[offset:offset + len(trace)]\n",
    "    print(np.sum(np.abs(diff)))"
   ]
  },
  {
   "cell_type": "code",
   "execution_count": null,
   "id": "62",
   "metadata": {},
   "outputs": [],
   "source": [
    "trace = trace3[:-20]\n",
    "for offset in range(21):\n",
    "    diff = trace  - trace1[offset:offset + len(trace)]\n",
    "    print(np.sum(np.abs(diff)))"
   ]
  },
  {
   "cell_type": "markdown",
   "id": "63",
   "metadata": {
    "jp-MarkdownHeadingCollapsed": true
   },
   "source": [
    "### test numbers 3"
   ]
  },
  {
   "cell_type": "code",
   "execution_count": null,
   "id": "64",
   "metadata": {},
   "outputs": [],
   "source": [
    "%matplotlib ipympl\n",
    "import matplotlib.pylab as plt\n",
    "\n",
    "msg = 803647331042573927285902402225594819251-1  #267882443680857975761967467408531606417 * 3 = 3p\n",
    "c = (msg ** e) % n\n",
    "\n",
    "cb = c.to_bytes(key_len,'big')\n",
    "\n",
    "print( 'encrypted: ', c, cb, type(cb), hex(c))\n",
    "\n",
    "trace1 = capture_RSA_trace(scope, target, cb)\n",
    "plt.figure()\n",
    "plt.plot(trace1, 'r')\n",
    "\n",
    "#diff = 0"
   ]
  },
  {
   "cell_type": "code",
   "execution_count": null,
   "id": "65",
   "metadata": {},
   "outputs": [],
   "source": [
    "%matplotlib ipympl\n",
    "import matplotlib.pylab as plt\n",
    "\n",
    "msg = 803647331042573927285902402225594819251  #267882443680857975761967467408531606417 * 3 = 3p\n",
    "c = (msg ** e) % n\n",
    "\n",
    "cb = c.to_bytes(key_len,'big')\n",
    "\n",
    "print( 'encrypted: ', c, cb, type(cb), hex(c))\n",
    "\n",
    "trace2 = capture_RSA_trace(scope, target, cb)\n",
    "plt.figure()\n",
    "plt.plot(trace2, 'r')\n",
    "\n",
    "#diff = 1"
   ]
  },
  {
   "cell_type": "code",
   "execution_count": null,
   "id": "66",
   "metadata": {},
   "outputs": [],
   "source": [
    "%matplotlib ipympl\n",
    "import matplotlib.pylab as plt\n",
    "\n",
    "msg = 54\n",
    "c = (msg ** e) % n\n",
    "\n",
    "cb = c.to_bytes(key_len,'big')\n",
    "\n",
    "print( 'encrypted: ', c, cb, type(cb), hex(c))\n",
    "\n",
    "trace3 = capture_RSA_trace(scope, target, cb)\n",
    "plt.figure()\n",
    "plt.plot(trace3, 'r')\n",
    "\n",
    "#diff = 0"
   ]
  },
  {
   "cell_type": "code",
   "execution_count": null,
   "id": "67",
   "metadata": {},
   "outputs": [],
   "source": [
    "%matplotlib ipympl\n",
    "import matplotlib.pylab as plt\n",
    "\n",
    "msg = 780506052810364377845429420625056781124\n",
    "c = (msg ** e) % n\n",
    "\n",
    "cb = c.to_bytes(key_len,'big')\n",
    "\n",
    "print( 'encrypted: ', c, cb, type(cb), hex(c))\n",
    "\n",
    "trace4 = capture_RSA_trace(scope, target, cb)\n",
    "plt.figure()\n",
    "plt.plot(trace4, 'r')\n",
    "\n",
    "#diff = 0"
   ]
  },
  {
   "cell_type": "code",
   "execution_count": null,
   "id": "68",
   "metadata": {},
   "outputs": [],
   "source": [
    "%matplotlib ipympl\n",
    "import matplotlib.pylab as plt\n",
    "\n",
    "msg = 170141183460469231731687303715884105728\n",
    "c = (msg ** e) % n\n",
    "\n",
    "cb = c.to_bytes(key_len,'big')\n",
    "\n",
    "print( 'encrypted: ', c, cb, type(cb), hex(c))\n",
    "\n",
    "trace5 = capture_RSA_trace(scope, target, cb)\n",
    "plt.figure()\n",
    "plt.plot(trace5, 'r')\n",
    "\n",
    "#diff = 0"
   ]
  },
  {
   "cell_type": "code",
   "execution_count": null,
   "id": "69",
   "metadata": {},
   "outputs": [],
   "source": [
    "print('d', np.sum(np.abs(trace1 - trace2))) #diff\n",
    "print('s', np.sum(np.abs(trace1 - trace3))) \n",
    "print('s', np.sum(np.abs(trace1 - trace4))) \n",
    "print('d', np.sum(np.abs(trace2 - trace3))) #diff\n",
    "print('d', np.sum(np.abs(trace2 - trace4))) #diff\n",
    "print('s', np.sum(np.abs(trace3 - trace4))) \n",
    "print('s', np.sum(np.abs(trace1 - trace5))) \n",
    "print('d', np.sum(np.abs(trace2 - trace5))) #diff\n",
    "print('s', np.sum(np.abs(trace3 - trace5))) \n",
    "print('s', np.sum(np.abs(trace4 - trace5))) "
   ]
  },
  {
   "cell_type": "code",
   "execution_count": null,
   "id": "70",
   "metadata": {},
   "outputs": [],
   "source": [
    "plt.figure()\n",
    "plt.plot(trace1, 'r')\n",
    "plt.plot(trace2, 'b')\n",
    "plt.plot(trace3, 'y')\n",
    "plt.plot(trace4, 'g')\n",
    "plt.plot(trace5, 'm')"
   ]
  },
  {
   "cell_type": "code",
   "execution_count": null,
   "id": "71",
   "metadata": {},
   "outputs": [],
   "source": [
    "trace = trace3[:-20]\n",
    "for offset in range(21):\n",
    "    diff = trace  - trace4[offset:offset + len(trace)]\n",
    "    print(np.sum(np.abs(diff)))"
   ]
  },
  {
   "cell_type": "markdown",
   "id": "72",
   "metadata": {},
   "source": [
    "### Key Reconstuction\n",
    "\n",
    "* find plaintexts x_1 and x_2 mit diff(x_1) = 0 und diff(x_2) = 1.\n",
    "* mittels binäre suche: finde x mit diff(x-1) = 0 und diff(x) = 1 -> x ist Vielfaches von p \n",
    "* ggt(x, n) = p\n",
    "* x^e mod n"
   ]
  },
  {
   "cell_type": "markdown",
   "id": "73",
   "metadata": {},
   "source": [
    "### Algorithmus\n",
    "\n",
    "Reconstruction of p when its bitlength is half bitlength of n\n",
    "INPUT: modulus n with the bitlength t, public exponent e.\n",
    "OUTPUT: prime p such that p divides n.\n",
    "\n",
    "t = bitlenght von n \n",
    "p,q haben bitlänge t/2\n",
    "\n",
    "x = 2 ** (t/2)\n",
    "m = x/2 "
   ]
  },
  {
   "cell_type": "code",
   "execution_count": null,
   "id": "74",
   "metadata": {},
   "outputs": [],
   "source": [
    "#  Byte Primzahlen \n",
    "\n",
    "t = key_len*8\n",
    "\n",
    "# x= 2 ** (t/2) \n",
    "# m = x/2 \n",
    "# l = 0 \n",
    "\n",
    "#upper\n",
    "x = 2**(t//2)\n",
    "m = x//2\n",
    "#lower\n",
    "l = 0\n",
    "\n",
    "print(x, m, l)"
   ]
  },
  {
   "cell_type": "code",
   "execution_count": null,
   "id": "75",
   "metadata": {},
   "outputs": [],
   "source": [
    "plt.figure()\n",
    "\n",
    "ref_trace_msg_0 = 170141183460469231731687303715884105728 \n",
    "c_0 = (ref_trace_msg_0 ** e) % n \n",
    "msg_0 = c_0.to_bytes(key_len,'big')\n",
    "trace_0 = capture_RSA_trace(scope, target, msg_0)\n",
    "plt.plot(trace_0, 'r')\n",
    "\n",
    "ref_trace_msg_1 = 195126513202591094461357355156264195281\n",
    "c_1 = (ref_trace_msg_1 ** e) % n \n",
    "msg_1 = c_1.to_bytes(key_len,'big')\n",
    "trace_1 = capture_RSA_trace(scope, target, msg_1)\n",
    "plt.plot(trace_1, 'y')\n",
    "\n",
    "ref_trace_msg_2 = 54 \n",
    "c_2 = (ref_trace_msg_2 ** e) % n \n",
    "msg_2 = c_2.to_bytes(key_len,'big')\n",
    "trace_2 = capture_RSA_trace(scope, target, msg_2)\n",
    "plt.plot(trace_2, 'm')\n",
    "\n",
    "print(np.sum(np.abs(trace_1 - trace_0)))\n",
    "print(np.sum(np.abs(trace_2 - trace_0)))\n",
    "print(np.sum(np.abs(trace_1 - trace_2)))"
   ]
  },
  {
   "cell_type": "code",
   "execution_count": null,
   "id": "76",
   "metadata": {},
   "outputs": [],
   "source": [
    "plt.figure()\n",
    "\n",
    "while m != l:\n",
    "    print(m, hex(m), '\\n')\n",
    "    enc = pow(m, e, n)\n",
    "    msg = enc.to_bytes(key_len,'big')\n",
    "    \n",
    "    trace = capture_RSA_trace(scope, target, msg)\n",
    "    print(m, hex(enc))\n",
    "\n",
    "    diff0 = np.sum(np.abs(trace - trace_0))\n",
    "    print(\"sad ref0: \", diff0)\n",
    "\n",
    "    diff1 = np.sum(np.abs(trace - trace_1))\n",
    "    print(\"sad ref1:\", diff1)\n",
    "\n",
    "    diff2 = np.sum(np.abs(trace - trace_2))\n",
    "    print(\"sad ref2:\", diff2)\n",
    "\n",
    "    if diff1 < diff0 and diff1 < diff2:\n",
    "        diff = diff1\n",
    "        print('diff1')\n",
    "    elif diff0 < diff1 and diff0 < diff2:\n",
    "        diff = diff0\n",
    "        print('diff0')\n",
    "    else:\n",
    "        diff = diff2\n",
    "        print('diff2')\n",
    "        \n",
    "    \n",
    "    if diff < 15: # ähnliche -> diff(m) = 0\n",
    "        plt.plot(trace, 'g')\n",
    "        l = m\n",
    "    else: #unterscheidet sich von ref_trace -> diff(m) = 1\n",
    "        plt.plot(trace, 'b')\n",
    "        x = m\n",
    "        \n",
    "    m = (l + x)//2\n",
    "    \n",
    "    \n",
    "\n",
    "print (x)\n"
   ]
  },
  {
   "cell_type": "markdown",
   "id": "77",
   "metadata": {},
   "source": [
    "p = 267882443680857975761967467408531606417\n",
    "q = 195126513202591094461357355156264195281\n",
    "N = 52270967183635299110959169812507925945033892524340745668343932985606720718177"
   ]
  },
  {
   "cell_type": "markdown",
   "id": "78",
   "metadata": {},
   "source": [
    "q = N // p\n",
    "euler = (p-1)*(q-1)\n",
    "\n",
    "-> d durch erweiterter euklidischer algo "
   ]
  },
  {
   "cell_type": "code",
   "execution_count": null,
   "id": "79",
   "metadata": {},
   "outputs": [],
   "source": [
    "scope.dis()\n",
    "target.dis()"
   ]
  },
  {
   "cell_type": "code",
   "execution_count": null,
   "id": "80",
   "metadata": {},
   "outputs": [],
   "source": []
  }
 ],
 "metadata": {
  "kernelspec": {
   "display_name": "Python 3 (ipykernel)",
   "language": "python",
   "name": "python3"
  },
  "language_info": {
   "codemirror_mode": {
    "name": "ipython",
    "version": 3
   },
   "file_extension": ".py",
   "mimetype": "text/x-python",
   "name": "python",
   "nbconvert_exporter": "python",
   "pygments_lexer": "ipython3",
   "version": "3.11.9"
  }
 },
 "nbformat": 4,
 "nbformat_minor": 5
}
