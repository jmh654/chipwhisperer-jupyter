{
 "cells": [
  {
   "cell_type": "markdown",
   "id": "0",
   "metadata": {},
   "source": [
    "### Setup"
   ]
  },
  {
   "cell_type": "code",
   "execution_count": null,
   "id": "1",
   "metadata": {},
   "outputs": [],
   "source": [
    "SCOPETYPE = 'OPENADC'\n",
    "PLATFORM = 'CW308_STM32F3'\n",
    "CRYPTO_TARGET = 'MBEDTLS'"
   ]
  },
  {
   "cell_type": "code",
   "execution_count": null,
   "id": "2",
   "metadata": {},
   "outputs": [],
   "source": [
    "%%bash -s \"$PLATFORM\" \"$CRYPTO_TARGET\"\n",
    "cd ../../../hardware/victims/firmware/simpleserial-rsa\n",
    "#make clean PLATFORM=$1 CRYPTO_TARGET=$2\n",
    "make PLATFORM=$1 CRYPTO_TARGET=$2 "
   ]
  },
  {
   "cell_type": "code",
   "execution_count": null,
   "id": "3",
   "metadata": {},
   "outputs": [],
   "source": [
    "%run \"../../Setup_Scripts/Setup_Generic.ipynb\""
   ]
  },
  {
   "cell_type": "code",
   "execution_count": null,
   "id": "4",
   "metadata": {},
   "outputs": [],
   "source": [
    "fw_path = '../../../hardware/victims/firmware/simpleserial-rsa/simpleserial-rsa-CW308_STM32F3.hex'"
   ]
  },
  {
   "cell_type": "code",
   "execution_count": null,
   "id": "5",
   "metadata": {},
   "outputs": [],
   "source": [
    "cw.program_target(scope, prog, fw_path)"
   ]
  },
  {
   "cell_type": "code",
   "execution_count": null,
   "id": "6",
   "metadata": {},
   "outputs": [],
   "source": [
    "import numpy as np\n",
    "import time \n",
    "import matplotlib.pylab as plt\n",
    "import matplotlib"
   ]
  },
  {
   "cell_type": "code",
   "execution_count": null,
   "id": "7",
   "metadata": {},
   "outputs": [],
   "source": [
    "e = 65537"
   ]
  },
  {
   "cell_type": "code",
   "execution_count": null,
   "id": "8",
   "metadata": {},
   "outputs": [],
   "source": [
    "#2Bytes -> key_len = 4\n",
    "n = 3849453107\n",
    "\n",
    "p = 62549\n",
    "q = 61543\n",
    "dp = 11321\n",
    "dq = 647\n",
    "qinv = 34632"
   ]
  },
  {
   "cell_type": "code",
   "execution_count": null,
   "id": "9",
   "metadata": {},
   "outputs": [],
   "source": [
    "#8Bytes -> key_len = 16\n",
    "n = 89525655797379415138998373505682772229"
   ]
  },
  {
   "cell_type": "code",
   "execution_count": null,
   "id": "10",
   "metadata": {},
   "outputs": [],
   "source": [
    "#16Bytes -> key_len = 32\n",
    "n = 52270967183635299110959169812507925945033892524340745668343932985606720718177"
   ]
  },
  {
   "cell_type": "code",
   "execution_count": null,
   "id": "11",
   "metadata": {},
   "outputs": [],
   "source": [
    "#key lenght of n; p, q have lenght key_len//2\n",
    "key_len = 4"
   ]
  },
  {
   "cell_type": "code",
   "execution_count": null,
   "id": "12",
   "metadata": {},
   "outputs": [],
   "source": [
    "#key lenght of n; p, q have lenght key_len//2\n",
    "key_len = 32"
   ]
  },
  {
   "cell_type": "markdown",
   "id": "13",
   "metadata": {
    "jp-MarkdownHeadingCollapsed": true
   },
   "source": [
    "### find numbers"
   ]
  },
  {
   "cell_type": "code",
   "execution_count": null,
   "id": "14",
   "metadata": {},
   "outputs": [],
   "source": [
    "# Parameters\n",
    "p = 14091828191315287507 \n",
    "q = 6353019252147394247\n",
    "    9223372036854775808\n",
    "     288230376151711744\n",
    "e = 65537\n",
    "n = 89525655797379415138998373505682772229\n",
    "max_msg = 10000  # Set a range for msg (you can adjust this range)"
   ]
  },
  {
   "cell_type": "code",
   "execution_count": null,
   "id": "15",
   "metadata": {},
   "outputs": [],
   "source": [
    "def find_valid_msg_d1(p, q, e, n, max_msg):\n",
    "    valid_msgs = []\n",
    "    for msg in range(1, max_msg + 1):  # Iterate through possible msg values\n",
    "        x = pow(msg, e, n)  # Compute (msg^e) % n efficiently using modular exponentiation\n",
    "        if (x % p) - (x % q) < 0:  # Check the condition\n",
    "            valid_msgs.append(msg)\n",
    "    return valid_msgs\n",
    "\n",
    "\n",
    "\n",
    "# Find and display valid messages\n",
    "valid_msgs = find_valid_msgs(p, q, e, n, max_msg)\n",
    "print(f\"Valid messages: {valid_msgs}\")"
   ]
  },
  {
   "cell_type": "code",
   "execution_count": null,
   "id": "16",
   "metadata": {},
   "outputs": [],
   "source": [
    "def find_valid_msgs_d0(p, q, e, n, max_msg):\n",
    "    valid_msgs = []\n",
    "    for msg in range(1, max_msg + 1):  # Iterate through possible msg values\n",
    "        x = pow(msg, e, n)  # Compute (msg^e) % n efficiently using modular exponentiation\n",
    "        if (x % p) - (x % q) > 0:  # Check the condition\n",
    "            valid_msgs.append(msg)\n",
    "    return valid_msgs\n",
    "\n",
    "# Find and display valid messages\n",
    "valid_msgs = find_valid_msgs(p, q, e, n, max_msg)\n",
    "print(f\"Valid messages: {valid_msgs}\")"
   ]
  },
  {
   "cell_type": "markdown",
   "id": "17",
   "metadata": {},
   "source": [
    "### capture trace setup"
   ]
  },
  {
   "cell_type": "code",
   "execution_count": null,
   "id": "18",
   "metadata": {},
   "outputs": [],
   "source": [
    "scope.clock.adc_src = \"clkgen_x1\"\n",
    "scope.adc.samples = 600 #print('#samples: ', scope.adc.trig_count) gibt <600 samples aus \n",
    "\n",
    "#scope.adc.timeout = 50"
   ]
  },
  {
   "cell_type": "code",
   "execution_count": null,
   "id": "19",
   "metadata": {},
   "outputs": [],
   "source": [
    "import time\n",
    "\n",
    "def capture_RSA_trace(scope, target, text):\n",
    "    scope.arm()\n",
    "    target.simpleserial_write('t', text)\n",
    "\n",
    "    # get debug output, nötig?\n",
    "    #rec_str = target.read(1000, timeout=2000)\n",
    "    #received_str = rec_str.replace(\"\\\\r\\\\n\", \"\\n\")\n",
    "    #print(received_str)\n",
    "    \n",
    "    ret = scope.capture()\n",
    "    if ret:\n",
    "        print('Timeout happened during acquisition')\n",
    "\n",
    "    time.sleep(2)\n",
    "    output = target.read(timeout=20)\n",
    "    print('first: ', output.replace(\"\\\\r\\\\n\\\\z00\", \"\\n\"))\n",
    "    \n",
    "    target.write(\"1\\n\")\n",
    "    time.sleep(0.2)\n",
    "    #output += target.read(timeout=10)\n",
    "    output = target.read(timeout=10) \n",
    "    print('next 48 bytes: ', output.replace(\"r\", \"\").replace(\"\\nz00\",\"\").replace(\"\\n\",\"\"))\n",
    "\n",
    "    target.write(\"2\\n\")\n",
    "    time.sleep(0.2)\n",
    "    #output += target.read(timeout=10)\n",
    "    output = target.read(timeout=10) \n",
    "    print('last bytes: ', output.replace(\"r\", \"\").replace(\"\\nz00\",\"\").replace(\"\\n\",\"\"))\n",
    "\n",
    "\n",
    "    #newout = output.replace(\"r\", \"\").replace(\"\\nz00\",\"\").replace(\"\\n\",\"\")\n",
    "    #print('output: ', newout)\n",
    "\n",
    "    if SCOPETYPE == \"OPENADC\":\n",
    "        print('#samples: ', scope.adc.trig_count)\n",
    "    \n",
    "    target.simpleserial_wait_ack() #!!!!\n",
    "    return scope.get_last_trace()"
   ]
  },
  {
   "cell_type": "code",
   "execution_count": null,
   "id": "20",
   "metadata": {},
   "outputs": [],
   "source": [
    "import time\n",
    "\n",
    "def capture_RSA_trace(scope, target, text):\n",
    "    target.flush()\n",
    "    scope.arm()\n",
    "    target.simpleserial_write('t', text)\n",
    "\n",
    "    rec_str = target.read(1000, timeout=200)\n",
    "    received_str = rec_str.replace(\"\\\\r\\\\n\", \"\\n\")\n",
    "    print(received_str)\n",
    "    \n",
    "    ret = scope.capture()\n",
    "    if ret:\n",
    "        print('Timeout happened during acquisition')\n",
    "    \n",
    "    target.simpleserial_wait_ack() #!!!!\n",
    "    return scope.get_last_trace()"
   ]
  },
  {
   "cell_type": "markdown",
   "id": "21",
   "metadata": {},
   "source": [
    "### test numbers"
   ]
  },
  {
   "cell_type": "code",
   "execution_count": null,
   "id": "22",
   "metadata": {},
   "outputs": [],
   "source": [
    "%matplotlib ipympl\n",
    "import matplotlib.pylab as plt\n",
    "\n",
    "msg = 54\n",
    "c = (msg ** e) % n\n",
    "\n",
    "cb = c.to_bytes(key_len,'big')\n",
    "\n",
    "print( 'encrypted: ', c, cb, type(cb), hex(c))\n",
    "\n",
    "trace1 = capture_RSA_trace(scope, target, cb)\n",
    "plt.figure()\n",
    "plt.plot(trace1, 'r')"
   ]
  },
  {
   "cell_type": "code",
   "execution_count": null,
   "id": "23",
   "metadata": {},
   "outputs": [],
   "source": [
    "%matplotlib ipympl\n",
    "import matplotlib.pylab as plt\n",
    "\n",
    "msg = 16\n",
    "c = (msg ** e) % n\n",
    "\n",
    "cb = c.to_bytes(key_len,'big')\n",
    "\n",
    "print( 'encrypted: ', c, cb, type(cb), hex(c))\n",
    "\n",
    "trace2 = capture_RSA_trace(scope, target, cb)\n",
    "plt.figure()\n",
    "plt.plot(trace2, 'r')"
   ]
  },
  {
   "cell_type": "code",
   "execution_count": null,
   "id": "24",
   "metadata": {},
   "outputs": [],
   "source": [
    "%matplotlib ipympl\n",
    "import matplotlib.pylab as plt\n",
    "\n",
    "msg = 11\n",
    "c = (msg ** e) % n\n",
    "\n",
    "cb = c.to_bytes(key_len,'big')\n",
    "\n",
    "print( 'encrypted: ', c, cb, type(cb), hex(c))\n",
    "\n",
    "trace3 = capture_RSA_trace(scope, target, cb)\n",
    "plt.figure()\n",
    "plt.plot(trace3, 'r')\n"
   ]
  },
  {
   "cell_type": "code",
   "execution_count": null,
   "id": "25",
   "metadata": {},
   "outputs": [],
   "source": [
    "%matplotlib ipympl\n",
    "import matplotlib.pylab as plt\n",
    "\n",
    "msg = 62549 \n",
    "c = (msg ** e) % n\n",
    "\n",
    "cb = c.to_bytes(key_len,'big')\n",
    "\n",
    "print( 'encrypted: ', c, cb, type(cb), hex(c))\n",
    "\n",
    "trace4 = capture_RSA_trace(scope, target, cb)\n",
    "plt.figure()\n",
    "plt.plot(trace4, 'r')"
   ]
  },
  {
   "cell_type": "code",
   "execution_count": null,
   "id": "26",
   "metadata": {},
   "outputs": [],
   "source": [
    "print(np.sum(np.abs(trace1 - trace2))) #same\n",
    "print(np.sum(np.abs(trace1 - trace3))) #diff\n",
    "print(np.sum(np.abs(trace1 - trace4))) #diff\n",
    "print(np.sum(np.abs(trace2 - trace3))) #diff\n",
    "print(np.sum(np.abs(trace2 - trace4))) #diff\n",
    "print(np.sum(np.abs(trace3 - trace4))) #same "
   ]
  },
  {
   "cell_type": "code",
   "execution_count": null,
   "id": "27",
   "metadata": {},
   "outputs": [],
   "source": [
    "plt.figure()\n",
    "plt.plot(trace1, 'r')\n",
    "plt.plot(trace2, 'b')\n",
    "plt.plot(trace2, 'y')\n",
    "plt.plot(trace4, 'g')"
   ]
  },
  {
   "cell_type": "code",
   "execution_count": null,
   "id": "28",
   "metadata": {},
   "outputs": [],
   "source": [
    "# keylen = 4\n",
    "# #samples für MBEDTLS_MPI_CHK( mbedtls_mpi_sub_mpi( &T, &T1, &T2 ) ) = 600\n",
    "# diff(same): 2 \n",
    "# diff(diff): 30"
   ]
  },
  {
   "cell_type": "markdown",
   "id": "29",
   "metadata": {},
   "source": [
    "### Key Reconstuction\n",
    "\n",
    "* find plaintexts x_1 and x_2 mit diff(x_1) = 0 und diff(x_2) = 1.\n",
    "* mittels binäre suche: finde x mit diff(x-1) = 0 und diff(x) = 1 -> x ist Vielfaches von p \n",
    "* ggt(x, n) = p\n",
    "* x^e mod n"
   ]
  },
  {
   "cell_type": "markdown",
   "id": "30",
   "metadata": {},
   "source": [
    "### Algorithmus\n",
    "\n",
    "Reconstruction of p when its bitlength is half bitlength of n\n",
    "INPUT: modulus n with the bitlength t, public exponent e.\n",
    "OUTPUT: prime p such that p divides n.\n",
    "\n",
    "t = bitlenght von n \n",
    "p,q haben bitlänge t/2\n",
    "\n",
    "x = 2 ** (t/2)\n",
    "m = x/2 "
   ]
  },
  {
   "cell_type": "code",
   "execution_count": null,
   "id": "31",
   "metadata": {},
   "outputs": [],
   "source": [
    "#  Byte Primzahlen \n",
    "\n",
    "t = key_len*8\n",
    "\n",
    "# x= 2 ** (t/2) \n",
    "# m = x/2 \n",
    "# l = 0 \n",
    "\n",
    "#upper\n",
    "x = 2**(t//2)\n",
    "m = x//2\n",
    "#lower\n",
    "l = 0\n",
    "\n",
    "print(x, m, l)"
   ]
  },
  {
   "cell_type": "code",
   "execution_count": null,
   "id": "32",
   "metadata": {},
   "outputs": [],
   "source": [
    "plt.figure()\n",
    "\n",
    "ref_trace_msg_ = 11 \n",
    "c_ = (ref_trace_msg_ ** e) % n \n",
    "msg_ = c_.to_bytes(key_len,'big')\n",
    "trace_ = capture_RSA_trace(scope, target, msg_)\n",
    "plt.plot(trace_, 'r')\n",
    "\n",
    "\n",
    "while m != l:\n",
    "    print(m, hex(m), '\\n')\n",
    "    enc = pow(m, e, n)\n",
    "    msg = enc.to_bytes(key_len,'big')\n",
    "    \n",
    "    trace = capture_RSA_trace(scope, target, msg)\n",
    "\n",
    "    diff = np.sum(np.abs(trace - trace_))\n",
    "    print(m, hex(enc), diff)\n",
    "    \n",
    "    if diff < 15: # ähnliche -> diff(m) = 0\n",
    "        plt.plot(trace, 'g')\n",
    "        l = m\n",
    "    else: #unterscheidet sich von ref_trace -> diff(m) = 1\n",
    "        plt.plot(trace, 'b')\n",
    "        x = m\n",
    "        \n",
    "    m = (l + x)//2\n",
    "    \n",
    "    \n",
    "\n",
    "print (x)\n"
   ]
  },
  {
   "cell_type": "markdown",
   "id": "33",
   "metadata": {},
   "source": [
    "p = 14091828191315287507\n",
    "q = 6353019252147394247\n",
    "N = 89525655797379415138998373505682772229"
   ]
  },
  {
   "cell_type": "markdown",
   "id": "34",
   "metadata": {},
   "source": [
    "q = N // p\n",
    "euler = (p-1)*(q-1)\n",
    "\n",
    "-> d durch erweiterter euklidischer algo "
   ]
  },
  {
   "cell_type": "code",
   "execution_count": null,
   "id": "35",
   "metadata": {},
   "outputs": [],
   "source": [
    "scope.dis()\n",
    "target.dis()"
   ]
  },
  {
   "cell_type": "code",
   "execution_count": null,
   "id": "36",
   "metadata": {},
   "outputs": [],
   "source": []
  }
 ],
 "metadata": {
  "kernelspec": {
   "display_name": "Python 3 (ipykernel)",
   "language": "python",
   "name": "python3"
  },
  "language_info": {
   "codemirror_mode": {
    "name": "ipython",
    "version": 3
   },
   "file_extension": ".py",
   "mimetype": "text/x-python",
   "name": "python",
   "nbconvert_exporter": "python",
   "pygments_lexer": "ipython3",
   "version": "3.11.9"
  }
 },
 "nbformat": 4,
 "nbformat_minor": 5
}
