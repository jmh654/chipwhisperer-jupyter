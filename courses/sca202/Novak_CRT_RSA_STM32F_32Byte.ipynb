{
 "cells": [
  {
   "cell_type": "markdown",
   "id": "0",
   "metadata": {},
   "source": [
    "### Setup"
   ]
  },
  {
   "cell_type": "code",
   "execution_count": null,
   "id": "1",
   "metadata": {},
   "outputs": [],
   "source": [
    "SCOPETYPE = 'OPENADC'\n",
    "PLATFORM = 'CW308_STM32F3'\n",
    "CRYPTO_TARGET = 'MBEDTLS'"
   ]
  },
  {
   "cell_type": "code",
   "execution_count": null,
   "id": "2",
   "metadata": {},
   "outputs": [],
   "source": [
    "%%bash -s \"$PLATFORM\" \"$CRYPTO_TARGET\"\n",
    "cd ../../../hardware/victims/firmware/simpleserial-rsa\n",
    "#make clean PLATFORM=$1 CRYPTO_TARGET=$2\n",
    "make PLATFORM=$1 CRYPTO_TARGET=$2 "
   ]
  },
  {
   "cell_type": "code",
   "execution_count": null,
   "id": "3",
   "metadata": {},
   "outputs": [],
   "source": [
    "%run \"../../Setup_Scripts/Setup_Generic.ipynb\""
   ]
  },
  {
   "cell_type": "code",
   "execution_count": null,
   "id": "4",
   "metadata": {},
   "outputs": [],
   "source": [
    "fw_path = '../../../hardware/victims/firmware/simpleserial-rsa/simpleserial-rsa-CW308_STM32F3.hex'"
   ]
  },
  {
   "cell_type": "code",
   "execution_count": null,
   "id": "5",
   "metadata": {},
   "outputs": [],
   "source": [
    "cw.program_target(scope, prog, fw_path)"
   ]
  },
  {
   "cell_type": "code",
   "execution_count": null,
   "id": "6",
   "metadata": {},
   "outputs": [],
   "source": [
    "import numpy as np\n",
    "import time \n",
    "import matplotlib.pylab as plt\n",
    "import matplotlib"
   ]
  },
  {
   "cell_type": "code",
   "execution_count": null,
   "id": "7",
   "metadata": {},
   "outputs": [],
   "source": [
    "e = 65537"
   ]
  },
  {
   "cell_type": "code",
   "execution_count": null,
   "id": "8",
   "metadata": {},
   "outputs": [],
   "source": [
    "#32Bytes -> key_len = 64\n",
    "n = 3231080904348211197507744225057151739674198701955287013863366120571536075433289354791858611634080222605797512592173476389538288555005341834233505795734023"
   ]
  },
  {
   "cell_type": "code",
   "execution_count": null,
   "id": "9",
   "metadata": {},
   "outputs": [],
   "source": [
    "#key lenght of n; p, q have lenght key_len//2\n",
    "key_len = 64"
   ]
  },
  {
   "cell_type": "code",
   "execution_count": null,
   "id": "10",
   "metadata": {},
   "outputs": [],
   "source": [
    "# Parameters\n",
    "p = 56842597621398436557813564258526951265526554589515564527115452658451565454963 \n",
    "q = 56842597621398436557813564258526951265526554589515564527115452658451565454621\n",
    "dp = 42226251814971434209944815538190405761053455455552821444414846768645413494283\n",
    "dq = 47798018101494521266834730193984493603489676013146974160013511154837836956813"
   ]
  },
  {
   "cell_type": "code",
   "execution_count": null,
   "id": "11",
   "metadata": {},
   "outputs": [],
   "source": [
    "def find_valid_msg_d1(p, q, e, n, max_msg):\n",
    "    valid_msgs = []\n",
    "    for msg in range(1, max_msg + 1):  # Iterate through possible msg values\n",
    "        x = pow(msg, e, n)  # Compute (msg^e) % n efficiently using modular exponentiation\n",
    "        if (x % p) - (x % q) < 0:  # Check the condition\n",
    "            valid_msgs.append(msg)\n",
    "    return valid_msgs\n",
    "\n",
    "\n",
    "\n",
    "# Find and display valid messages\n",
    "valid_msgs = find_valid_msgs(p, q, e, n, max_msg)\n",
    "print(f\"Valid messages: {valid_msgs}\")"
   ]
  },
  {
   "cell_type": "code",
   "execution_count": null,
   "id": "12",
   "metadata": {},
   "outputs": [],
   "source": [
    "def find_valid_msgs_d0(p, q, e, n, max_msg):\n",
    "    valid_msgs = []\n",
    "    for msg in range(1, max_msg + 1):  # Iterate through possible msg values\n",
    "        x = pow(msg, e, n)  # Compute (msg^e) % n efficiently using modular exponentiation\n",
    "        if (x % p) - (x % q) > 0:  # Check the condition\n",
    "            valid_msgs.append(msg)\n",
    "    return valid_msgs\n",
    "\n",
    "# Find and display valid messages\n",
    "valid_msgs = find_valid_msgs(p, q, e, n, max_msg)\n",
    "print(f\"Valid messages: {valid_msgs}\")"
   ]
  },
  {
   "cell_type": "code",
   "execution_count": null,
   "id": "13",
   "metadata": {},
   "outputs": [],
   "source": [
    "m = 170141183460469231731687303715884105728\n",
    "\n",
    "t1 = pow(m, dp, p)\n",
    "t2 = pow(m, dq, q) \n",
    "print(t1)\n",
    "print(t2)\n",
    "print(t1 - t2)\n"
   ]
  },
  {
   "cell_type": "code",
   "execution_count": null,
   "id": "14",
   "metadata": {},
   "outputs": [],
   "source": [
    "m = 54\n",
    "\n",
    "t1 = pow(m, dp, p)\n",
    "t2 = pow(m, dq, q) \n",
    "print(t1)\n",
    "print(t2)\n",
    "print(t1 - t2)"
   ]
  },
  {
   "cell_type": "code",
   "execution_count": null,
   "id": "15",
   "metadata": {},
   "outputs": [],
   "source": [
    "m = 195126513202591094461357355156264195281\n",
    "\n",
    "t1 = pow(m, dp, p)\n",
    "t2 = pow(m, dq, q) \n",
    "print(t1)\n",
    "print(t2)\n",
    "print(t1 - t2)"
   ]
  },
  {
   "cell_type": "code",
   "execution_count": null,
   "id": "16",
   "metadata": {},
   "outputs": [],
   "source": [
    "m = 267882443680857975761967467408531606417\n",
    "\n",
    "t1 = pow(m, dp, p)\n",
    "t2 = pow(m, dq, q) \n",
    "print(t1)\n",
    "print(t2)\n",
    "print(t1 - t2)"
   ]
  },
  {
   "cell_type": "code",
   "execution_count": null,
   "id": "17",
   "metadata": {},
   "outputs": [],
   "source": [
    "m = 16\n",
    "\n",
    "t1 = pow(m, dp, p)\n",
    "t2 = pow(m, dq, q) \n",
    "print(t1)\n",
    "print(t2)\n",
    "print(t1 - t2)"
   ]
  },
  {
   "cell_type": "code",
   "execution_count": null,
   "id": "18",
   "metadata": {},
   "outputs": [],
   "source": [
    "m = 255211775190703847597530955573826158592\n",
    "\n",
    "t1 = pow(m, dp, p)\n",
    "t2 = pow(m, dq, q) \n",
    "print(t1)\n",
    "print(t2)\n",
    "print(t1 - t2)"
   ]
  },
  {
   "cell_type": "code",
   "execution_count": null,
   "id": "19",
   "metadata": {},
   "outputs": [],
   "source": [
    "#print(x mod p − x mod q < 0)\n",
    "\n",
    "x = 170141183460469231731687303715884105728\n",
    "print( (x%p) - (x%q))"
   ]
  },
  {
   "cell_type": "code",
   "execution_count": null,
   "id": "20",
   "metadata": {},
   "outputs": [],
   "source": [
    "#print(x mod p − x mod q < 0)\n",
    "\n",
    "x = 195126513202591094461357355156264195281\n",
    "print( (x%p) - (x%q))"
   ]
  },
  {
   "cell_type": "code",
   "execution_count": null,
   "id": "21",
   "metadata": {},
   "outputs": [],
   "source": [
    "#print(x mod p − x mod q < 0)\n",
    "\n",
    "x = 16\n",
    "print( (x%p) - (x%q))"
   ]
  },
  {
   "cell_type": "code",
   "execution_count": null,
   "id": "22",
   "metadata": {},
   "outputs": [],
   "source": [
    "#print(x mod p − x mod q < 0)\n",
    "\n",
    "x = 54\n",
    "print( (x%p) - (x%q))"
   ]
  },
  {
   "cell_type": "code",
   "execution_count": null,
   "id": "23",
   "metadata": {},
   "outputs": [],
   "source": [
    "#print(x mod p − x mod q < 0)\n",
    "\n",
    "x = 255211775190703847597530955573826158592\n",
    "print( (x%p) - (x%q))"
   ]
  },
  {
   "cell_type": "code",
   "execution_count": null,
   "id": "24",
   "metadata": {},
   "outputs": [],
   "source": [
    "x = 267882443680857975761967467408531606417\n",
    "print( (x%p) - (x%q))\n",
    "\n",
    "# diff(x) = 1"
   ]
  },
  {
   "cell_type": "code",
   "execution_count": null,
   "id": "25",
   "metadata": {},
   "outputs": [],
   "source": [
    "#neg\n",
    "255211775190703847597530955573826158592\n",
    "267882443680857975761967467408531606417\n",
    "54\n",
    "\n",
    "#pos \n",
    "16\n",
    "195126513202591094461357355156264195281\n",
    "170141183460469231731687303715884105728\n",
    "\n",
    "\n",
    "\n",
    "#pos\n",
    "255211775190703847597530955573826158592\n",
    "195126513202591094461357355156264195281\n",
    "\n",
    "#o\n",
    "170141183460469231731687303715884105728\n",
    "54\n",
    "16\n",
    "\n",
    "#neg\n",
    "267882443680857975761967467408531606417"
   ]
  },
  {
   "cell_type": "markdown",
   "id": "26",
   "metadata": {
    "jp-MarkdownHeadingCollapsed": true
   },
   "source": [
    "### mathing\n"
   ]
  },
  {
   "cell_type": "code",
   "execution_count": null,
   "id": "27",
   "metadata": {},
   "outputs": [],
   "source": [
    "p = 267882443680857975761967467408531606417 \n",
    "q = 195126513202591094461357355156264195281\n",
    "e = 65537\n",
    "n = 52270967183635299110959169812507925945033892524340745668343932985606720718177\n",
    "dp = 256641820519554293363545041368684467889\n",
    "dq = 185161326518899860606250116989915167073"
   ]
  },
  {
   "cell_type": "code",
   "execution_count": null,
   "id": "28",
   "metadata": {},
   "outputs": [],
   "source": [
    "#diff(kp) = 1\n",
    "\n",
    "#also \n",
    "#x mod p - x mod q < 0\n",
    "x = 5*p\n",
    "print( x % p - x % q)\n",
    "\n",
    "#ergebniss ist negative \n",
    "# -> x mod p - x mod q < 0 erfüllt "
   ]
  },
  {
   "cell_type": "code",
   "execution_count": null,
   "id": "29",
   "metadata": {},
   "outputs": [],
   "source": [
    "#diff(nq) = 0\n",
    "\n",
    "#also \n",
    "#x mod p - x mod q => 0\n",
    "x = 2*q\n",
    "print( x % p - x % q)\n",
    "\n",
    "#ergebniss ist pos\n",
    "# -> x mod p - x mod q < 0 nicht erfüllt"
   ]
  },
  {
   "cell_type": "code",
   "execution_count": null,
   "id": "30",
   "metadata": {},
   "outputs": [],
   "source": [
    "#diff(kq-1) = 0\n",
    "\n",
    "#also \n",
    "#x mod p - x mod q => 0\n",
    "x = 2*p-1\n",
    "print( x % p - x % q)\n",
    "\n",
    "#ergebniss ist pos\n",
    "# -> x mod p - x mod q < 0 nicht erfüllt"
   ]
  },
  {
   "cell_type": "code",
   "execution_count": null,
   "id": "31",
   "metadata": {},
   "outputs": [],
   "source": [
    "print (170141183460469231731687303715884105728 / (p))\n",
    "print (170141183460469231731687303715884105728 /q)"
   ]
  },
  {
   "cell_type": "code",
   "execution_count": null,
   "id": "32",
   "metadata": {},
   "outputs": [],
   "source": [
    "x = 170141183460469231731687303715884105728\n",
    "print( x % p - x % q)\n",
    "# ergebnis = 0\n",
    "# 0 ist nicht kleiner 0\n",
    "# -> diff muss 0"
   ]
  },
  {
   "cell_type": "markdown",
   "id": "33",
   "metadata": {},
   "source": [
    "### capture trace setup"
   ]
  },
  {
   "cell_type": "code",
   "execution_count": null,
   "id": "34",
   "metadata": {},
   "outputs": [],
   "source": [
    "scope.clock.adc_src = \"clkgen_x1\"\n",
    "scope.adc.samples = 1500 #print('#samples: ', scope.adc.trig_count) gibt <800 samples aus \n",
    "\n",
    "#scope.adc.timeout = 50"
   ]
  },
  {
   "cell_type": "code",
   "execution_count": null,
   "id": "35",
   "metadata": {},
   "outputs": [],
   "source": [
    "import time\n",
    "\n",
    "def capture_RSA_trace(scope, target, text):\n",
    "    target.flush()\n",
    "    scope.arm()\n",
    "    target.simpleserial_write('t', text)\n",
    "\n",
    "    rec_str = target.read(2000, timeout=1000)\n",
    "    received_str = rec_str.replace(\"\\\\r\\\\n\", \"\\n\")\n",
    "    print(received_str)\n",
    "    \n",
    "    ret = scope.capture()\n",
    "    if ret:\n",
    "        print('Timeout happened during acquisition')\n",
    "\n",
    "    if SCOPETYPE == \"OPENADC\":\n",
    "        print('#samples: ', scope.adc.trig_count)\n",
    "    \n",
    "    target.simpleserial_wait_ack() #!!!!\n",
    "    return scope.get_last_trace()"
   ]
  },
  {
   "cell_type": "code",
   "execution_count": null,
   "id": "36",
   "metadata": {},
   "outputs": [],
   "source": [
    "%matplotlib ipympl\n",
    "import matplotlib.pylab as plt\n",
    "\n",
    "msg = 54\n",
    "c = (msg ** e) % n\n",
    "\n",
    "cb = c.to_bytes(key_len,'big')\n",
    "\n",
    "print( 'encrypted: ', c, cb, type(cb), hex(c))\n",
    "\n",
    "trace1 = capture_RSA_trace(scope, target, cb)\n",
    "plt.figure()\n",
    "plt.plot(trace1, 'r')\n",
    "\n"
   ]
  },
  {
   "cell_type": "code",
   "execution_count": null,
   "id": "37",
   "metadata": {},
   "outputs": [],
   "source": [
    "%matplotlib ipympl\n",
    "import matplotlib.pylab as plt\n",
    "\n",
    "msg = 16\n",
    "c = (msg ** e) % n\n",
    "\n",
    "cb = c.to_bytes(key_len,'big')\n",
    "\n",
    "print( 'encrypted: ', c, cb, type(cb), hex(c))\n",
    "\n",
    "trace2 = capture_RSA_trace(scope, target, cb)\n",
    "plt.figure()\n",
    "plt.plot(trace2, 'r')"
   ]
  },
  {
   "cell_type": "code",
   "execution_count": null,
   "id": "38",
   "metadata": {},
   "outputs": [],
   "source": [
    "%matplotlib ipympl\n",
    "import matplotlib.pylab as plt\n",
    "\n",
    "msg = 195126513202591094461357355156264195281\n",
    "c = (msg ** e) % n\n",
    "\n",
    "cb = c.to_bytes(key_len,'big')\n",
    "\n",
    "print( 'encrypted: ', c, cb, type(cb), hex(c))\n",
    "\n",
    "trace3 = capture_RSA_trace(scope, target, cb)\n",
    "plt.figure()\n",
    "plt.plot(trace3, 'r')\n"
   ]
  },
  {
   "cell_type": "code",
   "execution_count": null,
   "id": "39",
   "metadata": {},
   "outputs": [],
   "source": [
    "%matplotlib ipympl\n",
    "import matplotlib.pylab as plt\n",
    "\n",
    "msg = 170141183460469231731687303715884105728 \n",
    "c = (msg ** e) % n\n",
    "\n",
    "cb = c.to_bytes(key_len,'big')\n",
    "\n",
    "print( 'encrypted: ', c, cb, type(cb), hex(c))\n",
    "\n",
    "trace4 = capture_RSA_trace(scope, target, cb)\n",
    "plt.figure()\n",
    "plt.plot(trace4, 'r')"
   ]
  },
  {
   "cell_type": "code",
   "execution_count": null,
   "id": "40",
   "metadata": {},
   "outputs": [],
   "source": [
    "print(np.sum(np.abs(trace1 - trace2))) #same\n",
    "print(np.sum(np.abs(trace1 - trace3))) #diff\n",
    "print(np.sum(np.abs(trace1 - trace4))) #diff\n",
    "print(np.sum(np.abs(trace2 - trace3))) #diff\n",
    "print(np.sum(np.abs(trace2 - trace4))) #diff\n",
    "print(np.sum(np.abs(trace3 - trace4))) #same "
   ]
  },
  {
   "cell_type": "code",
   "execution_count": null,
   "id": "41",
   "metadata": {},
   "outputs": [],
   "source": [
    "plt.figure()\n",
    "plt.plot(trace1, 'r')\n",
    "plt.plot(trace2, 'b')\n",
    "plt.plot(trace3, 'y')\n",
    "plt.plot(trace4, 'g')"
   ]
  },
  {
   "cell_type": "code",
   "execution_count": null,
   "id": "42",
   "metadata": {},
   "outputs": [],
   "source": [
    "# keylen = 32\n",
    "# #samples für MBEDTLS_MPI_CHK( mbedtls_mpi_sub_mpi( &T, &T1, &T2 ) ) = 600-700\n",
    "\n",
    "# samplesize 600\n",
    "# diff(same): 1\n",
    "# diff(diff): 30\n",
    "\n",
    "#samplesize 800\n",
    "# diff(same): 3\n",
    "# diff(diff): 45"
   ]
  },
  {
   "cell_type": "code",
   "execution_count": null,
   "id": "43",
   "metadata": {},
   "outputs": [],
   "source": [
    "print (195126513202591094461357355156264195281 *4)"
   ]
  },
  {
   "cell_type": "code",
   "execution_count": null,
   "id": "44",
   "metadata": {},
   "outputs": [],
   "source": [
    "%matplotlib ipympl\n",
    "import matplotlib.pylab as plt\n",
    "\n",
    "msg = 803647331042573927285902402225594819251  #267882443680857975761967467408531606417 * 3 = 3p\n",
    "c = (msg ** e) % n\n",
    "\n",
    "cb = c.to_bytes(key_len,'big')\n",
    "\n",
    "print( 'encrypted: ', c, hex(c))\n",
    "\n",
    "trace4 = capture_RSA_trace(scope, target, cb)\n",
    "plt.figure()\n",
    "plt.plot(trace4, 'r')\n",
    "\n",
    "#diff(x) = 1"
   ]
  },
  {
   "cell_type": "code",
   "execution_count": null,
   "id": "45",
   "metadata": {},
   "outputs": [],
   "source": [
    "%matplotlib ipympl\n",
    "import matplotlib.pylab as plt\n",
    "\n",
    "msg = 803647331042573927285902402225594819251-1  #267882443680857975761967467408531606417 * 3 = 3p -1\n",
    "c = (msg ** e) % n\n",
    "\n",
    "cb = c.to_bytes(key_len,'big')\n",
    "\n",
    "print( 'encrypted: ', c, cb, type(cb), hex(c))\n",
    "\n",
    "trace2 = capture_RSA_trace(scope, target, cb)\n",
    "plt.figure()\n",
    "plt.plot(trace2, 'r')\n",
    "\n",
    "#diff = 0"
   ]
  },
  {
   "cell_type": "code",
   "execution_count": null,
   "id": "46",
   "metadata": {},
   "outputs": [],
   "source": [
    "%matplotlib ipympl\n",
    "import matplotlib.pylab as plt\n",
    "\n",
    "msg = 803647331042573927285902402225594819251+1  #267882443680857975761967467408531606417 * 3 = 3p +1\n",
    "c = (msg ** e) % n\n",
    "\n",
    "cb = c.to_bytes(key_len,'big')\n",
    "\n",
    "print( 'encrypted: ', c, cb, type(cb), hex(c))\n",
    "\n",
    "trace3 = capture_RSA_trace(scope, target, cb)\n",
    "plt.figure()\n",
    "plt.plot(trace3, 'r')\n",
    "\n",
    "#diff = 1"
   ]
  },
  {
   "cell_type": "code",
   "execution_count": null,
   "id": "47",
   "metadata": {},
   "outputs": [],
   "source": [
    "%matplotlib ipympl\n",
    "import matplotlib.pylab as plt\n",
    "\n",
    "msg = 780506052810364377845429420625056781124  #195126513202591094461357355156264195281 * 3 = 4q\n",
    "c = (msg ** e) % n\n",
    "\n",
    "cb = c.to_bytes(key_len,'big')\n",
    "\n",
    "print( 'encrypted: ', c, cb, type(cb), hex(c))\n",
    "\n",
    "trace1 = capture_RSA_trace(scope, target, cb)\n",
    "plt.figure()\n",
    "plt.plot(trace1, 'r')\n",
    "\n",
    "#diff = 0"
   ]
  },
  {
   "cell_type": "code",
   "execution_count": null,
   "id": "48",
   "metadata": {},
   "outputs": [],
   "source": [
    "print(np.sum(np.abs(trace1 - trace2))) #same\n",
    "print(np.sum(np.abs(trace1 - trace3))) #diff\n",
    "print(np.sum(np.abs(trace1 - trace4))) #diff\n",
    "print(np.sum(np.abs(trace2 - trace3))) #diff\n",
    "print(np.sum(np.abs(trace2 - trace4))) #diff\n",
    "print(np.sum(np.abs(trace3 - trace4))) #same "
   ]
  },
  {
   "cell_type": "code",
   "execution_count": null,
   "id": "49",
   "metadata": {},
   "outputs": [],
   "source": [
    "trace = trace3[:-20]\n",
    "for offset in range(21):\n",
    "    diff = trace  - trace4[offset:offset + len(trace)]\n",
    "    print(np.sum(np.abs(diff)))"
   ]
  },
  {
   "cell_type": "code",
   "execution_count": null,
   "id": "50",
   "metadata": {},
   "outputs": [],
   "source": [
    "trace = trace4[:-20]\n",
    "for offset in range(21):\n",
    "    diff = trace  - trace3[offset:offset + len(trace)]\n",
    "    print(np.sum(np.abs(diff)))"
   ]
  },
  {
   "cell_type": "code",
   "execution_count": null,
   "id": "51",
   "metadata": {},
   "outputs": [],
   "source": [
    "%matplotlib ipympl\n",
    "import matplotlib.pylab as plt\n",
    "\n",
    "msg = 803647331042573927285902402225594819251  #267882443680857975761967467408531606417 * 3 = 3p\n",
    "c = (msg ** e) % n\n",
    "\n",
    "cb = c.to_bytes(key_len,'big')\n",
    "\n",
    "print( 'encrypted: ', c, cb, type(cb), hex(c))\n",
    "\n",
    "trace2 = capture_RSA_trace(scope, target, cb)\n",
    "plt.figure()\n",
    "plt.plot(trace2, 'r')\n",
    "\n",
    "#diff = 1"
   ]
  },
  {
   "cell_type": "code",
   "execution_count": null,
   "id": "52",
   "metadata": {},
   "outputs": [],
   "source": [
    "%matplotlib ipympl\n",
    "import matplotlib.pylab as plt\n",
    "\n",
    "msg = 54\n",
    "c = (msg ** e) % n\n",
    "\n",
    "cb = c.to_bytes(key_len,'big')\n",
    "\n",
    "print( 'encrypted: ', c, cb, type(cb), hex(c))\n",
    "\n",
    "trace3 = capture_RSA_trace(scope, target, cb)\n",
    "plt.figure()\n",
    "plt.plot(trace3, 'r')\n",
    "\n",
    "#diff = 0"
   ]
  },
  {
   "cell_type": "code",
   "execution_count": null,
   "id": "53",
   "metadata": {},
   "outputs": [],
   "source": [
    "%matplotlib ipympl\n",
    "import matplotlib.pylab as plt\n",
    "\n",
    "msg = 780506052810364377845429420625056781124\n",
    "c = (msg ** e) % n\n",
    "\n",
    "cb = c.to_bytes(key_len,'big')\n",
    "\n",
    "print( 'encrypted: ', c, cb, type(cb), hex(c))\n",
    "\n",
    "trace4 = capture_RSA_trace(scope, target, cb)\n",
    "plt.figure()\n",
    "plt.plot(trace4, 'r')\n",
    "\n",
    "#diff = 0"
   ]
  },
  {
   "cell_type": "code",
   "execution_count": null,
   "id": "54",
   "metadata": {},
   "outputs": [],
   "source": [
    "%matplotlib ipympl\n",
    "import matplotlib.pylab as plt\n",
    "\n",
    "msg = 170141183460469231731687303715884105728\n",
    "c = (msg ** e) % n\n",
    "\n",
    "cb = c.to_bytes(key_len,'big')\n",
    "\n",
    "print( 'encrypted: ', c, cb, type(cb), hex(c))\n",
    "\n",
    "trace5 = capture_RSA_trace(scope, target, cb)\n",
    "plt.figure()\n",
    "plt.plot(trace5, 'r')\n",
    "\n",
    "#diff = 0"
   ]
  },
  {
   "cell_type": "code",
   "execution_count": null,
   "id": "55",
   "metadata": {},
   "outputs": [],
   "source": [
    "print('d', np.sum(np.abs(trace1 - trace2))) #diff\n",
    "print('s', np.sum(np.abs(trace1 - trace3))) \n",
    "print('s', np.sum(np.abs(trace1 - trace4))) \n",
    "print('d', np.sum(np.abs(trace2 - trace3))) #diff\n",
    "print('d', np.sum(np.abs(trace2 - trace4))) #diff\n",
    "print('s', np.sum(np.abs(trace3 - trace4))) \n",
    "print('s', np.sum(np.abs(trace1 - trace5))) \n",
    "print('d', np.sum(np.abs(trace2 - trace5))) #diff\n",
    "print('s', np.sum(np.abs(trace3 - trace5))) \n",
    "print('s', np.sum(np.abs(trace4 - trace5))) "
   ]
  },
  {
   "cell_type": "code",
   "execution_count": null,
   "id": "56",
   "metadata": {},
   "outputs": [],
   "source": [
    "plt.figure()\n",
    "plt.plot(trace1, 'r')\n",
    "plt.plot(trace2, 'b')\n",
    "plt.plot(trace3, 'y')\n",
    "plt.plot(trace4, 'g')\n",
    "plt.plot(trace5, 'm')"
   ]
  },
  {
   "cell_type": "code",
   "execution_count": null,
   "id": "57",
   "metadata": {},
   "outputs": [],
   "source": [
    "trace = trace3[:-20]\n",
    "for offset in range(21):\n",
    "    diff = trace  - trace4[offset:offset + len(trace)]\n",
    "    print(np.sum(np.abs(diff)))"
   ]
  },
  {
   "cell_type": "markdown",
   "id": "58",
   "metadata": {},
   "source": [
    "### test "
   ]
  },
  {
   "cell_type": "code",
   "execution_count": null,
   "id": "59",
   "metadata": {},
   "outputs": [],
   "source": [
    "%matplotlib ipympl\n",
    "import matplotlib.pylab as plt\n",
    "\n",
    "m = 255211775190703847597530955573826158592 \n",
    "\n",
    "\n",
    "t1 = pow(pow(m, e, n), dp, p)\n",
    "t2 = pow(pow(m, e, n), dq, q) \n",
    "print('t1: ', t1)\n",
    "print('t2: ', t2)\n",
    "print('t1-t2:', t1 - t2) \n",
    "\n",
    "\n",
    "print( 'wert für diff:', (m%p) - (m%q))\n",
    "print( 'diff:', (m%p) - (m%q) < 0)\n",
    "\n",
    "c = (m ** e) % n\n",
    "\n",
    "cb = c.to_bytes(key_len,'big')\n",
    "\n",
    "print( 'encrypted: ', c, cb, type(cb), hex(c))\n",
    "\n",
    "trace1 = capture_RSA_trace(scope, target, cb)\n",
    "plt.figure()\n",
    "plt.plot(trace1, 'r')\n",
    "\n",
    "\n",
    "# VZ\n",
    "# CMP: T1 >= T2: \n"
   ]
  },
  {
   "cell_type": "code",
   "execution_count": null,
   "id": "60",
   "metadata": {},
   "outputs": [],
   "source": [
    "%matplotlib ipympl\n",
    "import matplotlib.pylab as plt\n",
    "\n",
    "m = 28948022309329048855892746252171976963317496166410141009864396001978282409984 \n",
    "\n",
    "\n",
    "t1 = pow(pow(m, e, n), dp, p)\n",
    "t2 = pow(pow(m, e, n), dq, q) \n",
    "print('t1: ', t1)\n",
    "print('t2: ', t2)\n",
    "print('t1-t2:', t1 - t2) \n",
    "\n",
    "\n",
    "print( 'wert für diff:', (m%p) - (m%q))\n",
    "print( 'diff:', (m%p) - (m%q) < 0)\n",
    "\n",
    "c = (m ** e) % n\n",
    "\n",
    "cb = c.to_bytes(key_len,'big')\n",
    "\n",
    "print( 'encrypted: ', c, cb, type(cb), hex(c))\n",
    "\n",
    "trace2 = capture_RSA_trace(scope, target, cb)\n",
    "plt.figure()\n",
    "plt.plot(trace2, 'r')\n",
    "\n",
    "\n",
    "# VZ\n",
    "# CMP: T1 >= T2: \n"
   ]
  },
  {
   "cell_type": "code",
   "execution_count": null,
   "id": "61",
   "metadata": {},
   "outputs": [],
   "source": [
    "%matplotlib ipympl\n",
    "import matplotlib.pylab as plt\n",
    "\n",
    "m = 546583297621398436557813564258526951265556326589515564527115452658459625454963 \n",
    "\n",
    "\n",
    "t1 = pow(pow(m, e, n), dp, p)\n",
    "t2 = pow(pow(m, e, n), dq, q) \n",
    "print('t1: ', t1)\n",
    "print('t2: ', t2)\n",
    "print('t1-t2:', t1 - t2) \n",
    "\n",
    "\n",
    "print( 'wert für diff:', (m%p) - (m%q))\n",
    "print( 'diff:', (m%p) - (m%q) < 0)\n",
    "\n",
    "c = (m ** e) % n\n",
    "\n",
    "cb = c.to_bytes(key_len,'big')\n",
    "\n",
    "print( 'encrypted: ', c, cb, type(cb), hex(c))\n",
    "\n",
    "trace3 = capture_RSA_trace(scope, target, cb)\n",
    "plt.figure()\n",
    "plt.plot(trace3, 'r')\n",
    "\n",
    "\n"
   ]
  },
  {
   "cell_type": "code",
   "execution_count": null,
   "id": "62",
   "metadata": {},
   "outputs": [],
   "source": [
    "%matplotlib ipympl\n",
    "import matplotlib.pylab as plt\n",
    "\n",
    "m = 56842597643413586694115980329985903627485344260338831969504459363201369243648 \n",
    "\n",
    "\n",
    "t1 = pow(pow(m, e, n), dp, p)\n",
    "t2 = pow(pow(m, e, n), dq, q) \n",
    "print('t1: ', t1)\n",
    "print('t2: ', t2)\n",
    "print('t1-t2:', t1 - t2) \n",
    "\n",
    "\n",
    "print( 'wert für diff:', (m%p) - (m%q))\n",
    "print( 'diff:', (m%p) - (m%q) < 0)\n",
    "\n",
    "c = (m ** e) % n\n",
    "\n",
    "cb = c.to_bytes(key_len,'big')\n",
    "\n",
    "print( 'encrypted: ', c, cb, type(cb), hex(c))\n",
    "\n",
    "trace4 = capture_RSA_trace(scope, target, cb)\n",
    "plt.figure()\n",
    "plt.plot(trace4, 'r')\n",
    "\n",
    "\n"
   ]
  },
  {
   "cell_type": "code",
   "execution_count": null,
   "id": "63",
   "metadata": {},
   "outputs": [],
   "source": [
    "%matplotlib ipympl\n",
    "import matplotlib.pylab as plt\n",
    "\n",
    "m = 56842597621398436557813564258526951265526554589515564527115452658451565454848 #ref0 umpassend  \n",
    "\n",
    "\n",
    "t1 = pow(pow(m, e, n), dp, p)\n",
    "t2 = pow(pow(m, e, n), dq, q) \n",
    "print('t1: ', t1)\n",
    "print('t2: ', t2)\n",
    "print('t1-t2:', t1 - t2) \n",
    "\n",
    "\n",
    "print( 'wert für diff:', (m%p) - (m%q))\n",
    "print( 'diff:', (m%p) - (m%q) < 0)\n",
    "\n",
    "c = (m ** e) % n\n",
    "\n",
    "cb = c.to_bytes(key_len,'big')\n",
    "\n",
    "print( 'encrypted: ', c, cb, type(cb), hex(c))\n",
    "\n",
    "trace5 = capture_RSA_trace(scope, target, cb)\n",
    "plt.figure()\n",
    "plt.plot(trace5, 'r')\n",
    "\n",
    "\n"
   ]
  },
  {
   "cell_type": "code",
   "execution_count": null,
   "id": "64",
   "metadata": {},
   "outputs": [],
   "source": [
    "plt.figure()\n",
    "\n",
    "#plt.plot(trace1, 'r')\n",
    "plt.plot(trace2, 'b')\n",
    "plt.plot(trace3, 'y')\n",
    "#plt.plot(trace4, 'm')\n",
    "#plt.plot(trace5, 'g')\n",
    "\n",
    "#print(np.sum(np.abs(trace1 - trace2)))\n",
    "#print(np.sum(np.abs(trace1 - trace3)))\n",
    "\n",
    "#print(np.sum(np.abs(trace1 - trace4)))\n",
    "#print(np.sum(np.abs(trace1 - trace5)))\n",
    "\n",
    "\n",
    "print(np.sum(np.abs(trace2 - trace3)))\n",
    "#print(np.sum(np.abs(trace2 - trace4)))\n",
    "#print(np.sum(np.abs(trace2 - trace5)))\n",
    "#print(np.sum(np.abs(trace3 - trace4)))\n",
    "#print(np.sum(np.abs(trace3 - trace5)))\n",
    "#print(np.sum(np.abs(trace4 - trace5)))"
   ]
  },
  {
   "cell_type": "markdown",
   "id": "65",
   "metadata": {},
   "source": [
    "### Key Reconstuction\n",
    "\n",
    "* find plaintexts x_1 and x_2 mit diff(x_1) = 0 und diff(x_2) = 1.\n",
    "* mittels binäre suche: finde x mit diff(x-1) = 0 und diff(x) = 1 -> x ist Vielfaches von p \n",
    "* ggt(x, n) = p\n",
    "* x^e mod n"
   ]
  },
  {
   "cell_type": "markdown",
   "id": "66",
   "metadata": {},
   "source": [
    "### Algorithmus\n",
    "\n",
    "Reconstruction of p when its bitlength is half bitlength of n\n",
    "INPUT: modulus n with the bitlength t, public exponent e.\n",
    "OUTPUT: prime p such that p divides n.\n",
    "\n",
    "t = bitlenght von n \n",
    "p,q haben bitlänge t/2\n",
    "\n",
    "x = 2 ** (t/2)\n",
    "m = x/2 "
   ]
  },
  {
   "cell_type": "code",
   "execution_count": null,
   "id": "67",
   "metadata": {},
   "outputs": [],
   "source": [
    "#  Byte Primzahlen \n",
    "\n",
    "t = key_len*8\n",
    "\n",
    "# x= 2 ** (t/2) \n",
    "# m = x/2 \n",
    "# l = 0 \n",
    "\n",
    "#upper\n",
    "x = 2**(t//2)\n",
    "m = x//2\n",
    "#lower\n",
    "l = 0\n",
    "\n",
    "print(x, m, l)"
   ]
  },
  {
   "cell_type": "code",
   "execution_count": null,
   "id": "68",
   "metadata": {},
   "outputs": [],
   "source": [
    "#ref traces zu newww\n",
    "plt.figure()\n",
    "\n",
    "ref_trace_msg_1 = 546583297621398436557813564258526951265556326589515564527115452658459625454963 #rand\n",
    "c_1 = pow(ref_trace_msg_1, e, n) \n",
    "msg_1 = c_1.to_bytes(key_len,'big')\n",
    "trace_1 = capture_RSA_trace(scope, target, msg_1)\n",
    "plt.plot(trace_1, 'b')\n",
    "\n",
    "ref_trace_msg_1a = 56842597643413586694115980329985903627485344260338831969504459363201369243648 #ref1 flasch. nach 8 byte \n",
    "c_1a = pow(ref_trace_msg_1a, e, n) \n",
    "msg_1a = c_1a.to_bytes(key_len,'big')\n",
    "trace_1a = capture_RSA_trace(scope, target, msg_1a)\n",
    "plt.plot(trace_1a, 'g')\n",
    "\n",
    "#ref_trace_msg_1b = 546583297621398436557813564258526951265556326589515564527115452658459625454963 \n",
    "#c_1b = pow(ref_trace_msg_1b, e, n) \n",
    "#msg_1b = c_1b.to_bytes(key_len,'big')\n",
    "#trace_1b = capture_RSA_trace(scope, target, msg_1b)\n",
    "#plt.plot(trace_1b, 'm')\n",
    "\n",
    "#ref_trace_msg_1c = 546583297621398436557813564258526951265556326589515564527115452658459625454963 \n",
    "#c_1c = pow(ref_trace_msg_1c, e, n) \n",
    "#msg_1c = c_1c.to_bytes(key_len,'big')\n",
    "#trace_1c = capture_RSA_trace(scope, target, msg_1c)\n",
    "#plt.plot(trace_1c, 'c')\n",
    "\n",
    "#ref_trace_msg_1d = 546583297621398436557813564258526951265556326589515564527115452658459625454963 \n",
    "#c_1d = pow(ref_trace_msg_1d, e, n) \n",
    "#msg_1d = c_1d.to_bytes(key_len,'big')\n",
    "#trace_1d = capture_RSA_trace(scope, target, msg_1d)\n",
    "#plt.plot(trace_1d, 'k')\n",
    "\n",
    "\n",
    "ref_trace_msg_0 = 28948022309329048855892746252171976963317496166410141009864396001978282409984 #rad\n",
    "c_0 = pow(ref_trace_msg_0, e, n)\n",
    "msg_0 = c_0.to_bytes(key_len,'big')\n",
    "trace_0 = capture_RSA_trace(scope, target, msg_0)\n",
    "plt.plot(trace_0, 'r')\n",
    "\n",
    "ref_trace_msg_0a = 56842597621398436557813564258526951265526554589515564527115452658451565454848 \n",
    "c_0a = pow(ref_trace_msg_0a, e, n)\n",
    "msg_0a = c_0a.to_bytes(key_len,'big')\n",
    "trace_0a = capture_RSA_trace(scope, target, msg_0a)\n",
    "plt.plot(trace_0a, 'y') #beste ref trace !!!!!!!!!!!!\n"
   ]
  },
  {
   "cell_type": "code",
   "execution_count": null,
   "id": "69",
   "metadata": {},
   "outputs": [],
   "source": [
    "#newww, like 8 byte, \n",
    "plt.figure()\n",
    "\n",
    "\n",
    "while m != l:\n",
    "    print(\"new Value: \")\n",
    "    print(m, hex(m), '\\n')\n",
    "    enc = pow(m, e, n)\n",
    "    msg = enc.to_bytes(key_len,'big')\n",
    "    \n",
    "    trace = capture_RSA_trace(scope, target, msg)\n",
    "    print(m, hex(enc))\n",
    "\n",
    "    \n",
    "    diff0 = np.sum(np.abs(trace - trace_0))\n",
    "    print(\"sad ref0: \", diff0)\n",
    "\n",
    "    diff0a = np.sum(np.abs(trace - trace_0a))\n",
    "    print(\"sad ref0a: \", diff0a)\n",
    "    \n",
    "\n",
    "    diff1 = np.sum(np.abs(trace - trace_1))\n",
    "    print(\"sad ref1: \", diff1)\n",
    "\n",
    "    #diff1a = np.sum(np.abs(trace - trace_1a))\n",
    "    #print(\"sad ref1a: \", diff1a)\n",
    "\n",
    "    #diff1b = np.sum(np.abs(trace - trace_1b))\n",
    "    #print(\"sad ref1b: \", diff1b)\n",
    "\n",
    "    #diff1c = np.sum(np.abs(trace - trace_1c))\n",
    "    #print(\"sad ref1c: \", diff1c)\n",
    "\n",
    "    #diff1d = np.sum(np.abs(trace - trace_1d))\n",
    "    #print(\"sad ref1d: \", diff1d)\n",
    "    \n",
    "    \n",
    "    \n",
    "    if diff1 < 16 :#or diff1a < 16 or diff1b < 16 or diff1c < 16 or diff1d < 16:  # ähnliche -> diff(m) = 1\n",
    "        print(\"case 1\")\n",
    "        plt.plot(trace, 'g')\n",
    "        x = m\n",
    "    elif diff0 < 16 or diff0a < 16: # wie diff 0\n",
    "        print(\"case 2\")\n",
    "        plt.plot(trace, 'r')\n",
    "        l = m\n",
    "    elif diff0 > 16: # nicht diff 0\n",
    "        print(\"case 3\")\n",
    "        plt.plot(trace, 'b')\n",
    "        x = m\n",
    "\n",
    "        \n",
    "    m = (l + x)//2\n",
    "    \n",
    "    \n",
    "\n",
    "print (x)\n",
    "print(p)"
   ]
  },
  {
   "cell_type": "code",
   "execution_count": null,
   "id": "70",
   "metadata": {},
   "outputs": [],
   "source": [
    "3031\n",
    "r3430303030303030303030303030303030303030303030303030303030303030303030303030303030303030303030303030303030303030303030303030303000\n",
    "r3430303030303030303030303030303030303030303030303030303030303030303030303030303030303030303030303030303030303030303030303030303000\n",
    "\n",
    "r3744414243353237324546343232364638433838303030303030303030303030303030303030303030303030303030303030303030303030303030303030303000\n",
    "r3744414243353237324546343232364638433838303030303030303030303030303030303030303030303030303030303030303030303030303030303030303000\n",
    "\n",
    "r3744414243353237324546343232364638433843303737314443373834393243413135423433344336363038453045463943413030303030303030303030303000\n",
    "r3744414243353237324546343232364638433843303737314443373834393243413135423433344336363038453045463943413030303030303030303030303000\n",
    "\n",
    "r3744414243353237324546343232364638433843303737314443373834393243413135423433344336363038453045463943413645453836434236463234303000\n",
    "r3744414243353237324546343232364638433843303737314443373834393243413135423433344336363038453045463943413645453836434236463234303000\n",
    "\n",
    "r3744414243353237324546343232364638433843303737314443373834393243413135423433344336363038453045463943413645453836434236463236303000\n",
    "r453300 #delta ref \n",
    "\n",
    "r3744414243353237324546343232364638433843303737314443373834393243413135423433344336363038453045463943413645453836434236463236343000\n",
    "r3031323300\n",
    "\n",
    "r3744414243353237324546343232364638433843303737314443373834393243413135423433344336363038453045463943413645453836434236463236363000\n",
    "r3031343300\n",
    "\n",
    "r3744414243353237324546343232364638433843303737314443373834393243413135423433344336363038453045463943413645453836434236463236373200\n",
    "r3031353500\n",
    "\n",
    "3030\n",
    "\n",
    "r353433414438443130424444393037333733463838453233383742364433354541344243423339394637314631303633353931313739333439304439384400\n",
    "r353433414438443130424444393037333733463838453233383742364433354541344243423339394637314631303633353931313739333439304441453300\n",
    "\n",
    "r3033463838453233383742364433354541344243423339394637314631303633353931313739333439304439384400\n",
    "r3033463838453233383742364433354541344243423339394637314631303633353931313739333439304441453300\n",
    "\n",
    "r313931313739333439304439384400\n",
    "r313931313739333439304441453300\n",
    "\n",
    "r3031384400\n",
    "r3032453300\n",
    "\n",
    "r384400\n",
    "r3031453300\n",
    "\n",
    "r304400\n",
    "r3031363300\n",
    "\n",
    "r303000\n",
    "r3031353600"
   ]
  },
  {
   "cell_type": "code",
   "execution_count": null,
   "id": "71",
   "metadata": {},
   "outputs": [],
   "source": [
    "scope.dis()\n",
    "target.dis()"
   ]
  }
 ],
 "metadata": {
  "kernelspec": {
   "display_name": "Python 3 (ipykernel)",
   "language": "python",
   "name": "python3"
  },
  "language_info": {
   "codemirror_mode": {
    "name": "ipython",
    "version": 3
   },
   "file_extension": ".py",
   "mimetype": "text/x-python",
   "name": "python",
   "nbconvert_exporter": "python",
   "pygments_lexer": "ipython3",
   "version": "3.11.9"
  }
 },
 "nbformat": 4,
 "nbformat_minor": 5
}
