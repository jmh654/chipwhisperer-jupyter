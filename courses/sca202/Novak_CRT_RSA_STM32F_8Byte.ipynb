{
 "cells": [
  {
   "cell_type": "markdown",
   "id": "0",
   "metadata": {},
   "source": [
    "### Setup"
   ]
  },
  {
   "cell_type": "code",
   "execution_count": null,
   "id": "1",
   "metadata": {},
   "outputs": [],
   "source": [
    "SCOPETYPE = 'OPENADC'\n",
    "PLATFORM = 'CW308_STM32F3'\n",
    "CRYPTO_TARGET = 'MBEDTLS'"
   ]
  },
  {
   "cell_type": "code",
   "execution_count": null,
   "id": "2",
   "metadata": {},
   "outputs": [],
   "source": [
    "%%bash -s \"$PLATFORM\" \"$CRYPTO_TARGET\"\n",
    "cd ../../../hardware/victims/firmware/simpleserial-rsa\n",
    "#make clean PLATFORM=$1 CRYPTO_TARGET=$2\n",
    "make PLATFORM=$1 CRYPTO_TARGET=$2 "
   ]
  },
  {
   "cell_type": "code",
   "execution_count": null,
   "id": "3",
   "metadata": {},
   "outputs": [],
   "source": [
    "%run \"../../Setup_Scripts/Setup_Generic.ipynb\""
   ]
  },
  {
   "cell_type": "code",
   "execution_count": null,
   "id": "4",
   "metadata": {},
   "outputs": [],
   "source": [
    "fw_path = '../../../hardware/victims/firmware/simpleserial-rsa/simpleserial-rsa-CW308_STM32F3.hex'"
   ]
  },
  {
   "cell_type": "code",
   "execution_count": null,
   "id": "5",
   "metadata": {},
   "outputs": [],
   "source": [
    "cw.program_target(scope, prog, fw_path)"
   ]
  },
  {
   "cell_type": "code",
   "execution_count": null,
   "id": "6",
   "metadata": {},
   "outputs": [],
   "source": [
    "import numpy as np\n",
    "import time \n",
    "import matplotlib.pylab as plt\n",
    "import matplotlib"
   ]
  },
  {
   "cell_type": "code",
   "execution_count": null,
   "id": "7",
   "metadata": {},
   "outputs": [],
   "source": [
    "e = 65537"
   ]
  },
  {
   "cell_type": "code",
   "execution_count": null,
   "id": "8",
   "metadata": {},
   "outputs": [],
   "source": [
    "\n",
    "n = 89525655797379415138998373505682772229\n",
    "\n",
    "p = 14091828191315287507 \n",
    "q = 6353019252147394247\n",
    "dp = 5927267588107438781\n",
    "dq = 2516023234043145363\n",
    "qinv = 907488296688955759"
   ]
  },
  {
   "cell_type": "code",
   "execution_count": null,
   "id": "9",
   "metadata": {},
   "outputs": [],
   "source": [
    "#8Bytes -> key_len = 16\n",
    "n = 89525655797379415138998373505682772229"
   ]
  },
  {
   "cell_type": "code",
   "execution_count": null,
   "id": "10",
   "metadata": {},
   "outputs": [],
   "source": [
    "#key lenght of n; p, q have lenght key_len//2\n",
    "key_len = 16"
   ]
  },
  {
   "cell_type": "markdown",
   "id": "11",
   "metadata": {
    "jp-MarkdownHeadingCollapsed": true
   },
   "source": [
    "### find numbers"
   ]
  },
  {
   "cell_type": "code",
   "execution_count": null,
   "id": "12",
   "metadata": {},
   "outputs": [],
   "source": [
    "# Parameters\n",
    "p = 14091828191315287507 \n",
    "q = 6353019252147394247\n",
    "    9223372036854775808\n",
    "     288230376151711744\n",
    "e = 65537\n",
    "n = 89525655797379415138998373505682772229\n",
    "max_msg = 10000  # Set a range for msg (you can adjust this range)"
   ]
  },
  {
   "cell_type": "code",
   "execution_count": null,
   "id": "13",
   "metadata": {},
   "outputs": [],
   "source": [
    "def find_valid_msg_d1(p, q, e, n, max_msg):\n",
    "    valid_msgs = []\n",
    "    for msg in range(1, max_msg + 1):  # Iterate through possible msg values\n",
    "        x = pow(msg, e, n)  # Compute (msg^e) % n efficiently using modular exponentiation\n",
    "        if (x % p) - (x % q) < 0:  # Check the condition\n",
    "            valid_msgs.append(msg)\n",
    "    return valid_msgs\n",
    "\n",
    "\n",
    "\n",
    "# Find and display valid messages\n",
    "valid_msgs = find_valid_msgs(p, q, e, n, max_msg)\n",
    "print(f\"Valid messages: {valid_msgs}\")"
   ]
  },
  {
   "cell_type": "code",
   "execution_count": null,
   "id": "14",
   "metadata": {},
   "outputs": [],
   "source": [
    "def find_valid_msgs_d0(p, q, e, n, max_msg):\n",
    "    valid_msgs = []\n",
    "    for msg in range(1, max_msg + 1):  # Iterate through possible msg values\n",
    "        x = pow(msg, e, n)  # Compute (msg^e) % n efficiently using modular exponentiation\n",
    "        if (x % p) - (x % q) > 0:  # Check the condition\n",
    "            valid_msgs.append(msg)\n",
    "    return valid_msgs\n",
    "\n",
    "# Find and display valid messages\n",
    "valid_msgs = find_valid_msgs(p, q, e, n, max_msg)\n",
    "print(f\"Valid messages: {valid_msgs}\")"
   ]
  },
  {
   "cell_type": "markdown",
   "id": "15",
   "metadata": {},
   "source": [
    "### capture trace setup"
   ]
  },
  {
   "cell_type": "code",
   "execution_count": null,
   "id": "16",
   "metadata": {},
   "outputs": [],
   "source": [
    "scope.clock.adc_src = \"clkgen_x1\"\n",
    "scope.adc.samples = 650 #print: 631\n",
    "\n",
    "#scope.adc.timeout = 50"
   ]
  },
  {
   "cell_type": "code",
   "execution_count": null,
   "id": "17",
   "metadata": {},
   "outputs": [],
   "source": [
    "import time\n",
    "\n",
    "def capture_RSA_trace(scope, target, text):\n",
    "    scope.arm()\n",
    "    target.simpleserial_write('t', text)\n",
    "\n",
    "    # get debug output, nötig?\n",
    "    #rec_str = target.read(1000, timeout=2000)\n",
    "    #received_str = rec_str.replace(\"\\\\r\\\\n\", \"\\n\")\n",
    "    #print(received_str)\n",
    "    \n",
    "    ret = scope.capture()\n",
    "    if ret:\n",
    "        print('Timeout happened during acquisition')\n",
    "\n",
    "    time.sleep(2)\n",
    "    output = target.read(timeout=20)\n",
    "    print('first: ', output.replace(\"\\\\r\\\\n\\\\z00\", \"\\n\"))\n",
    "    \n",
    "    target.write(\"1\\n\")\n",
    "    time.sleep(0.2)\n",
    "    #output += target.read(timeout=10)\n",
    "    output = target.read(timeout=10) \n",
    "    print('next 48 bytes: ', output.replace(\"r\", \"\").replace(\"\\nz00\",\"\").replace(\"\\n\",\"\"))\n",
    "\n",
    "    target.write(\"2\\n\")\n",
    "    time.sleep(0.2)\n",
    "    #output += target.read(timeout=10)\n",
    "    output = target.read(timeout=10) \n",
    "    print('last bytes: ', output.replace(\"r\", \"\").replace(\"\\nz00\",\"\").replace(\"\\n\",\"\"))\n",
    "\n",
    "\n",
    "    #newout = output.replace(\"r\", \"\").replace(\"\\nz00\",\"\").replace(\"\\n\",\"\")\n",
    "    #print('output: ', newout)\n",
    "\n",
    "    if SCOPETYPE == \"OPENADC\":\n",
    "        print('#samples: ', scope.adc.trig_count)\n",
    "    \n",
    "    target.simpleserial_wait_ack() #!!!!\n",
    "    return scope.get_last_trace()"
   ]
  },
  {
   "cell_type": "code",
   "execution_count": null,
   "id": "18",
   "metadata": {},
   "outputs": [],
   "source": [
    "import time\n",
    "\n",
    "def capture_RSA_trace(scope, target, text):\n",
    "    target.flush()\n",
    "    scope.arm()\n",
    "    target.simpleserial_write('t', text)\n",
    "\n",
    "    rec_str = target.read(1000, timeout=200)\n",
    "    received_str = rec_str.replace(\"\\\\r\\\\n\", \"\\n\")\n",
    "    print(received_str)\n",
    "    \n",
    "    ret = scope.capture()\n",
    "    if ret:\n",
    "        print('Timeout happened during acquisition')\n",
    "    \n",
    "    target.simpleserial_wait_ack() #!!!!\n",
    "    return scope.get_last_trace()"
   ]
  },
  {
   "cell_type": "markdown",
   "id": "19",
   "metadata": {},
   "source": [
    "### test numbers"
   ]
  },
  {
   "cell_type": "code",
   "execution_count": null,
   "id": "20",
   "metadata": {},
   "outputs": [],
   "source": [
    "%matplotlib ipympl\n",
    "import matplotlib.pylab as plt\n",
    "\n",
    "msg = 54\n",
    "c = (msg ** e) % n\n",
    "\n",
    "cb = c.to_bytes(key_len,'big')\n",
    "\n",
    "print( 'encrypted: ', c, cb, type(cb), hex(c))\n",
    "\n",
    "trace1 = capture_RSA_trace(scope, target, cb)\n",
    "plt.figure()\n",
    "plt.plot(trace1, 'r')"
   ]
  },
  {
   "cell_type": "code",
   "execution_count": null,
   "id": "21",
   "metadata": {},
   "outputs": [],
   "source": [
    "%matplotlib ipympl\n",
    "import matplotlib.pylab as plt\n",
    "\n",
    "msg = 16\n",
    "c = (msg ** e) % n\n",
    "\n",
    "cb = c.to_bytes(key_len,'big')\n",
    "\n",
    "print( 'encrypted: ', c, cb, type(cb), hex(c))\n",
    "\n",
    "trace2 = capture_RSA_trace(scope, target, cb)\n",
    "plt.figure()\n",
    "plt.plot(trace2, 'r')"
   ]
  },
  {
   "cell_type": "code",
   "execution_count": null,
   "id": "22",
   "metadata": {},
   "outputs": [],
   "source": [
    "%matplotlib ipympl\n",
    "import matplotlib.pylab as plt\n",
    "#p= 14091828191315287507\n",
    "\n",
    "msg = 152261522452152221552\n",
    "c = (msg ** e) % n\n",
    "\n",
    "cb = c.to_bytes(key_len,'big')\n",
    "\n",
    "print( 'encrypted: ', c, cb, type(cb), hex(c))\n",
    "\n",
    "trace3 = capture_RSA_trace(scope, target, cb)\n",
    "plt.figure()\n",
    "plt.plot(trace3, 'r')\n"
   ]
  },
  {
   "cell_type": "code",
   "execution_count": null,
   "id": "23",
   "metadata": {},
   "outputs": [],
   "source": [
    "%matplotlib ipympl\n",
    "import matplotlib.pylab as plt\n",
    "\n",
    "msg = 62549 \n",
    "c = (msg ** e) % n\n",
    "\n",
    "cb = c.to_bytes(key_len,'big')\n",
    "\n",
    "print( 'encrypted: ', c, cb, type(cb), hex(c))\n",
    "\n",
    "trace4 = capture_RSA_trace(scope, target, cb)\n",
    "plt.figure()\n",
    "plt.plot(trace4, 'r')"
   ]
  },
  {
   "cell_type": "code",
   "execution_count": null,
   "id": "24",
   "metadata": {},
   "outputs": [],
   "source": [
    "%matplotlib ipympl\n",
    "import matplotlib.pylab as plt\n",
    "#p= 14091828191315287507\n",
    "msg = 215675565258552152214\n",
    "c = (msg ** e) % n\n",
    "\n",
    "cb = c.to_bytes(key_len,'big')\n",
    "\n",
    "print( 'encrypted: ', c, cb, type(cb), hex(c))\n",
    "\n",
    "trace5 = capture_RSA_trace(scope, target, cb)\n",
    "plt.figure()\n",
    "plt.plot(trace5, 'r')"
   ]
  },
  {
   "cell_type": "code",
   "execution_count": null,
   "id": "25",
   "metadata": {},
   "outputs": [],
   "source": [
    "%matplotlib ipympl\n",
    "import matplotlib.pylab as plt\n",
    "#p= 14091828191315287507\n",
    "msg = 215675565258586152214\n",
    "c = (msg ** e) % n\n",
    "\n",
    "cb = c.to_bytes(key_len,'big')\n",
    "\n",
    "print( 'encrypted: ', c, cb, type(cb), hex(c))\n",
    "\n",
    "trace6 = capture_RSA_trace(scope, target, cb)\n",
    "plt.figure()\n",
    "plt.plot(trace6, 'r')"
   ]
  },
  {
   "cell_type": "code",
   "execution_count": null,
   "id": "26",
   "metadata": {},
   "outputs": [],
   "source": [
    "%matplotlib ipympl\n",
    "import matplotlib.pylab as plt\n",
    "#p= 14091828191315287507\n",
    "msg = 9223372036854775808\n",
    "c = (msg ** e) % n\n",
    "\n",
    "cb = c.to_bytes(key_len,'big')\n",
    "\n",
    "print( 'encrypted: ', c, cb, type(cb), hex(c))\n",
    "\n",
    "trace7 = capture_RSA_trace(scope, target, cb)\n",
    "plt.figure()\n",
    "plt.plot(trace7, 'r')"
   ]
  },
  {
   "cell_type": "code",
   "execution_count": null,
   "id": "27",
   "metadata": {},
   "outputs": [],
   "source": [
    "print(np.sum(np.abs(trace1 - trace2))) #same\n",
    "print(np.sum(np.abs(trace7 - trace3))) #same\n",
    "print(np.sum(np.abs(trace7 - trace4))) #same\n",
    "print(np.sum(np.abs(trace2 - trace3))) #same\n",
    "print(np.sum(np.abs(trace2 - trace4))) #same\n",
    "print(np.sum(np.abs(trace3 - trace4))) #same \n",
    "\n",
    "print(np.sum(np.abs(trace5 - trace6))) #same \n",
    "\n",
    "print(np.sum(np.abs(trace3 - trace5))) #\n",
    "print(np.sum(np.abs(trace3 - trace6))) #"
   ]
  },
  {
   "cell_type": "code",
   "execution_count": null,
   "id": "28",
   "metadata": {},
   "outputs": [],
   "source": [
    "plt.figure()\n",
    "plt.plot(trace1, 'r')\n",
    "plt.plot(trace2, 'b')\n",
    "plt.plot(trace5, 'y')\n",
    "plt.plot(trace7, 'g')"
   ]
  },
  {
   "cell_type": "code",
   "execution_count": null,
   "id": "29",
   "metadata": {},
   "outputs": [],
   "source": [
    "# keylen = 4\n",
    "# #samples für MBEDTLS_MPI_CHK( mbedtls_mpi_sub_mpi( &T, &T1, &T2 ) ) = 600\n",
    "# diff(same): 2 \n",
    "# diff(diff): 30"
   ]
  },
  {
   "cell_type": "markdown",
   "id": "30",
   "metadata": {},
   "source": [
    "### Key Reconstuction\n",
    "\n",
    "* find plaintexts x_1 and x_2 mit diff(x_1) = 0 und diff(x_2) = 1.\n",
    "* mittels binäre suche: finde x mit diff(x-1) = 0 und diff(x) = 1 -> x ist Vielfaches von p \n",
    "* ggt(x, n) = p\n",
    "* x^e mod n"
   ]
  },
  {
   "cell_type": "markdown",
   "id": "31",
   "metadata": {},
   "source": [
    "### Algorithmus\n",
    "\n",
    "Reconstruction of p when its bitlength is half bitlength of n\n",
    "INPUT: modulus n with the bitlength t, public exponent e.\n",
    "OUTPUT: prime p such that p divides n.\n",
    "\n",
    "t = bitlenght von n \n",
    "p,q haben bitlänge t/2\n",
    "\n",
    "x = 2 ** (t/2)\n",
    "m = x/2 "
   ]
  },
  {
   "cell_type": "code",
   "execution_count": null,
   "id": "32",
   "metadata": {},
   "outputs": [],
   "source": [
    "#  Byte Primzahlen \n",
    "\n",
    "t = key_len*8\n",
    "\n",
    "# x= 2 ** (t/2) \n",
    "# m = x/2 \n",
    "# l = 0 \n",
    "\n",
    "#upper\n",
    "x = 2**(t//2)\n",
    "m = x//2\n",
    "#lower\n",
    "l = 0\n",
    "\n",
    "print(x, m, l)"
   ]
  },
  {
   "cell_type": "code",
   "execution_count": null,
   "id": "33",
   "metadata": {},
   "outputs": [],
   "source": [
    "plt.figure()\n",
    "\n",
    "ref_trace_msg_0 = 152261522452152221552 \n",
    "c_0 = (ref_trace_msg_0 ** e) % n \n",
    "msg_0 = c_0.to_bytes(key_len,'big')\n",
    "trace_0 = capture_RSA_trace(scope, target, msg_0)\n",
    "plt.plot(trace_0, 'r')\n",
    "\n",
    "ref_trace_msg_1 = 215675565258586152214 \n",
    "c_1 = (ref_trace_msg_1 ** e) % n \n",
    "msg_1 = c_1.to_bytes(key_len,'big')\n",
    "trace_1 = capture_RSA_trace(scope, target, msg_1)\n",
    "plt.plot(trace_1, 'b')\n",
    "\n",
    "\n",
    "print(np.sum(np.abs(trace_1 - trace_0)))"
   ]
  },
  {
   "cell_type": "code",
   "execution_count": null,
   "id": "34",
   "metadata": {},
   "outputs": [],
   "source": [
    "plt.figure()\n",
    "\n",
    "while m != l:\n",
    "    print(\"new Value: \")\n",
    "    print(m, hex(m), '\\n')\n",
    "    enc = pow(m, e, n)\n",
    "    msg = enc.to_bytes(key_len,'big')\n",
    "    \n",
    "    trace = capture_RSA_trace(scope, target, msg)\n",
    "    print(m, hex(enc))\n",
    "\n",
    "    diff0 = np.sum(np.abs(trace - trace_0))\n",
    "    diff1 = np.sum(np.abs(trace - trace_1))\n",
    "    \n",
    "    print(\"diff0: \", diff0)\n",
    "    print(\"diff1: \", diff1)\n",
    "    \n",
    "    if diff1 < 15:  # ähnliche -> diff(m) = 1\n",
    "        plt.plot(trace, 'g')\n",
    "        x = m\n",
    "    elif diff0 > 15: # nicht diff0\n",
    "        plt.plot(trace, 'r')\n",
    "        x = m\n",
    "    elif diff0 < 15: # ähnlich diff0\n",
    "        plt.plot(trace, 'b')\n",
    "        l = m\n",
    "        \n",
    "    m = (l + x)//2\n",
    "    \n",
    "    \n",
    "\n",
    "print (x)\n",
    "print (p)\n",
    "\n",
    "#bei 0x...3b14... kommt 3b15...falsch heraus\n",
    "# -> or diff0 > 15 -> fix\n",
    "# diff0 bessere ref trace ?!"
   ]
  },
  {
   "cell_type": "code",
   "execution_count": null,
   "id": "35",
   "metadata": {},
   "outputs": [],
   "source": [
    "plt.figure()\n",
    "\n",
    "trace_0_w = trace_0[60:]\n",
    "trace_1_w = trace_1[60:]\n",
    "\n",
    "trace_1_s = trace_1_w[:-30]\n",
    "\n",
    "while m != l:\n",
    "    print(\"new Value: \")\n",
    "    print(m, hex(m), '\\n')\n",
    "    enc = pow(m, e, n)\n",
    "    msg = enc.to_bytes(key_len,'big')\n",
    "    \n",
    "    trace = capture_RSA_trace(scope, target, msg)\n",
    "    print(m, hex(enc))\n",
    "\n",
    "\n",
    "    diff0 = np.sum(np.abs(trace - trace_0))\n",
    "    diff1 = np.sum(np.abs(trace - trace_1))\n",
    "    \n",
    "    print(\"diff0: \", diff0)\n",
    "    print(\"diff1: \", diff1)\n",
    "\n",
    "    trace = trace[60:]\n",
    "    \n",
    "    #vgl zu diff1\n",
    "    min_sad_1 = 50\n",
    "    for offset in range(31):\n",
    "        diff = trace_1_s - trace[offset:offset + len(trace_1_s)]\n",
    "        sad = np.sum(np.abs(diff))\n",
    "        if sad < min_sad_1:\n",
    "            min_sad_1 = sad\n",
    "    print(\"min sad 1: \", min_sad_1)\n",
    "    \n",
    "    if diff1 < 15:  # ähnliche -> diff(m) = 1\n",
    "        plt.plot(trace, 'g')\n",
    "        x = m\n",
    "    elif diff0 > 15: # nicht diff0\n",
    "        plt.plot(trace, 'r')\n",
    "        x = m\n",
    "    elif diff0 < 15: # ähnlich diff0\n",
    "        plt.plot(trace, 'b')\n",
    "        l = m\n",
    "        \n",
    "    m = (l + x)//2\n",
    "    \n",
    "    \n",
    "\n",
    "print (x)\n",
    "print (p)\n"
   ]
  },
  {
   "cell_type": "markdown",
   "id": "36",
   "metadata": {},
   "source": [
    "p = 14091828191315287507\n",
    "q = 6353019252147394247\n",
    "N = 89525655797379415138998373505682772229"
   ]
  },
  {
   "cell_type": "markdown",
   "id": "37",
   "metadata": {},
   "source": [
    "q = N // p\n",
    "euler = (p-1)*(q-1)\n",
    "\n",
    "-> d durch erweiterter euklidischer algo "
   ]
  },
  {
   "cell_type": "code",
   "execution_count": null,
   "id": "38",
   "metadata": {},
   "outputs": [],
   "source": [
    "scope.dis()\n",
    "target.dis()"
   ]
  },
  {
   "cell_type": "code",
   "execution_count": null,
   "id": "39",
   "metadata": {},
   "outputs": [],
   "source": []
  }
 ],
 "metadata": {
  "kernelspec": {
   "display_name": "Python 3 (ipykernel)",
   "language": "python",
   "name": "python3"
  },
  "language_info": {
   "codemirror_mode": {
    "name": "ipython",
    "version": 3
   },
   "file_extension": ".py",
   "mimetype": "text/x-python",
   "name": "python",
   "nbconvert_exporter": "python",
   "pygments_lexer": "ipython3",
   "version": "3.11.9"
  }
 },
 "nbformat": 4,
 "nbformat_minor": 5
}
