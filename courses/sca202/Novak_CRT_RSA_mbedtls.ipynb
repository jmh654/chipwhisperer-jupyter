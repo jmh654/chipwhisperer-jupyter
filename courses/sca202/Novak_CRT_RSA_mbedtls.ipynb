{
 "cells": [
  {
   "cell_type": "markdown",
   "id": "0",
   "metadata": {},
   "source": [
    "### Setup"
   ]
  },
  {
   "cell_type": "code",
   "execution_count": null,
   "id": "1",
   "metadata": {},
   "outputs": [],
   "source": [
    "SCOPETYPE = 'OPENADC'\n",
    "PLATFORM = 'CWLITEXMEGA'\n",
    "CRYPTO_TARGET = 'MBEDTLS'"
   ]
  },
  {
   "cell_type": "code",
   "execution_count": null,
   "id": "2",
   "metadata": {},
   "outputs": [],
   "source": [
    "%%bash -s \"$PLATFORM\" \"$CRYPTO_TARGET\"\n",
    "cd ../../../hardware/victims/firmware/simpleserial-rsa\n",
    "#make clean PLATFORM=$1 CRYPTO_TARGET=$2\n",
    "make PLATFORM=$1 CRYPTO_TARGET=$2 SS_VER=SS_VER_2_1"
   ]
  },
  {
   "cell_type": "code",
   "execution_count": null,
   "id": "3",
   "metadata": {},
   "outputs": [],
   "source": [
    "%run \"../../Setup_Scripts/Setup_Generic.ipynb\""
   ]
  },
  {
   "cell_type": "code",
   "execution_count": null,
   "id": "4",
   "metadata": {},
   "outputs": [],
   "source": [
    "fw_path = '../../../hardware/victims/firmware/simpleserial-rsa/simpleserial-rsa-mbedtls.hex'"
   ]
  },
  {
   "cell_type": "code",
   "execution_count": null,
   "id": "5",
   "metadata": {},
   "outputs": [],
   "source": [
    "cw.program_target(scope, prog, fw_path)"
   ]
  },
  {
   "cell_type": "code",
   "execution_count": null,
   "id": "6",
   "metadata": {},
   "outputs": [],
   "source": [
    "import numpy as np\n",
    "import time \n",
    "import matplotlib.pylab as plt\n",
    "import matplotlib"
   ]
  },
  {
   "cell_type": "code",
   "execution_count": null,
   "id": "7",
   "metadata": {},
   "outputs": [],
   "source": [
    "e = 65537\n",
    "n = 89525655797379415138998373505682772229"
   ]
  },
  {
   "cell_type": "markdown",
   "id": "8",
   "metadata": {},
   "source": [
    "### find numbers"
   ]
  },
  {
   "cell_type": "code",
   "execution_count": null,
   "id": "9",
   "metadata": {},
   "outputs": [],
   "source": [
    "from sympy import nextprime\n",
    "\n",
    "# Start with a random 31-byte number and search for a 32-byte prime\n",
    "start_number = int('F' * 62, 16)  # A large number close to the 32-byte maximum\n",
    "prime_32_byte = nextprime(start_number)\n",
    "\n",
    "print(prime_32_byte)"
   ]
  },
  {
   "cell_type": "code",
   "execution_count": null,
   "id": "10",
   "metadata": {},
   "outputs": [],
   "source": [
    "# generate 8 byte numbers and get next prime number\n",
    "import random\n",
    "from sympy import nextprime\n",
    "\n",
    "#unsigned_8_byte = random.randint(0, 2**64 - 1)\n",
    "unsigned_8_byte = 6353019252147394183;\n",
    "print(unsigned_8_byte)\n",
    "\n",
    "\n",
    "\n",
    "#print(rand)\n",
    "prime1 = nextprime(unsigned_8_byte)\n",
    "print(\"p1:\", prime1)\n",
    "print(prime1.to_bytes(8,'big'))\n",
    "\n",
    "r = 14091828191315287468\n",
    "\n",
    "prime2 = nextprime(r)\n",
    "print('p2:', prime2)\n",
    "print(prime2.to_bytes(8,'big'))\n",
    "\n",
    "# p2 = 14091828191315287577\n"
   ]
  },
  {
   "cell_type": "code",
   "execution_count": null,
   "id": "11",
   "metadata": {},
   "outputs": [],
   "source": [
    "# prime numbers with 8 bytes\n",
    "#p1: 6353019252147394247\n",
    "#p2: 14091828191315287507\n",
    "\n",
    "#p>q\n",
    "\n",
    "\n",
    "\n",
    "p = 14091828191315287507\n",
    "pb = p.to_bytes(8,'big')\n",
    "print('p', p, pb, hex(p))\n",
    "q =6353019252147394247\n",
    "qb = q.to_bytes(8,'big')\n",
    "print('q', q, qb, hex(q))\n",
    "\n",
    "N = p*q\n",
    "#print(N) # 89525655797379415138998373505682772229\n",
    "Nb = N.to_bytes(16,'big')\n",
    "print('N', N, Nb, hex(N))\n",
    "\n",
    "e = 65537\n",
    "eb = e.to_bytes(32,'big')\n",
    "print('e', e, eb, hex(e))\n",
    "\n",
    "euler = (p-1)*(q-1)\n",
    "print('euler', euler)\n",
    "# 89525655797379415118553526062220090476\n"
   ]
  },
  {
   "cell_type": "code",
   "execution_count": null,
   "id": "12",
   "metadata": {},
   "outputs": [],
   "source": [
    "\n",
    "#imversis zu e mod euler: e*d + k * euler = 1 = ggT(e, euler)\n",
    "# www.ardt-brunner.de : \n",
    "# -11066227285572587116825642226986968475·65537 + 8101·89525655797379415118553526062220090476 = 1\n",
    "d_ = -11066227285572587116825642226986968475\n",
    "\n",
    "d = d_ + euler\n",
    "print(d)\n",
    "# \n",
    "db = d.to_bytes(16,'big')\n",
    "print('d', d, db, hex(d))\n",
    "\n",
    "#test\n",
    "t = (d * e ) % euler\n",
    "print(t)\n",
    "\n",
    "dp = d % (p-1)\n",
    "#print(dp)\n",
    "#\n",
    "dpb = dp.to_bytes(8,'big')\n",
    "print('dp', dp, dpb, hex(dp))\n",
    "\n",
    "dq = d % (q-1)\n",
    "#print(dq)\n",
    "#\n",
    "dqb = dq.to_bytes(8,'big')\n",
    "print('dq', dq, dqb, hex(dq))\n",
    "\n",
    "\n",
    "qinv = pow(q, -1, p)\n",
    "#print(qinv)\n",
    "#\n",
    "qinvb = qinv.to_bytes(8,'big')\n",
    "print('qinv', qinv, qinvb, hex(qinv))\n",
    "\n",
    "#test\n",
    "t2 =(qinv * q) % p\n",
    "print(t2)"
   ]
  },
  {
   "cell_type": "code",
   "execution_count": null,
   "id": "13",
   "metadata": {},
   "outputs": [],
   "source": [
    "threshold = \n",
    "p = 14091828191315287507\n",
    "q = 6353019252147394247\n",
    "\n",
    "\n",
    "i = 0\n",
    "while True:\n",
    "    result = pow(i, e, n)\n",
    "    if result < threshold:\n",
    "        if (i % p) - (i % q) < 0:\n",
    "            break\n",
    "    i += 1\n",
    "\n",
    "\n",
    "print(i)\n"
   ]
  },
  {
   "cell_type": "code",
   "execution_count": null,
   "id": "14",
   "metadata": {},
   "outputs": [],
   "source": [
    "def find_i_values(p, q, count=10):\n",
    "    i = 0  # Startwert\n",
    "    results = []\n",
    "    \n",
    "    while len(results) < count:\n",
    "        if (i % p) - (i % q) < 0:\n",
    "            results.append(i)\n",
    "        i += 1\n",
    "    \n",
    "    return results\n",
    "\n",
    "# Parameter p und q\n",
    "p = 14091828191315287507\n",
    "q = 6353019252147394247\n",
    "\n",
    "\n",
    "# Finde die ersten 10 Werte für i\n",
    "i_values = find_i_values(p, q)\n",
    "print(i_values)"
   ]
  },
  {
   "cell_type": "markdown",
   "id": "15",
   "metadata": {},
   "source": [
    "### capture trace setup"
   ]
  },
  {
   "cell_type": "code",
   "execution_count": null,
   "id": "16",
   "metadata": {},
   "outputs": [],
   "source": [
    "scope.clock.adc_src = \"clkgen_x1\"\n",
    "#scope.adc.samples = 1000\n",
    "scope.adc.samples = 200\n",
    "\n",
    "scope.adc.timeout = 50"
   ]
  },
  {
   "cell_type": "code",
   "execution_count": null,
   "id": "17",
   "metadata": {},
   "outputs": [],
   "source": [
    "import time\n",
    "\n",
    "def capture_RSA_trace(scope, target, text):\n",
    "    scope.arm()\n",
    "    target.simpleserial_write('h', text)\n",
    "\n",
    "    # get debug output\n",
    "    rec_str = target.read(1000, timeout=2000)\n",
    "    received_str = rec_str.replace(\"\\\\r\\\\n\", \"\\n\")\n",
    "    print(received_str)\n",
    "    \n",
    "    #while(1) targete.read(), print //für x sekunden\n",
    "    #t_end = time.time() + 3\n",
    "    #while time.time() < t_end:\n",
    "    #    print(target.read())\n",
    "    \n",
    "    ret = scope.capture()\n",
    "    if ret:\n",
    "        return None\n",
    "    target.simpleserial_wait_ack()\n",
    "    return scope.get_last_trace()"
   ]
  },
  {
   "cell_type": "markdown",
   "id": "18",
   "metadata": {},
   "source": [
    "### test numbers for 2 Byte prim numbers"
   ]
  },
  {
   "cell_type": "code",
   "execution_count": null,
   "id": "19",
   "metadata": {},
   "outputs": [],
   "source": [
    "%matplotlib ipympl\n",
    "import matplotlib.pylab as plt\n",
    "\n",
    "msg = 0\n",
    "c = (msg ** e) % n\n",
    "\n",
    "msg2_d1 = c.to_bytes(16,'big')\n",
    "\n",
    "print(c, msg2_d1, type(msg2_d1))\n",
    "\n",
    "trace2_d1 = capture_RSA_trace(scope, target, msg2_d1)\n",
    "plt.figure()\n",
    "plt.plot(trace2_d1, 'r')"
   ]
  },
  {
   "cell_type": "code",
   "execution_count": null,
   "id": "20",
   "metadata": {},
   "outputs": [],
   "source": [
    "plt.close('all')"
   ]
  },
  {
   "cell_type": "code",
   "execution_count": null,
   "id": "21",
   "metadata": {},
   "outputs": [],
   "source": [
    "matplotlib.pyplot.close()"
   ]
  },
  {
   "cell_type": "markdown",
   "id": "22",
   "metadata": {},
   "source": [
    "### Key Reconstuction\n",
    "\n",
    "* find plaintexts x_1 and x_2 mit diff(x_1) = 0 und diff(x_2) = 1.\n",
    "* mittels binäre suche: finde x mit diff(x-1) = 0 und diff(x) = 1 -> x ist Vielfaches von p \n",
    "* ggt(x, n) = p\n",
    "* x^e mod n"
   ]
  },
  {
   "cell_type": "markdown",
   "id": "23",
   "metadata": {},
   "source": [
    "### Algorithmus\n",
    "\n",
    "Reconstruction of p when its bitlength is half bitlength of n\n",
    "INPUT: modulus n with the bitlength t, public exponent e.\n",
    "OUTPUT: prime p such that p divides n.\n",
    "\n",
    "t = bitlenght von n \n",
    "p,q haben bitlänge t/2\n",
    "\n",
    "x = 2 ** (t/2)\n",
    "m = x/2 "
   ]
  },
  {
   "cell_type": "markdown",
   "id": "24",
   "metadata": {},
   "source": [
    "werte liegen bei 2 und bei 12 -> mitte  wählen bei mit debug \n",
    "werte liegen bei 2 und bei 11 -> mitte ist 7/6"
   ]
  },
  {
   "cell_type": "code",
   "execution_count": null,
   "id": "25",
   "metadata": {},
   "outputs": [],
   "source": [
    "# 8Byte Primzahlen \n",
    "\n",
    "t = 128\n",
    "\n",
    "# x= 2 ** (t/2) \n",
    "# m = x/2 \n",
    "# l = 0 \n",
    "\n",
    "x = 2**64\n",
    "m = x//2\n",
    "l = 0\n",
    "\n",
    "print(x, m, l)"
   ]
  },
  {
   "cell_type": "code",
   "execution_count": null,
   "id": "26",
   "metadata": {},
   "outputs": [],
   "source": [
    "\n",
    " \n",
    "plt.figure()\n",
    "\n",
    "ref_trace_msg_ = 0 # loop wird nicht ausgeführt, diff(m) = 0\n",
    "c_ = (ref_trace_msg_ ** e) % n \n",
    "msg_ = c_.to_bytes(16,'big')\n",
    "trace_ = capture_RSA_trace(scope, target, msg_)\n",
    "\n",
    "\n",
    "while m != l:\n",
    "    #enc = (m ** e) % n\n",
    "    \n",
    "    print(m, type(m), '\\n')\n",
    "    enc = pow(m, e, n)\n",
    "    msg = enc.to_bytes(16,'big')\n",
    "    \n",
    "    trace = capture_RSA_trace(scope, target, msg)\n",
    "    plt.plot(trace)\n",
    "\n",
    "    diff = np.sum(np.abs(trace - trace_))\n",
    "    print(\"{:1} diff = {:2}\".format(m, diff))\n",
    "    \n",
    "    #check if diff(m) = 1\n",
    "    #if (m % 62549) - (m % 61543) < 0:\n",
    "    #sad = 5 for diff(x) = 1 und diff(y) = 0 für debug 1 -> diff < 3\n",
    "    # no debug: diff < 10\n",
    "    if diff < 8: # ähnliche -> diff(m) = 0\n",
    "        l = m\n",
    "    else: #unterscheidet sich von ref_trace -> diff(m) = 1\n",
    "        x = m\n",
    "        \n",
    "    m = (l + x)//2\n",
    "    \n",
    "    \n",
    "\n",
    "print (x)\n",
    "    "
   ]
  },
  {
   "cell_type": "markdown",
   "id": "27",
   "metadata": {},
   "source": [
    "p = 14091828191315287507\n",
    "q = 6353019252147394247\n",
    "N = 89525655797379415138998373505682772229"
   ]
  },
  {
   "cell_type": "markdown",
   "id": "28",
   "metadata": {},
   "source": [
    "q = N // p\n",
    "euler = (p-1)*(q-1)\n",
    "\n",
    "-> d durch erweiterter euklidischer algo "
   ]
  },
  {
   "cell_type": "code",
   "execution_count": null,
   "id": "29",
   "metadata": {},
   "outputs": [],
   "source": [
    "scope.dis()\n",
    "target.dis()"
   ]
  }
 ],
 "metadata": {
  "kernelspec": {
   "display_name": "Python 3 (ipykernel)",
   "language": "python",
   "name": "python3"
  },
  "language_info": {
   "codemirror_mode": {
    "name": "ipython",
    "version": 3
   },
   "file_extension": ".py",
   "mimetype": "text/x-python",
   "name": "python",
   "nbconvert_exporter": "python",
   "pygments_lexer": "ipython3",
   "version": "3.11.9"
  }
 },
 "nbformat": 4,
 "nbformat_minor": 5
}
