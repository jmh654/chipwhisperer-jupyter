{
 "cells": [
  {
   "cell_type": "markdown",
   "id": "0",
   "metadata": {},
   "source": [
    "### Setup"
   ]
  },
  {
   "cell_type": "code",
   "execution_count": null,
   "id": "1",
   "metadata": {},
   "outputs": [],
   "source": [
    "SCOPETYPE = 'OPENADC'\n",
    "PLATFORM = 'CWLITEXMEGA'\n",
    "CRYPTO_TARGET = 'MBEDTLS'"
   ]
  },
  {
   "cell_type": "code",
   "execution_count": null,
   "id": "2",
   "metadata": {},
   "outputs": [],
   "source": [
    "%%bash -s \"$PLATFORM\" \"$CRYPTO_TARGET\"\n",
    "cd ../../../hardware/victims/firmware/simpleserial-rsa\n",
    "#make clean PLATFORM=$1 CRYPTO_TARGET=$2\n",
    "make PLATFORM=$1 CRYPTO_TARGET=$2 "
   ]
  },
  {
   "cell_type": "code",
   "execution_count": null,
   "id": "3",
   "metadata": {},
   "outputs": [],
   "source": [
    "%run \"../../Setup_Scripts/Setup_Generic.ipynb\""
   ]
  },
  {
   "cell_type": "code",
   "execution_count": null,
   "id": "4",
   "metadata": {},
   "outputs": [],
   "source": [
    "fw_path = '../../../hardware/victims/firmware/simpleserial-rsa/simpleserial-rsa-CWLITEXMEGA.hex'"
   ]
  },
  {
   "cell_type": "code",
   "execution_count": null,
   "id": "5",
   "metadata": {},
   "outputs": [],
   "source": [
    "cw.program_target(scope, prog, fw_path)"
   ]
  },
  {
   "cell_type": "code",
   "execution_count": null,
   "id": "6",
   "metadata": {},
   "outputs": [],
   "source": [
    "import numpy as np\n",
    "import time \n",
    "import matplotlib.pylab as plt\n",
    "import matplotlib"
   ]
  },
  {
   "cell_type": "code",
   "execution_count": null,
   "id": "7",
   "metadata": {},
   "outputs": [],
   "source": [
    "e = 65537\n",
    "n = 52270967183635299110959169812507925945033892524340745668343932985606720718177"
   ]
  },
  {
   "cell_type": "markdown",
   "id": "8",
   "metadata": {},
   "source": [
    "### find numbers"
   ]
  },
  {
   "cell_type": "code",
   "execution_count": null,
   "id": "9",
   "metadata": {},
   "outputs": [],
   "source": [
    "def find_valid_msgs(p, q, e, n, max_msg):\n",
    "    valid_msgs = []\n",
    "    for msg in range(1, max_msg + 1):  # Iterate through possible msg values\n",
    "        x = pow(msg, e, n)  # Compute (msg^e) % n efficiently using modular exponentiation\n",
    "        if (x % p) - (x % q) < 0:  # Check the condition\n",
    "            valid_msgs.append(msg)\n",
    "    return valid_msgs\n",
    "\n",
    "# Parameters\n",
    "p = \n",
    "q = \n",
    "max_msg = 10000  # Set a range for msg (you can adjust this range)\n",
    "\n",
    "# Find and display valid messages\n",
    "valid_msgs = find_valid_msgs(p, q, e, n, max_msg)\n",
    "print(f\"Valid messages: {valid_msgs}\")"
   ]
  },
  {
   "cell_type": "markdown",
   "id": "10",
   "metadata": {},
   "source": [
    "#### some valid messages\n",
    "2, 3, 7, 8, 10, 12, 13, 14, 15, 16, 18, 19, 21, 29, 31, 33, 34, 38, 40, 41, 42, 44, 46, 48, 49, 50, 51, 52, 55, 56, 59, 61, 62, 63, 64, 66, 70, 75, 76, 77, 78, 80, 81, 82, 83, 84, 85, 86, 87, 89, 92, 98, 99, 100, 103, 104, 105, 106, 107, 109, 110, 111, 115, 116, 119, 120, 121, 122, 124, 126, 127, 128, 132, 133, 136, 137, 140, 141, 142, 144, 147, 148, 149, 152, 153, 156, 157, 166, 173, 175, 179, 180, 181, 182, 184, 185, 191, 192, 193, 195, 196, 197, 200, 201, 206, 207, 210, 212, 213, 214, 215, 216, 217, 218, 219, 220, 221, 222, 223, 225, 226, 227, 229, 231, 232, 237,806, 807, 808, 818, 820, 823, 828, 829, 830, 831, 838, 841, 843, 844, 846, 848, 849, 852, 853, 857, 860, 866, 869, 870, 873, 876, 877, 878, 880, 883, 884, 886, 887, 893, 895, 896, 901, 903, 905, 906, 907, 908, 911, 912, 913, 915, 916, 918, 922, 923, 925, 926, 929, 933, 934, 935, 936, 938, 940, 943, 944, 945, 948, 949, 950, 951, 958, 959, 961, 962, 963, 965, 966, 969, 970, 971, 975, 976, 977, 979, 981, 982, 983, 988, 989, 990, 991, 992, 996, 997, 999, 1000, 1001, 1003, 1007, 1009, 1010, 1015, 1016, 1019, 1020, 1022, 1026, 1029, 1037, 1040, 1041, 1042, 1044, 1045, 1051, 1055, 1056, 1057, 1061, 1062, 1064, 1065, 1066, 1067, 1069, 1070, 1071, 1073, 1075, 1081, 1082, 1083, 1084, 1085, 1087, 1088, 1089, 1096, 1097, 1098, 1099, 1100, 1101, 1102, 1103, 1104, 1107, 1108, 1112, 1113, 1119, 1120, 1124, 1125, 1126, 1127, 1128, 1131, 1133, 1137, 1139, 1141, 1142, 1146, 1147, 1148, 1149, 1155, 1158, 1160, 1162, 1167, 1168, 1171, 1172, 1175, 1177, 117"
   ]
  },
  {
   "cell_type": "code",
   "execution_count": null,
   "id": "11",
   "metadata": {},
   "outputs": [],
   "source": [
    "def find_valid_msgs(p, q, e, n, max_msg):\n",
    "    valid_msgs = []\n",
    "    for msg in range(1, max_msg + 1):  # Iterate through possible msg values\n",
    "        x = pow(msg, e, n)  # Compute (msg^e) % n efficiently using modular exponentiation\n",
    "        if (x % p) - (x % q) > 0:  # Check the condition\n",
    "            valid_msgs.append(msg)\n",
    "    return valid_msgs\n",
    "\n",
    "# Parameters\n",
    "p =\n",
    "q = \n",
    "max_msg = 1000  # Set a range for msg (you can adjust this range)\n",
    "\n",
    "# Find and display valid messages\n",
    "valid_msgs = find_valid_msgs(p, q, e, n, max_msg)\n",
    "print(f\"Valid messages: {valid_msgs}\")"
   ]
  },
  {
   "cell_type": "markdown",
   "id": "12",
   "metadata": {},
   "source": [
    "### capture trace setup"
   ]
  },
  {
   "cell_type": "code",
   "execution_count": null,
   "id": "13",
   "metadata": {},
   "outputs": [],
   "source": [
    "scope.clock.adc_src = \"clkgen_x1\"\n",
    "scope.adc.samples = 1500\n",
    "\n",
    "scope.adc.timeout = 50"
   ]
  },
  {
   "cell_type": "code",
   "execution_count": null,
   "id": "14",
   "metadata": {},
   "outputs": [],
   "source": [
    "import time\n",
    "\n",
    "def capture_RSA_trace(scope, target, text):\n",
    "    scope.arm()\n",
    "    target.simpleserial_write('t', text)\n",
    "\n",
    "    # get debug output, nötig?\n",
    "    #rec_str = target.read(1000, timeout=2000)\n",
    "    #received_str = rec_str.replace(\"\\\\r\\\\n\", \"\\n\")\n",
    "    #print(received_str)\n",
    "    \n",
    "    ret = scope.capture()\n",
    "    if ret:\n",
    "        print('Timeout happened during acquisition')\n",
    "\n",
    "    time.sleep(2)\n",
    "    output = target.read(timeout=20)\n",
    "    print('first: ', output.replace(\"\\\\r\\\\n\\\\z00\", \"\\n\"))\n",
    "    \n",
    "    target.write(\"1\\n\")\n",
    "    time.sleep(0.2)\n",
    "    #output += target.read(timeout=10)\n",
    "    output = target.read(timeout=10) \n",
    "    print('next 48 bytes: ', output.replace(\"r\", \"\").replace(\"\\nz00\",\"\").replace(\"\\n\",\"\"))\n",
    "\n",
    "    target.write(\"2\\n\")\n",
    "    time.sleep(0.2)\n",
    "    #output += target.read(timeout=10)\n",
    "    output = target.read(timeout=10) \n",
    "    print('last bytes: ', output.replace(\"r\", \"\").replace(\"\\nz00\",\"\").replace(\"\\n\",\"\"))\n",
    "\n",
    "\n",
    "    #newout = output.replace(\"r\", \"\").replace(\"\\nz00\",\"\").replace(\"\\n\",\"\")\n",
    "    #print('output: ', newout)\n",
    "\n",
    "    if SCOPETYPE == \"OPENADC\":\n",
    "        print('#samples: ', scope.adc.trig_count)\n",
    "    \n",
    "    target.simpleserial_wait_ack() #!!!!\n",
    "    return scope.get_last_trace()"
   ]
  },
  {
   "cell_type": "code",
   "execution_count": null,
   "id": "15",
   "metadata": {},
   "outputs": [],
   "source": [
    "import time\n",
    "\n",
    "def capture_RSA_trace(scope, target, text):\n",
    "    target.flush()\n",
    "    scope.arm()\n",
    "    target.simpleserial_write('t', text)\n",
    "\n",
    "    # get debug output, nötig?\n",
    "    #rec_str = target.read(1000, timeout=2000)\n",
    "    #received_str = rec_str.replace(\"\\\\r\\\\n\", \"\\n\")\n",
    "    #print(received_str)\n",
    "    \n",
    "    ret = scope.capture()\n",
    "    if ret:\n",
    "        print('Timeout happened during acquisition')\n",
    "\n",
    "    time.sleep(2)\n",
    "    output = target.read(2000, timeout=200)\n",
    "    print(output.replace(\"\\\\r\\\\n\\\\z00\", \"\\n\"))\n",
    "\n",
    "    if SCOPETYPE == \"OPENADC\":\n",
    "        print('#samples: ', scope.adc.trig_count)\n",
    "    \n",
    "    target.simpleserial_wait_ack() #!!!!\n",
    "    return scope.get_last_trace()"
   ]
  },
  {
   "cell_type": "markdown",
   "id": "16",
   "metadata": {},
   "source": [
    "### test numbers for 16 Byte prim numbers"
   ]
  },
  {
   "cell_type": "code",
   "execution_count": null,
   "id": "17",
   "metadata": {},
   "outputs": [],
   "source": [
    "%matplotlib ipympl\n",
    "import matplotlib.pylab as plt\n",
    "\n",
    "msg = 1\n",
    "c = (msg ** e) % n\n",
    "\n",
    "msg2_d1 = c.to_bytes(32,'big')\n",
    "\n",
    "print(c, msg2_d1, type(msg2_d1))\n",
    "\n",
    "trace2_d1 = capture_RSA_trace(scope, target, msg2_d1)\n",
    "plt.figure()\n",
    "plt.plot(trace2_d1, 'r')\n",
    "\n"
   ]
  },
  {
   "cell_type": "code",
   "execution_count": null,
   "id": "18",
   "metadata": {},
   "outputs": [],
   "source": [
    "%matplotlib ipympl\n",
    "import matplotlib.pylab as plt\n",
    "\n",
    "msg = 54\n",
    "c = (msg ** e) % n\n",
    "\n",
    "cb = c.to_bytes(32,'big')\n",
    "\n",
    "print( 'encrypted: ', c, cb, type(cb), hex(c))\n",
    "\n",
    "trace1 = capture_RSA_trace(scope, target, cb)\n",
    "plt.figure()\n",
    "plt.plot(trace1, 'r')"
   ]
  },
  {
   "cell_type": "code",
   "execution_count": null,
   "id": "19",
   "metadata": {},
   "outputs": [],
   "source": [
    "%matplotlib ipympl\n",
    "import matplotlib.pylab as plt\n",
    "\n",
    "msg = 8569\n",
    "c = (msg ** e) % n\n",
    "\n",
    "cb = c.to_bytes(32,'big')\n",
    "\n",
    "print( 'encrypted: ', c, cb, type(cb), hex(c))\n",
    "\n",
    "trace1 = capture_RSA_trace(scope, target, cb)\n",
    "plt.figure()\n",
    "plt.plot(trace1, 'r')"
   ]
  },
  {
   "cell_type": "code",
   "execution_count": null,
   "id": "20",
   "metadata": {},
   "outputs": [],
   "source": [
    "%matplotlib ipympl\n",
    "import matplotlib.pylab as plt\n",
    "\n",
    "msg = 10 #A\n",
    "c = (msg ** e) % n\n",
    "\n",
    "cb = c.to_bytes(32,'big')\n",
    "\n",
    "print( 'encrypted: ', c, cb, type(cb), hex(c))\n",
    "\n",
    "trace2 = capture_RSA_trace(scope, target, cb)\n",
    "plt.figure()\n",
    "plt.plot(trace2, 'r')"
   ]
  },
  {
   "cell_type": "code",
   "execution_count": null,
   "id": "21",
   "metadata": {},
   "outputs": [],
   "source": [
    "%matplotlib ipympl\n",
    "import matplotlib.pylab as plt\n",
    "\n",
    "msg = 1007 #3EF\n",
    "c = (msg ** e) % n\n",
    "\n",
    "cb = c.to_bytes(32,'big')\n",
    "\n",
    "print( 'encrypted: ', c, cb, type(cb), hex(c))\n",
    "\n",
    "trace2 = capture_RSA_trace(scope, target, cb)\n",
    "plt.figure()\n",
    "plt.plot(trace2, 'r')"
   ]
  },
  {
   "cell_type": "code",
   "execution_count": null,
   "id": "22",
   "metadata": {},
   "outputs": [],
   "source": [
    "%matplotlib ipympl\n",
    "import matplotlib.pylab as plt\n",
    "\n",
    "msg = 57344\n",
    "c = (msg ** e) % n\n",
    "\n",
    "cb = c.to_bytes(32,'big')\n",
    "\n",
    "print( 'encrypted: ', c, cb, type(cb), hex(c))\n",
    "\n",
    "trace2 = capture_RSA_trace(scope, target, cb)\n",
    "plt.figure()\n",
    "plt.plot(trace2, 'r')"
   ]
  },
  {
   "cell_type": "code",
   "execution_count": null,
   "id": "23",
   "metadata": {},
   "outputs": [],
   "source": [
    "%matplotlib ipympl\n",
    "import matplotlib.pylab as plt\n",
    "\n",
    "msg = 61440\n",
    "c = (msg ** e) % n\n",
    "\n",
    "cb = c.to_bytes(32,'big')\n",
    "\n",
    "print( 'encrypted: ', c, cb, type(cb), hex(c))\n",
    "\n",
    "trace2 = capture_RSA_trace(scope, target, cb)\n",
    "plt.figure()\n",
    "plt.plot(trace2, 'r')\n"
   ]
  },
  {
   "cell_type": "code",
   "execution_count": null,
   "id": "24",
   "metadata": {},
   "outputs": [],
   "source": [
    "%matplotlib ipympl\n",
    "import matplotlib.pylab as plt\n",
    "\n",
    "msg = 589 #245D \n",
    "c = (msg ** e) % n\n",
    "\n",
    "msg2_d1 = c.to_bytes(32,'big')\n",
    "\n",
    "print(c, msg2_d1, type(msg2_d1), hex(c))\n",
    "\n",
    "trace2_d1 = capture_RSA_trace(scope, target, msg2_d1)\n",
    "plt.figure()\n",
    "plt.plot(trace2_d1, 'r')\n"
   ]
  },
  {
   "cell_type": "markdown",
   "id": "25",
   "metadata": {},
   "source": [
    "### Key Reconstuction\n",
    "\n",
    "* find plaintexts x_1 and x_2 mit diff(x_1) = 0 und diff(x_2) = 1.\n",
    "* mittels binäre suche: finde x mit diff(x-1) = 0 und diff(x) = 1 -> x ist Vielfaches von p \n",
    "* ggt(x, n) = p\n",
    "* x^e mod n"
   ]
  },
  {
   "cell_type": "markdown",
   "id": "26",
   "metadata": {},
   "source": [
    "### Algorithmus\n",
    "\n",
    "Reconstruction of p when its bitlength is half bitlength of n\n",
    "INPUT: modulus n with the bitlength t, public exponent e.\n",
    "OUTPUT: prime p such that p divides n.\n",
    "\n",
    "t = bitlenght von n \n",
    "p,q haben bitlänge t/2\n",
    "\n",
    "x = 2 ** (t/2)\n",
    "m = x/2 "
   ]
  },
  {
   "cell_type": "code",
   "execution_count": null,
   "id": "27",
   "metadata": {},
   "outputs": [],
   "source": [
    "# 16 Byte Primzahlen \n",
    "\n",
    "t = 256\n",
    "\n",
    "# x= 2 ** (t/2) \n",
    "# m = x/2 \n",
    "\n",
    "x = 2**128\n",
    "m = x//2\n",
    "l = 0\n",
    "\n",
    "print(x, m, l)"
   ]
  },
  {
   "cell_type": "code",
   "execution_count": null,
   "id": "28",
   "metadata": {},
   "outputs": [],
   "source": [
    "\n",
    " \n",
    "plt.figure()\n",
    "\n",
    "ref_trace_msg_ = 54 # t1>t2 diff(m) = 0\n",
    "c_ = (ref_trace_msg_ ** e) % n \n",
    "msg_ = c_.to_bytes(32,'big')\n",
    "trace_ = capture_RSA_trace(scope, target, msg_)\n",
    "\n",
    "\n",
    "while m != l:\n",
    "    print(m, hex(m), '\\n')\n",
    "    enc = pow(m, e, n)\n",
    "    msg = enc.to_bytes(32,'big')\n",
    "    \n",
    "    trace = capture_RSA_trace(scope, target, msg)\n",
    "    plt.plot(trace)\n",
    "\n",
    "    diff = np.sum(np.abs(trace - trace_))\n",
    "    print(m, hex(enc), diff)\n",
    "    \n",
    "    # same: ~ 15\n",
    "    # diff: ~ 70\n",
    "    if diff < 45: # ähnliche -> diff(m) = 0\n",
    "        l = m\n",
    "    else: #unterscheidet sich von ref_trace -> diff(m) = 1\n",
    "        x = m\n",
    "        \n",
    "    m = (l + x)//2\n",
    "    \n",
    "    \n",
    "\n",
    "print (x)\n",
    "\n",
    "\n",
    "    "
   ]
  },
  {
   "cell_type": "markdown",
   "id": "29",
   "metadata": {},
   "source": [
    "p = 14091828191315287507\n",
    "q = 6353019252147394247\n",
    "N = 89525655797379415138998373505682772229"
   ]
  },
  {
   "cell_type": "markdown",
   "id": "30",
   "metadata": {},
   "source": [
    "q = N // p\n",
    "euler = (p-1)*(q-1)\n",
    "\n",
    "-> d durch erweiterter euklidischer algo "
   ]
  },
  {
   "cell_type": "code",
   "execution_count": null,
   "id": "31",
   "metadata": {},
   "outputs": [],
   "source": [
    "scope.dis()\n",
    "target.dis()"
   ]
  },
  {
   "cell_type": "code",
   "execution_count": null,
   "id": "32",
   "metadata": {},
   "outputs": [],
   "source": []
  }
 ],
 "metadata": {
  "kernelspec": {
   "display_name": "Python 3 (ipykernel)",
   "language": "python",
   "name": "python3"
  },
  "language_info": {
   "codemirror_mode": {
    "name": "ipython",
    "version": 3
   },
   "file_extension": ".py",
   "mimetype": "text/x-python",
   "name": "python",
   "nbconvert_exporter": "python",
   "pygments_lexer": "ipython3",
   "version": "3.11.9"
  }
 },
 "nbformat": 4,
 "nbformat_minor": 5
}
