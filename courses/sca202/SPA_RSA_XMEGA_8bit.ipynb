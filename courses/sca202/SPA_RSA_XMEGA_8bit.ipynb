{
 "cells": [
  {
   "cell_type": "markdown",
   "metadata": {},
   "source": [
    "# SPA against RSA on XMEGA (8-bit implementation)\n",
    "\n",
    "Supported setups:\n",
    "\n",
    "SCOPES:\n",
    "\n",
    "* OPENADC\n",
    "\n",
    "PLATFORMS:\n",
    "\n",
    "* CWLITEXMEGA or CW303\n",
    "\n",
    "Note this *only* works with an XMEGA target. This tutorial does not work with any other platforms. This is because the RSA implementation in use is `avr-crypto-lib`, which is has AVR assembly code to accelerate certain routines. A later tutorial will demonstrate a similar (but not *exactly* the same) attack on MBED-TLS RSA implementation."
   ]
  },
  {
   "cell_type": "code",
   "execution_count": null,
   "metadata": {},
   "outputs": [],
   "source": [
    "SCOPETYPE = 'OPENADC'\n",
    "PLATFORM = 'CWLITEXMEGA'\n",
    "CRYPTO_TARGET = 'AVRCRYPTOLIB'"
   ]
  },
  {
   "cell_type": "code",
   "execution_count": null,
   "metadata": {},
   "outputs": [],
   "source": [
    "%%bash -s \"$PLATFORM\" \"$CRYPTO_TARGET\"\n",
    "cd ../../../hardware/victims/firmware/simpleserial-rsa\n",
    "make PLATFORM=$1 CRYPTO_TARGET=$2"
   ]
  },
  {
   "cell_type": "code",
   "execution_count": null,
   "metadata": {},
   "outputs": [],
   "source": [
    "%run \"../../Setup_Scripts/Setup_Generic.ipynb\""
   ]
  },
  {
   "cell_type": "code",
   "execution_count": null,
   "metadata": {},
   "outputs": [],
   "source": [
    "fw_path = '../../../hardware/victims/firmware/simpleserial-rsa/simpleserial-rsa-CWLITEXMEGA.hex'"
   ]
  },
  {
   "cell_type": "code",
   "execution_count": null,
   "metadata": {},
   "outputs": [],
   "source": [
    "cw.program_target(scope, prog, fw_path)"
   ]
  },
  {
   "cell_type": "markdown",
   "metadata": {},
   "source": [
    "## Communicating With Target and Testing"
   ]
  },
  {
   "cell_type": "code",
   "execution_count": null,
   "metadata": {},
   "outputs": [],
   "source": [
    "scope.clock.adc_src = \"clkgen_x1\"\n",
    "scope.adc.samples = 10000"
   ]
  },
  {
   "cell_type": "code",
   "execution_count": null,
   "metadata": {},
   "outputs": [],
   "source": [
    "import matplotlib.pylab as plt\n",
    "import matplotlib\n",
    "import numpy as np\n"
   ]
  },
  {
   "cell_type": "code",
   "execution_count": null,
   "metadata": {},
   "outputs": [],
   "source": [
    "def capture_RSA_trace(scope, target, text):\n",
    "    scope.arm()\n",
    "    target.simpleserial_write('p', text)\n",
    "    \n",
    "    ret = scope.capture()\n",
    "    if ret:\n",
    "        return ('Timeout happened')\n",
    "\n",
    "    #liefert #samples zw trigger\n",
    "    if SCOPETYPE == \"OPENADC\":\n",
    "        print('#samples: ', scope.adc.trig_count)\n",
    "\n",
    "\n",
    "    target.simpleserial_wait_ack()\n",
    "    return scope.get_last_trace()"
   ]
  },
  {
   "cell_type": "markdown",
   "metadata": {},
   "source": [
    "### Breaking RSA 1"
   ]
  },
  {
   "cell_type": "code",
   "execution_count": null,
   "metadata": {},
   "outputs": [],
   "source": [
    "key = bytearray([0, 0, 0, 0, 0, 0, 0, 0, 0, 0, 0, 0, 0, 0, 0x00, 0xab])\n",
    "trace = capture_RSA_trace(scope, target, key)\n",
    "\n",
    "%matplotlib ipympl\n",
    "plt.figure()\n",
    "\n",
    "plt.plot(trace, 'r')"
   ]
  },
  {
   "cell_type": "code",
   "execution_count": null,
   "metadata": {},
   "outputs": [],
   "source": [
    "%matplotlib ipympl\n",
    "plt.figure()\n",
    "\n",
    "#ref_trace = trace[3600:4100]\n",
    "ref_trace = trace [3000:3600]\n",
    "plt.plot(ref_trace, 'b')"
   ]
  },
  {
   "cell_type": "code",
   "execution_count": null,
   "metadata": {},
   "outputs": [],
   "source": [
    "import numpy as np\n",
    "start = 3000\n",
    "rsa_one = trace[start:(start+600)]      \n",
    "diffs = []\n",
    "for i in range(0, len(trace)-len(rsa_one)):\n",
    "    diff = trace[i:(i+len(rsa_one))] - rsa_one    \n",
    "    diffs.append(np.sum(abs(diff)))\n",
    "    \n",
    "plt.figure()\n",
    "plt.plot(diffs)\n",
    "plt.title('SAD Match for RSA')\n",
    "plt.ylabel('SAD Difference')\n",
    "plt.xlabel('Offset')"
   ]
  },
  {
   "cell_type": "code",
   "execution_count": null,
   "metadata": {},
   "outputs": [],
   "source": [
    "#alle zeitpunkte mit sad < 33\n",
    "times = np.where(np.array(diffs) < 34.0)[0]\n",
    "print(len(times), 'times: ', times)\n",
    "\n",
    "# ignoriere ausschläge vor zeitpunkt 2000\n",
    "times = times[np.where(times >= 2000)]\n",
    "print(len(times), 'times: ', times)"
   ]
  },
  {
   "cell_type": "code",
   "execution_count": null,
   "metadata": {},
   "outputs": [],
   "source": [
    "deltalist = []\n",
    "i = 0\n",
    "while i < len(times)-1:\n",
    "    y = i+1\n",
    "    delta = times[y] - times[i]\n",
    "    if delta < 2: # werte liegen zu nahe beinander -> selber ausschlag \n",
    "        i += 1\n",
    "        continue\n",
    "    #print(delta, times[i], times[y])\n",
    "    deltalist.append(delta)\n",
    "    i +=1\n",
    "\n",
    "print(len(deltalist), 'deltas: ', deltalist)\n",
    "\n",
    "#deltas = [x for x in deltalist if x > 2]\n",
    "#print(len(deltalist), 'deltas: ', deltalist)\n"
   ]
  },
  {
   "cell_type": "code",
   "execution_count": null,
   "metadata": {},
   "outputs": [],
   "source": [
    "threshold = 220\n",
    "add_to_last_delta = 600\n",
    "add_to_first_delta = 150\n",
    "deltas = []\n",
    "\n",
    "# wenn 2 ausschläge zu einem bit (dem 1 Bit) gehören, wähle den ersten \n",
    "# addiere den kleinen wert zu nächsen großen \n",
    "# wähle immer 0 1 und nicht 1 0 \n",
    "i = 0\n",
    "while i < len(deltalist):\n",
    "    if deltalist[i] < threshold:\n",
    "        if i + 1 < len(deltalist):\n",
    "            deltas.append(deltalist[i] + deltalist[i+1])\n",
    "        else: # letzte wert ist 'klein' -> last bit ist 1 -> mache diesen zu einem 'großen' \n",
    "            deltas.append(deltalist[i] + add_to_last_delta)\n",
    "        i +=2\n",
    "    else:\n",
    "        deltas.append(deltalist[i])\n",
    "        i += 1\n",
    "\n",
    "#erstes bit wird als 0 erkannt, ist aber immer 1\n",
    "deltas[0] = deltas[0] + add_to_first_delta\n",
    "\n",
    "print(len(deltas), 'merged deltas: ', deltas)"
   ]
  },
  {
   "cell_type": "code",
   "execution_count": null,
   "metadata": {},
   "outputs": [],
   "source": [
    "plt.figure()\n",
    "plt.plot(deltas, range(0, len(deltas)), 'or')\n",
    "plt.grid(True)\n",
    "plt.title('A Learned Comparison of RSA Execution Time')\n",
    "plt.ylabel('Processing Bit Number')\n",
    "plt.xlabel('Time Delta (based on SAD Match)')"
   ]
  },
  {
   "cell_type": "code",
   "execution_count": null,
   "metadata": {},
   "outputs": [],
   "source": [
    "key = \"\" \n",
    "for i in range(0, len(deltas)): \n",
    "    if deltas[i] > 750: \n",
    "        key += \"1\"\n",
    "    else: \n",
    "        key += \"0\"\n",
    "\n",
    "print(key)\n",
    "print(\"%04X\"%int(key, 2))"
   ]
  },
  {
   "cell_type": "markdown",
   "metadata": {},
   "source": [
    "key = \"\"\n",
    "times = np.where(np.array(diffs) < 23)[0]\n",
    "times = times[np.where(times >= 2000)]\n",
    "\n",
    "for i in range(0, len(times)-1):\n",
    "    delta = times[i+1] - times[i]\n",
    "    print(delta)\n",
    "    if delta < 2: \n",
    "        continue\n",
    "    if delta > 800:\n",
    "        key += \"1\"\n",
    "    else:\n",
    "        key += \"0\"\n",
    "key += \"0\"    \n",
    "print(key)\n",
    "print(\"%04X\"%int(key, 2))"
   ]
  },
  {
   "cell_type": "markdown",
   "metadata": {},
   "source": [
    "## Breaking RSA\n",
    "Now that we have such a target we can get power traces from, how to break RSA? The easiest way is actually with a \"single-trace\" attack. Let's capture a single RSA trace here:"
   ]
  },
  {
   "cell_type": "code",
   "execution_count": null,
   "metadata": {},
   "outputs": [],
   "source": [
    "key = bytearray([0, 0, 0, 0, 0, 0, 0, 0, 0, 0, 0, 0, 0, 0, 0x00, 0xab])\n",
    "trace = capture_RSA_trace(scope, target, key)"
   ]
  },
  {
   "cell_type": "code",
   "execution_count": null,
   "metadata": {},
   "outputs": [],
   "source": [
    "%matplotlib ipympl\n",
    "plt.figure()\n",
    "\n",
    "plt.plot(trace, 'r')"
   ]
  },
  {
   "cell_type": "code",
   "execution_count": null,
   "metadata": {},
   "outputs": [],
   "source": [
    "%matplotlib ipympl\n",
    "plt.figure()\n",
    "\n",
    "#ref_trace = trace[3600:4100]\n",
    "ref_trace = trace [3000:3600]\n",
    "plt.plot(ref_trace, 'b')"
   ]
  },
  {
   "cell_type": "code",
   "execution_count": null,
   "metadata": {},
   "outputs": [],
   "source": [
    "import ipywidgets as widgets\n",
    "import matplotlib.pyplot as plt\n",
    "from IPython.display import display\n",
    "import numpy as np\n",
    "#%matplotlib inline\n",
    "\n",
    "@widgets.interact(offset=(0, len(trace)))\n",
    "def plotsad(offset=3000):\n",
    "    plt.figure()\n",
    "    plt.plot(trace, 'r')\n",
    "    plt.plot(range(offset, offset+len(ref_trace)), ref_trace, 'b', alpha=0.6)\n",
    "    plt.show()\n",
    "    \n",
    "    plt.figure()\n",
    "    diff = ref_trace-trace[offset:(offset+len(ref_trace))]\n",
    "    plt.plot(range(offset, offset+len(ref_trace)), diff, 'g', alpha=0.6)\n",
    "    plt.show()\n",
    "    print(np.sum(abs(diff)))\n",
    "    "
   ]
  },
  {
   "cell_type": "code",
   "execution_count": null,
   "metadata": {},
   "outputs": [],
   "source": [
    "import numpy as np\n",
    "start = 3000\n",
    "rsa_one = trace[start:(start+600)]      \n",
    "diffs = []\n",
    "for i in range(0, len(trace)-len(rsa_one)):\n",
    "    diff = trace[i:(i+len(rsa_one))] - rsa_one    \n",
    "    diffs.append(np.sum(abs(diff)))\n",
    "    \n",
    "plt.figure()\n",
    "plt.plot(diffs)\n",
    "plt.title('SAD Match for RSA')\n",
    "plt.ylabel('SAD Difference')\n",
    "plt.xlabel('Offset')"
   ]
  },
  {
   "cell_type": "markdown",
   "metadata": {},
   "source": []
  },
  {
   "cell_type": "code",
   "execution_count": null,
   "metadata": {},
   "outputs": [],
   "source": [
    "#og version\n",
    "\n",
    "times = np.where(np.array(diffs) < 20.0)[0]\n",
    "print(len(times), 'times: ', times)\n",
    "deltalist = []\n",
    "for i in range(0, len(times)-1):\n",
    "    delta = times[i+1] - times[i]\n",
    "    deltalist.append(delta)\n",
    "print(len(deltalist), 'deltas: ', deltalist)"
   ]
  },
  {
   "cell_type": "code",
   "execution_count": null,
   "metadata": {},
   "outputs": [],
   "source": [
    "#optimierte? version\n",
    "\n",
    "times = np.where(np.array(diffs) < 21)[0]\n",
    "print(len(times), 'times: ', times)\n",
    "deltalist = []\n",
    "i = 0\n",
    "while i < len(times)-1:\n",
    "    y = i+1\n",
    "    delta = times[y] - times[i]\n",
    "    print(delta, times[i], times[y])\n",
    "    #add \n",
    "    if delta < 300:\n",
    "        y = y + 1\n",
    "        if y > len(times)-1:\n",
    "            break\n",
    "        delta = times[y] - times[i]\n",
    "        print('N: ', delta, times[i], times[y])\n",
    "        i+=1\n",
    "    i+=1\n",
    "        \n",
    "    deltalist.append(delta)\n",
    "\n",
    "print(len(deltalist), 'deltas: ', deltalist)"
   ]
  },
  {
   "cell_type": "markdown",
   "metadata": {},
   "source": [
    "And we can then plot the time deltas:"
   ]
  },
  {
   "cell_type": "code",
   "execution_count": null,
   "metadata": {},
   "outputs": [],
   "source": [
    "plt.figure()\n",
    "plt.plot(deltalist, range(0, len(deltalist)), 'or')\n",
    "plt.grid(True)\n",
    "plt.title('A Learned Comparison of RSA Execution Time')\n",
    "plt.ylabel('Processing Bit Number')\n",
    "plt.xlabel('Time Delta (based on SAD Match)')"
   ]
  },
  {
   "cell_type": "code",
   "execution_count": null,
   "metadata": {},
   "outputs": [],
   "source": [
    "import numpy as np\n",
    "key = \"\"\n",
    "times = np.where(np.array(diffs) < 23.0)[0]\n",
    "\n",
    "i = 0\n",
    "while i < len(times)-1:\n",
    "    y = i+1\n",
    "    delta = times[y] - times[i]\n",
    "    if delta < 300:\n",
    "        y = y + 1\n",
    "        if y > len(times)-1:\n",
    "            i+=1\n",
    "            continue\n",
    "        delta = times[y] - times[i]\n",
    "        i+=1\n",
    "    i+=1\n",
    "    if delta > 800:\n",
    "        key += \"1\"\n",
    "    else:\n",
    "        key += \"0\"\n",
    "    \n",
    "key += \"0\"\n",
    "print(key)\n",
    "print(\"%04X\"%int(key, 2))"
   ]
  },
  {
   "cell_type": "code",
   "execution_count": null,
   "metadata": {},
   "outputs": [],
   "source": [
    "import numpy as np\n",
    "key = \"\"\n",
    "times = np.where(np.array(diffs) < 21)[0]\n",
    "for i in range(0, len(times)-1):\n",
    "    delta = times[i+1] - times[i]\n",
    "    if delta > 800:\n",
    "        key += \"1\"\n",
    "    else:\n",
    "        key += \"0\"\n",
    "key += \"0\"    #warum? letztes bit nicht erkennbar -> just add 0\n",
    "print(key)\n",
    "print(\"%04X\"%int(key, 2))"
   ]
  },
  {
   "cell_type": "markdown",
   "metadata": {},
   "source": [
    "Hopefully that recovered the encryption key you set earlier! The last caveat is the *last bit* isn't recovered. Can you figure out a way to recover it? Why isn't it recovered?"
   ]
  },
  {
   "cell_type": "markdown",
   "metadata": {},
   "source": [
    "## Conclusion"
   ]
  },
  {
   "cell_type": "markdown",
   "metadata": {},
   "source": [
    "This tutorial has demonstrated the use of the power side-channel for performing RSA 8-bit attacks. We attacked it both using a SAD match to find the interesting points, and by performing a bandwidth-specific filter to make it more obvious when sections are 1 vs 0."
   ]
  },
  {
   "cell_type": "code",
   "execution_count": null,
   "metadata": {},
   "outputs": [],
   "source": []
  },
  {
   "cell_type": "code",
   "execution_count": null,
   "metadata": {},
   "outputs": [],
   "source": [
    "scope.dis()\n",
    "target.dis()"
   ]
  },
  {
   "cell_type": "markdown",
   "metadata": {},
   "source": [
    "## Tests"
   ]
  },
  {
   "cell_type": "code",
   "execution_count": null,
   "metadata": {},
   "outputs": [],
   "source": [
    "assert int(key_filt, 2) == 0x8AB0, \"Failed to break key with filter, adjust maximum\""
   ]
  },
  {
   "cell_type": "code",
   "execution_count": null,
   "metadata": {},
   "outputs": [],
   "source": [
    "assert int(key, 2) == 0x8AB0, \"Failed to break key with SAD Match\""
   ]
  },
  {
   "cell_type": "code",
   "execution_count": null,
   "metadata": {},
   "outputs": [],
   "source": []
  }
 ],
 "metadata": {
  "kernelspec": {
   "display_name": "Python 3 (ipykernel)",
   "language": "python",
   "name": "python3"
  },
  "language_info": {
   "codemirror_mode": {
    "name": "ipython",
    "version": 3
   },
   "file_extension": ".py",
   "mimetype": "text/x-python",
   "name": "python",
   "nbconvert_exporter": "python",
   "pygments_lexer": "ipython3",
   "version": "3.11.9"
  }
 },
 "nbformat": 4,
 "nbformat_minor": 4
}
